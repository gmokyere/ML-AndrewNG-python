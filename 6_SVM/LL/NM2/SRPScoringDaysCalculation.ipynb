{
 "cells": [
  {
   "cell_type": "code",
   "execution_count": null,
   "metadata": {},
   "outputs": [],
   "source": [
    "# Model (NM2) #\n",
    "# Definition...\n",
    "# Scoring_days = Max(Last Request date, Last Trip date, SRP Data Collection Start Date) - SRP Data Collection Start Date + 1\n",
    "# If we choose to use SRP Final Score Date...\n",
    "# Scoring_days = SRP Final Score Date - SRP Data Collection Start Date + 1\n",
    "\n",
    "# SRP Version (NM1) #\n",
    "# Scoring_days = Max(Last Request date prior to SRP Final Score Date) - Registration Date\n",
    "\n",
    "# Heartbeat Data:\n",
    "# Last Request date\n",
    "# Registration date\n",
    "\n",
    "# CMT Data:\n",
    "# Last Trip date\n",
    "\n",
    "# Additional model variables for scoring\n",
    "\n",
    "# SRP Data:\n",
    "# SRP Data Collection Start Date = data_clctn_start_date = Registration date (reset)\n",
    "# SRP Final Score Date\n",
    "\n",
    "# GOAL: Compare NM2 Scoring_days to NM1 Scoring_days\n",
    "# Using our model, what will SRP score look like? \n",
    "\n",
    "# Step 1:\n",
    "# Sam send Shaja - short_user_id, Max_SRP_Final_Score_Date, Min_SRP_Data_Collecion_Start_Date\n",
    "# Step 2: \n",
    "# Shaja send Sam driver summary - short_user_id, Last Trip date, model summary variables\n",
    "# Step 3: \n",
    "# Sam inner merge with Heartbeat data (Heartbeat Last Request date =< SRP Final Score Date)\n",
    "\n",
    "# SRP Final Score Date > Max(Last Request date, Last Trip date, SRP Data Collection Start Date) > SRP Data Collection Start Date\n",
    "# 3/03/2021            > Max(12/04/2020,            12/01/2020,                      6/05/2020) > 6/05/2020\n",
    "# 3/03/2021            > Max(NaN,                   12/01/2020,                      6/05/2020) > 6/05/2020\n",
    "\n",
    "# Scoring_days = Max(Last Request date, Last Trip date, SRP Data Collection Start Date) - SRP Data Collection Start Date + 1"
   ]
  },
  {
   "cell_type": "code",
   "execution_count": null,
   "metadata": {},
   "outputs": [],
   "source": [
    "# Replace data_collection_start_date with registration_date"
   ]
  },
  {
   "cell_type": "code",
   "execution_count": null,
   "metadata": {},
   "outputs": [],
   "source": [
    "# New proposal 4/13/2021\n",
    "# registration_date is the date when a new short_user_id first logs in to the app and it stays the same \n",
    "# if someone re-enrolls with the same user id.  Based on this information, the data collection start date \n",
    "# for new customers should be \"registration date\"; \n",
    "# for re-enrollment with the same id, the closest we can get is the \"Min(Last Request Date >= Re-Enrollment Date)\".\n",
    "\n",
    "# Old way: \n",
    "# Scoring_days = Max(Last Request date, Last Trip date, SRP Data Collection Start Date) - SRP Data Collection Start Date + 1\n",
    "\n",
    "# New way:\n",
    "# Scoring_days = Max(Last Request date, Last Trip date, SRP Data Collection Start Date) - SRP Data Collection Start Date + 1\n",
    "# Min(Last Request Date >= Re-Enrollment Date)"
   ]
  },
  {
   "cell_type": "markdown",
   "metadata": {},
   "source": [
    "# Import Data and Libraries"
   ]
  },
  {
   "cell_type": "code",
   "execution_count": 1,
   "metadata": {},
   "outputs": [],
   "source": [
    "import pandas as pd\n",
    "import numpy as np\n",
    "import datetime as dt\n",
    "import seaborn as sns\n",
    "import matplotlib.pyplot as plt\n",
    "from pyathena import connect\n",
    "import boto3"
   ]
  },
  {
   "cell_type": "code",
   "execution_count": 2,
   "metadata": {},
   "outputs": [
    {
     "name": "stdout",
     "output_type": "stream",
     "text": [
      "(141530, 23)\n"
     ]
    },
    {
     "data": {
      "text/html": [
       "<div>\n",
       "<style scoped>\n",
       "    .dataframe tbody tr th:only-of-type {\n",
       "        vertical-align: middle;\n",
       "    }\n",
       "\n",
       "    .dataframe tbody tr th {\n",
       "        vertical-align: top;\n",
       "    }\n",
       "\n",
       "    .dataframe thead th {\n",
       "        text-align: right;\n",
       "    }\n",
       "</style>\n",
       "<table border=\"1\" class=\"dataframe\">\n",
       "  <thead>\n",
       "    <tr style=\"text-align: right;\">\n",
       "      <th></th>\n",
       "      <th>policy_nb</th>\n",
       "      <th>channel_cd</th>\n",
       "      <th>rate_state_abbr_nm</th>\n",
       "      <th>enrollment_effective_dt</th>\n",
       "      <th>enrollment_process_dt</th>\n",
       "      <th>estmt_completion_dt</th>\n",
       "      <th>estmt_discount_apply_dt</th>\n",
       "      <th>program_add_date</th>\n",
       "      <th>program_end_date</th>\n",
       "      <th>data_clctn_start_date</th>\n",
       "      <th>...</th>\n",
       "      <th>program_type_cd</th>\n",
       "      <th>src_clctn_subject_key_id</th>\n",
       "      <th>final_score_date</th>\n",
       "      <th>score_type_cd</th>\n",
       "      <th>score_qt</th>\n",
       "      <th>final_discount_date</th>\n",
       "      <th>discount_type_cd</th>\n",
       "      <th>discount_pc</th>\n",
       "      <th>vendor_id</th>\n",
       "      <th>vendor_account_nb</th>\n",
       "    </tr>\n",
       "  </thead>\n",
       "  <tbody>\n",
       "    <tr>\n",
       "      <th>0</th>\n",
       "      <td>5106L 005381</td>\n",
       "      <td>EA</td>\n",
       "      <td>CT</td>\n",
       "      <td>2018-09-14</td>\n",
       "      <td>2018-09-18</td>\n",
       "      <td>2019-05-14</td>\n",
       "      <td>2019-07-03</td>\n",
       "      <td>2020-09-21</td>\n",
       "      <td>2019-05-16</td>\n",
       "      <td>2018-07-05</td>\n",
       "      <td>...</td>\n",
       "      <td>SRM</td>\n",
       "      <td>1</td>\n",
       "      <td>2018-11-16</td>\n",
       "      <td>DF</td>\n",
       "      <td>167</td>\n",
       "      <td>2019-05-16</td>\n",
       "      <td>DF</td>\n",
       "      <td>12</td>\n",
       "      <td>LN</td>\n",
       "      <td>7d922b80-21a2-445d-a171-91da4fb4576d</td>\n",
       "    </tr>\n",
       "    <tr>\n",
       "      <th>1</th>\n",
       "      <td>5106L 005381</td>\n",
       "      <td>EA</td>\n",
       "      <td>CT</td>\n",
       "      <td>2018-09-14</td>\n",
       "      <td>2018-09-18</td>\n",
       "      <td>2019-05-14</td>\n",
       "      <td>2019-07-03</td>\n",
       "      <td>2020-09-21</td>\n",
       "      <td>2019-05-16</td>\n",
       "      <td>2018-07-05</td>\n",
       "      <td>...</td>\n",
       "      <td>SRM</td>\n",
       "      <td>1</td>\n",
       "      <td>2020-11-17</td>\n",
       "      <td>PF</td>\n",
       "      <td>84</td>\n",
       "      <td>2020-11-17</td>\n",
       "      <td>PF</td>\n",
       "      <td>13</td>\n",
       "      <td>LN</td>\n",
       "      <td>7d922b80-21a2-445d-a171-91da4fb4576d</td>\n",
       "    </tr>\n",
       "    <tr>\n",
       "      <th>2</th>\n",
       "      <td>5106L 006339</td>\n",
       "      <td>EA</td>\n",
       "      <td>CT</td>\n",
       "      <td>2018-07-05</td>\n",
       "      <td>2018-07-09</td>\n",
       "      <td>2018-11-16</td>\n",
       "      <td>2019-01-05</td>\n",
       "      <td>2020-09-21</td>\n",
       "      <td>2018-11-20</td>\n",
       "      <td>2018-07-09</td>\n",
       "      <td>...</td>\n",
       "      <td>SRM</td>\n",
       "      <td>1</td>\n",
       "      <td>2018-11-20</td>\n",
       "      <td>DF</td>\n",
       "      <td>161</td>\n",
       "      <td>2018-11-20</td>\n",
       "      <td>DF</td>\n",
       "      <td>21</td>\n",
       "      <td>LN</td>\n",
       "      <td>3510c8ac-6510-40c8-8790-fd010a022d08</td>\n",
       "    </tr>\n",
       "    <tr>\n",
       "      <th>3</th>\n",
       "      <td>5106L 006339</td>\n",
       "      <td>EA</td>\n",
       "      <td>CT</td>\n",
       "      <td>2018-07-05</td>\n",
       "      <td>2018-07-09</td>\n",
       "      <td>2018-11-16</td>\n",
       "      <td>2019-01-05</td>\n",
       "      <td>2020-09-21</td>\n",
       "      <td>2018-11-20</td>\n",
       "      <td>2018-07-09</td>\n",
       "      <td>...</td>\n",
       "      <td>SRM</td>\n",
       "      <td>1</td>\n",
       "      <td>2020-11-17</td>\n",
       "      <td>PF</td>\n",
       "      <td>68</td>\n",
       "      <td>2020-11-17</td>\n",
       "      <td>PF</td>\n",
       "      <td>25</td>\n",
       "      <td>LN</td>\n",
       "      <td>3510c8ac-6510-40c8-8790-fd010a022d08</td>\n",
       "    </tr>\n",
       "    <tr>\n",
       "      <th>4</th>\n",
       "      <td>5106L 006339</td>\n",
       "      <td>EA</td>\n",
       "      <td>CT</td>\n",
       "      <td>2018-07-05</td>\n",
       "      <td>2018-07-09</td>\n",
       "      <td>2018-11-16</td>\n",
       "      <td>2019-01-05</td>\n",
       "      <td>2020-09-21</td>\n",
       "      <td>2018-11-20</td>\n",
       "      <td>2018-07-09</td>\n",
       "      <td>...</td>\n",
       "      <td>SRM</td>\n",
       "      <td>2</td>\n",
       "      <td>2018-11-20</td>\n",
       "      <td>DF</td>\n",
       "      <td>129</td>\n",
       "      <td>2018-11-20</td>\n",
       "      <td>DF</td>\n",
       "      <td>29</td>\n",
       "      <td>LN</td>\n",
       "      <td>73837a16-cbe7-4af1-a49c-e3f0b56ffc1f</td>\n",
       "    </tr>\n",
       "  </tbody>\n",
       "</table>\n",
       "<p>5 rows × 23 columns</p>\n",
       "</div>"
      ],
      "text/plain": [
       "      policy_nb channel_cd rate_state_abbr_nm enrollment_effective_dt  \\\n",
       "0  5106L 005381         EA                 CT              2018-09-14   \n",
       "1  5106L 005381         EA                 CT              2018-09-14   \n",
       "2  5106L 006339         EA                 CT              2018-07-05   \n",
       "3  5106L 006339         EA                 CT              2018-07-05   \n",
       "4  5106L 006339         EA                 CT              2018-07-05   \n",
       "\n",
       "  enrollment_process_dt estmt_completion_dt estmt_discount_apply_dt  \\\n",
       "0            2018-09-18          2019-05-14              2019-07-03   \n",
       "1            2018-09-18          2019-05-14              2019-07-03   \n",
       "2            2018-07-09          2018-11-16              2019-01-05   \n",
       "3            2018-07-09          2018-11-16              2019-01-05   \n",
       "4            2018-07-09          2018-11-16              2019-01-05   \n",
       "\n",
       "  program_add_date program_end_date data_clctn_start_date  ...  \\\n",
       "0       2020-09-21       2019-05-16            2018-07-05  ...   \n",
       "1       2020-09-21       2019-05-16            2018-07-05  ...   \n",
       "2       2020-09-21       2018-11-20            2018-07-09  ...   \n",
       "3       2020-09-21       2018-11-20            2018-07-09  ...   \n",
       "4       2020-09-21       2018-11-20            2018-07-09  ...   \n",
       "\n",
       "  program_type_cd src_clctn_subject_key_id final_score_date score_type_cd  \\\n",
       "0             SRM                        1       2018-11-16            DF   \n",
       "1             SRM                        1       2020-11-17            PF   \n",
       "2             SRM                        1       2018-11-20            DF   \n",
       "3             SRM                        1       2020-11-17            PF   \n",
       "4             SRM                        2       2018-11-20            DF   \n",
       "\n",
       "   score_qt final_discount_date discount_type_cd  discount_pc vendor_id  \\\n",
       "0       167          2019-05-16               DF           12        LN   \n",
       "1        84          2020-11-17               PF           13        LN   \n",
       "2       161          2018-11-20               DF           21        LN   \n",
       "3        68          2020-11-17               PF           25        LN   \n",
       "4       129          2018-11-20               DF           29        LN   \n",
       "\n",
       "                      vendor_account_nb  \n",
       "0  7d922b80-21a2-445d-a171-91da4fb4576d  \n",
       "1  7d922b80-21a2-445d-a171-91da4fb4576d  \n",
       "2  3510c8ac-6510-40c8-8790-fd010a022d08  \n",
       "3  3510c8ac-6510-40c8-8790-fd010a022d08  \n",
       "4  73837a16-cbe7-4af1-a49c-e3f0b56ffc1f  \n",
       "\n",
       "[5 rows x 23 columns]"
      ]
     },
     "execution_count": 2,
     "metadata": {},
     "output_type": "execute_result"
    }
   ],
   "source": [
    "# Load SRM data from Michael\n",
    "srm_dt = pd.read_excel('SRM Scoring Data and Data Clctn.xlsx')\n",
    "\n",
    "# Show head\n",
    "print(srm_dt.shape)\n",
    "srm_dt.head()"
   ]
  },
  {
   "cell_type": "code",
   "execution_count": 3,
   "metadata": {},
   "outputs": [
    {
     "name": "stdout",
     "output_type": "stream",
     "text": [
      "SRM data has 81555 unique drivers.\n"
     ]
    }
   ],
   "source": [
    "# Count unique policy numbers\n",
    "print('SRM data has ' + str(srm_dt['vendor_account_nb'].nunique()) + ' unique drivers.')"
   ]
  },
  {
   "cell_type": "code",
   "execution_count": 4,
   "metadata": {},
   "outputs": [
    {
     "name": "stdout",
     "output_type": "stream",
     "text": [
      "Filter by >= 2020-06-05: SRM data has 16357 unique drivers.\n",
      "We lose 65198 drivers\n",
      "We lose 109784 rows\n",
      "(31746, 23)\n",
      "Filter by vendor_id = \"CMT\": SRM data has 16108 unique drivers.\n",
      "We lose 249 drivers\n",
      "We lose 495 rows\n",
      "(31251, 23)\n",
      "Filter by score_type_cd = \"DF\": SRM data has 16108 unique drivers.\n",
      "We lose 0 drivers\n",
      "We lose 15044 rows\n",
      "(16207, 23)\n",
      "Filter by policy_status != \"A\": SRM data has 15246 unique drivers.\n",
      "We lose 862 drivers\n",
      "We lose 880 rows\n",
      "(15327, 23)\n",
      "Filter by NaN vendor_account_nbs: SRM data has 15246 unique drivers.\n",
      "We lose 0 drivers\n",
      "We lose 47 rows\n",
      "(15280, 9)\n",
      "After Dedup...\n",
      "We lose 10 rows\n",
      "(15270, 9)\n"
     ]
    },
    {
     "data": {
      "text/html": [
       "<div>\n",
       "<style scoped>\n",
       "    .dataframe tbody tr th:only-of-type {\n",
       "        vertical-align: middle;\n",
       "    }\n",
       "\n",
       "    .dataframe tbody tr th {\n",
       "        vertical-align: top;\n",
       "    }\n",
       "\n",
       "    .dataframe thead th {\n",
       "        text-align: right;\n",
       "    }\n",
       "</style>\n",
       "<table border=\"1\" class=\"dataframe\">\n",
       "  <thead>\n",
       "    <tr style=\"text-align: right;\">\n",
       "      <th></th>\n",
       "      <th>vendor_account_nb</th>\n",
       "      <th>data_clctn_start_date</th>\n",
       "      <th>final_score_date</th>\n",
       "      <th>discount_pc</th>\n",
       "      <th>score_qt</th>\n",
       "      <th>channel_cd</th>\n",
       "      <th>rate_state_abbr_nm</th>\n",
       "      <th>enrollment_effective_dt</th>\n",
       "      <th>estmt_completion_dt</th>\n",
       "    </tr>\n",
       "  </thead>\n",
       "  <tbody>\n",
       "    <tr>\n",
       "      <th>27</th>\n",
       "      <td>11245245</td>\n",
       "      <td>2020-07-02</td>\n",
       "      <td>2020-12-18</td>\n",
       "      <td>25</td>\n",
       "      <td>153</td>\n",
       "      <td>EA</td>\n",
       "      <td>CT</td>\n",
       "      <td>2020-08-05</td>\n",
       "      <td>2020-12-17</td>\n",
       "    </tr>\n",
       "    <tr>\n",
       "      <th>100</th>\n",
       "      <td>67163621</td>\n",
       "      <td>2020-08-27</td>\n",
       "      <td>2021-01-12</td>\n",
       "      <td>28</td>\n",
       "      <td>136</td>\n",
       "      <td>EA</td>\n",
       "      <td>CT</td>\n",
       "      <td>2020-09-02</td>\n",
       "      <td>2021-01-11</td>\n",
       "    </tr>\n",
       "    <tr>\n",
       "      <th>108</th>\n",
       "      <td>17262410</td>\n",
       "      <td>2020-10-13</td>\n",
       "      <td>2021-01-21</td>\n",
       "      <td>32</td>\n",
       "      <td>98</td>\n",
       "      <td>EA</td>\n",
       "      <td>CT</td>\n",
       "      <td>2020-10-13</td>\n",
       "      <td>2021-01-20</td>\n",
       "    </tr>\n",
       "    <tr>\n",
       "      <th>423</th>\n",
       "      <td>88419143</td>\n",
       "      <td>2020-06-09</td>\n",
       "      <td>2020-10-30</td>\n",
       "      <td>28</td>\n",
       "      <td>143</td>\n",
       "      <td>EA</td>\n",
       "      <td>CT</td>\n",
       "      <td>2020-06-09</td>\n",
       "      <td>2020-10-29</td>\n",
       "    </tr>\n",
       "    <tr>\n",
       "      <th>695</th>\n",
       "      <td>63914697</td>\n",
       "      <td>2020-07-22</td>\n",
       "      <td>2021-01-25</td>\n",
       "      <td>32</td>\n",
       "      <td>108</td>\n",
       "      <td>EA</td>\n",
       "      <td>CT</td>\n",
       "      <td>2020-07-22</td>\n",
       "      <td>2021-01-22</td>\n",
       "    </tr>\n",
       "  </tbody>\n",
       "</table>\n",
       "</div>"
      ],
      "text/plain": [
       "    vendor_account_nb data_clctn_start_date final_score_date  discount_pc  \\\n",
       "27           11245245            2020-07-02       2020-12-18           25   \n",
       "100          67163621            2020-08-27       2021-01-12           28   \n",
       "108          17262410            2020-10-13       2021-01-21           32   \n",
       "423          88419143            2020-06-09       2020-10-30           28   \n",
       "695          63914697            2020-07-22       2021-01-25           32   \n",
       "\n",
       "     score_qt channel_cd rate_state_abbr_nm enrollment_effective_dt  \\\n",
       "27        153         EA                 CT              2020-08-05   \n",
       "100       136         EA                 CT              2020-09-02   \n",
       "108        98         EA                 CT              2020-10-13   \n",
       "423       143         EA                 CT              2020-06-09   \n",
       "695       108         EA                 CT              2020-07-22   \n",
       "\n",
       "    estmt_completion_dt  \n",
       "27           2020-12-17  \n",
       "100          2021-01-11  \n",
       "108          2021-01-20  \n",
       "423          2020-10-29  \n",
       "695          2021-01-22  "
      ]
     },
     "execution_count": 4,
     "metadata": {},
     "output_type": "execute_result"
    }
   ],
   "source": [
    "# First filter data to start at 6/05/2020\n",
    "srm_dt2 = srm_dt[srm_dt['data_clctn_start_date'] >= '2020-06-05']\n",
    "srm_dt2 = srm_dt2[srm_dt2['final_score_date'] >= '2020-06-05']\n",
    "print('Filter by >= 2020-06-05: SRM data has ' + str(srm_dt2['vendor_account_nb'].nunique()) + ' unique drivers.')\n",
    "print('We lose ' + str(81555-16357) + ' drivers')\n",
    "print('We lose ' + str(141530-31746) + ' rows')\n",
    "print(srm_dt2.shape)\n",
    "\n",
    "# Filter by vendor_id = \"CMT\"\n",
    "srm_dt2 = srm_dt2[srm_dt2['vendor_id'] == 'CMT']\n",
    "print('Filter by vendor_id = \"CMT\": SRM data has ' + str(srm_dt2['vendor_account_nb'].nunique()) + ' unique drivers.')\n",
    "print('We lose ' + str(16357-16108) + ' drivers')\n",
    "print('We lose ' + str(31746-31251) + ' rows')\n",
    "print(srm_dt2.shape)\n",
    "\n",
    "# Filter by score_type_cd = \"DF\"\n",
    "# Added on 3/09/2021\n",
    "srm_dt2 = srm_dt2[srm_dt2['score_type_cd'] == 'DF']\n",
    "print('Filter by score_type_cd = \"DF\": SRM data has ' + str(srm_dt2['vendor_account_nb'].nunique()) + ' unique drivers.')\n",
    "print('We lose ' + str(16108-16108) + ' drivers')\n",
    "print('We lose ' + str(31251-16207) + ' rows')\n",
    "print(srm_dt2.shape)\n",
    "\n",
    "# Filter by policy_status != \"A\"\n",
    "# Added on 3/11/2021\n",
    "srm_dt2 = srm_dt2[srm_dt2['policy_status'] == 'A']\n",
    "print('Filter by policy_status != \"A\": SRM data has ' + str(srm_dt2['vendor_account_nb'].nunique()) + ' unique drivers.')\n",
    "print('We lose ' + str(16108-15246) + ' drivers')\n",
    "print('We lose ' + str(16207-15327) + ' rows')\n",
    "print(srm_dt2.shape)\n",
    "\n",
    "# Then select only variables we need\n",
    "# Added discount_pc and score_qt on 3/09/2021\n",
    "# Added channel_cd, rate_state_abbr_nm on 3/10/2021\n",
    "# Add enrollment_effective_dt to get most recent for cases of duplication 3/10/2021\n",
    "# Add estmt_completion_dt to get most recent for cases of duplication 3/10/2021\n",
    "srm_dt2 = srm_dt2[['vendor_account_nb','data_clctn_start_date','final_score_date','discount_pc','score_qt'\n",
    "                  ,'channel_cd','rate_state_abbr_nm','enrollment_effective_dt','estmt_completion_dt']]\n",
    "\n",
    "# Remove NaN vendor_account_nb's\n",
    "srm_dt3 = srm_dt2[srm_dt2['vendor_account_nb'].notna()]\n",
    "print('Filter by NaN vendor_account_nbs: SRM data has ' + str(srm_dt3['vendor_account_nb'].nunique()) + ' unique drivers.')\n",
    "print('We lose ' + str(15246-15246) + ' drivers')\n",
    "print('We lose ' + str(15327-15280) + ' rows')\n",
    "print(srm_dt3.shape)\n",
    "      \n",
    "# Dedup\n",
    "srm_dt4 = srm_dt3.drop_duplicates()\n",
    "print('After Dedup...')\n",
    "print('We lose ' + str(15280-15270) + ' rows')\n",
    "\n",
    "print(srm_dt4.shape)\n",
    "srm_dt4.head()\n",
    "\n",
    "# Previously\n",
    "# Goes from 141,530 rows to 31,251 (difference = 110,279)\n",
    "# Goes from 31,251 rows to 20,472 (difference = 10,779)\n",
    "# After 3/09/2021\n",
    "# Goes from 141,530 rows to 16,207 (difference = 125,323)\n",
    "# Goes from 16,207 rows to 16,183 (difference = 24)\n",
    "# After 3/10/2021\n",
    "# Goes from 16,207 rows to 16,184 (difference = 23)\n",
    "# Goes from 16,207 rows to 16,187 (difference = 20)\n",
    "\n",
    "# Goes from 16,154 rows to 16,137 current (3x)\n",
    "\n",
    "# 15,327->15,280->15,270 current"
   ]
  },
  {
   "cell_type": "code",
   "execution_count": 7,
   "metadata": {},
   "outputs": [
    {
     "name": "stdout",
     "output_type": "stream",
     "text": [
      "SRM data has 15246 unique drivers.\n"
     ]
    }
   ],
   "source": [
    "# Count unique policy numbers\n",
    "print('SRM data has ' + str(srm_dt4['vendor_account_nb'].nunique()) + ' unique drivers.')\n",
    "\n",
    "# Driver count goes from 81,555 to 16,108 (difference = 65,447 / 80% of original data)\n",
    "# After 3/11/2021 goes from 16,108 to 15,246"
   ]
  },
  {
   "cell_type": "code",
   "execution_count": 8,
   "metadata": {},
   "outputs": [
    {
     "name": "stdout",
     "output_type": "stream",
     "text": [
      "Filter by max(enrollment_effective_dt): SRM data has 15246 unique drivers.\n",
      "(15251, 9)\n",
      "Difference of:19\n",
      "Filter by max(estmt_completion_dt): SRM data has 15246 unique drivers.\n",
      "(15250, 9)\n",
      "Filter by min(data_clctn_start_date): SRM data has 15246 unique drivers.\n",
      "(15250, 7)\n",
      "Filter by max(final_score_date): SRM data has 15246 unique drivers.\n",
      "(15250, 7)\n",
      "(15246, 7)\n",
      "Data has 15246 unique drivers.\n",
      "(15246, 7)\n"
     ]
    },
    {
     "name": "stderr",
     "output_type": "stream",
     "text": [
      "/usr/local/lib/python3.6/site-packages/ipykernel_launcher.py:2: SettingWithCopyWarning: \n",
      "A value is trying to be set on a copy of a slice from a DataFrame.\n",
      "Try using .loc[row_indexer,col_indexer] = value instead\n",
      "\n",
      "See the caveats in the documentation: https://pandas.pydata.org/pandas-docs/stable/user_guide/indexing.html#returning-a-view-versus-a-copy\n",
      "  \n"
     ]
    },
    {
     "data": {
      "text/html": [
       "<div>\n",
       "<style scoped>\n",
       "    .dataframe tbody tr th:only-of-type {\n",
       "        vertical-align: middle;\n",
       "    }\n",
       "\n",
       "    .dataframe tbody tr th {\n",
       "        vertical-align: top;\n",
       "    }\n",
       "\n",
       "    .dataframe thead th {\n",
       "        text-align: right;\n",
       "    }\n",
       "</style>\n",
       "<table border=\"1\" class=\"dataframe\">\n",
       "  <thead>\n",
       "    <tr style=\"text-align: right;\">\n",
       "      <th></th>\n",
       "      <th>vendor_account_nb</th>\n",
       "      <th>Max_final_score_date</th>\n",
       "      <th>Min_data_clctn_start_date</th>\n",
       "      <th>NM1_discount_pc</th>\n",
       "      <th>NM1_score_qt</th>\n",
       "      <th>NM1_channel_cd</th>\n",
       "      <th>NM1_rate_state_abbr_nm</th>\n",
       "    </tr>\n",
       "  </thead>\n",
       "  <tbody>\n",
       "    <tr>\n",
       "      <th>0</th>\n",
       "      <td>11245245</td>\n",
       "      <td>2020-12-18</td>\n",
       "      <td>2020-07-02</td>\n",
       "      <td>25</td>\n",
       "      <td>153</td>\n",
       "      <td>EA</td>\n",
       "      <td>CT</td>\n",
       "    </tr>\n",
       "    <tr>\n",
       "      <th>1</th>\n",
       "      <td>67163621</td>\n",
       "      <td>2021-01-12</td>\n",
       "      <td>2020-08-27</td>\n",
       "      <td>28</td>\n",
       "      <td>136</td>\n",
       "      <td>EA</td>\n",
       "      <td>CT</td>\n",
       "    </tr>\n",
       "    <tr>\n",
       "      <th>2</th>\n",
       "      <td>17262410</td>\n",
       "      <td>2021-01-21</td>\n",
       "      <td>2020-10-13</td>\n",
       "      <td>32</td>\n",
       "      <td>98</td>\n",
       "      <td>EA</td>\n",
       "      <td>CT</td>\n",
       "    </tr>\n",
       "    <tr>\n",
       "      <th>3</th>\n",
       "      <td>88419143</td>\n",
       "      <td>2020-10-30</td>\n",
       "      <td>2020-06-09</td>\n",
       "      <td>28</td>\n",
       "      <td>143</td>\n",
       "      <td>EA</td>\n",
       "      <td>CT</td>\n",
       "    </tr>\n",
       "    <tr>\n",
       "      <th>4</th>\n",
       "      <td>63914697</td>\n",
       "      <td>2021-01-25</td>\n",
       "      <td>2020-07-22</td>\n",
       "      <td>32</td>\n",
       "      <td>108</td>\n",
       "      <td>EA</td>\n",
       "      <td>CT</td>\n",
       "    </tr>\n",
       "  </tbody>\n",
       "</table>\n",
       "</div>"
      ],
      "text/plain": [
       "  vendor_account_nb Max_final_score_date Min_data_clctn_start_date  \\\n",
       "0          11245245           2020-12-18                2020-07-02   \n",
       "1          67163621           2021-01-12                2020-08-27   \n",
       "2          17262410           2021-01-21                2020-10-13   \n",
       "3          88419143           2020-10-30                2020-06-09   \n",
       "4          63914697           2021-01-25                2020-07-22   \n",
       "\n",
       "   NM1_discount_pc  NM1_score_qt NM1_channel_cd NM1_rate_state_abbr_nm  \n",
       "0               25           153             EA                     CT  \n",
       "1               28           136             EA                     CT  \n",
       "2               32            98             EA                     CT  \n",
       "3               28           143             EA                     CT  \n",
       "4               32           108             EA                     CT  "
      ]
     },
     "execution_count": 8,
     "metadata": {},
     "output_type": "execute_result"
    }
   ],
   "source": [
    "# First change vendor_account_nb to str\n",
    "srm_dt4['vendor_account_nb'] = srm_dt4['vendor_account_nb'].astype('str') \n",
    "\n",
    "# Filter by max(enrollment_effective_dt)\n",
    "idx = srm_dt4.groupby(['vendor_account_nb'])['enrollment_effective_dt'].transform(max) == srm_dt4['enrollment_effective_dt']\n",
    "srm_dt5 = srm_dt4[idx]\n",
    "print('Filter by max(enrollment_effective_dt): SRM data has ' + str(srm_dt5['vendor_account_nb'].nunique()) + ' unique drivers.')\n",
    "print(srm_dt5.shape)\n",
    "print('Difference of:' + str(15270-15251))\n",
    "# 16137 -> 16113\n",
    "\n",
    "# Filter by max(estmt_completion_dt)\n",
    "idx = srm_dt5.groupby(['vendor_account_nb'])['estmt_completion_dt'].transform(max) == srm_dt5['estmt_completion_dt']\n",
    "srm_dt6 = srm_dt5[idx]\n",
    "print('Filter by max(estmt_completion_dt): SRM data has ' + str(srm_dt6['vendor_account_nb'].nunique()) + ' unique drivers.')\n",
    "print(srm_dt6.shape)\n",
    "# 16113 -> 16112\n",
    "\n",
    "# Filter by min(data_clctn_start_date)\n",
    "activedays_min = srm_dt6.groupby('vendor_account_nb')['data_clctn_start_date'].min()\n",
    "\n",
    "# Merge to get only min\n",
    "srm_dt_min = pd.merge(srm_dt6, activedays_min.to_frame(), on=\"vendor_account_nb\")\n",
    "srm_dt_min.columns = ['vendor_account_nb','data_clctn_start_date','final_score_date'\n",
    "                      ,'NM1_discount_pc','NM1_score_qt','NM1_channel_cd','NM1_rate_state_abbr_nm'\n",
    "                      ,'enrollment_effective_dt','estmt_completion_dt','Min_data_clctn_start_date']\n",
    "srm_dt_min2 = srm_dt_min[['vendor_account_nb','final_score_date','Min_data_clctn_start_date'\n",
    "                          ,'NM1_discount_pc','NM1_score_qt','NM1_channel_cd','NM1_rate_state_abbr_nm']]\n",
    "print('Filter by min(data_clctn_start_date): SRM data has ' + str(srm_dt_min2['vendor_account_nb'].nunique()) + ' unique drivers.')\n",
    "print(srm_dt_min2.shape)\n",
    "\n",
    "\n",
    "# Filter by max(final_score_date)\n",
    "activedays_max = srm_dt_min2.groupby('vendor_account_nb')['final_score_date'].max()\n",
    "\n",
    "# Merge to get only max\n",
    "srm_dt_max = pd.merge(srm_dt_min2, activedays_max.to_frame(), on=\"vendor_account_nb\")\n",
    "srm_dt_max.columns = ['vendor_account_nb','final_score_date','Min_data_clctn_start_date'\n",
    "                      ,'NM1_discount_pc','NM1_score_qt','NM1_channel_cd','NM1_rate_state_abbr_nm'\n",
    "                      ,'Max_final_score_date']\n",
    "srm_dt_max2 = srm_dt_max[['vendor_account_nb','Max_final_score_date','Min_data_clctn_start_date'\n",
    "                         ,'NM1_discount_pc','NM1_score_qt','NM1_channel_cd','NM1_rate_state_abbr_nm']]\n",
    "print('Filter by max(final_score_date): SRM data has ' + str(srm_dt_max2['vendor_account_nb'].nunique()) + ' unique drivers.')\n",
    "print(srm_dt_max2.shape)\n",
    "\n",
    "# Drop duplicates\n",
    "srm_dt_max2 = srm_dt_max2.drop_duplicates()\n",
    "print(srm_dt_max2.shape)\n",
    "\n",
    "# Count unique driver numbers\n",
    "print('Data has ' + str(srm_dt_max2['vendor_account_nb'].nunique()) + ' unique drivers.')\n",
    "print(srm_dt_max2.shape)\n",
    "srm_dt_max2.head()"
   ]
  },
  {
   "cell_type": "code",
   "execution_count": 9,
   "metadata": {},
   "outputs": [
    {
     "data": {
      "text/html": [
       "<div>\n",
       "<style scoped>\n",
       "    .dataframe tbody tr th:only-of-type {\n",
       "        vertical-align: middle;\n",
       "    }\n",
       "\n",
       "    .dataframe tbody tr th {\n",
       "        vertical-align: top;\n",
       "    }\n",
       "\n",
       "    .dataframe thead th {\n",
       "        text-align: right;\n",
       "    }\n",
       "</style>\n",
       "<table border=\"1\" class=\"dataframe\">\n",
       "  <thead>\n",
       "    <tr style=\"text-align: right;\">\n",
       "      <th></th>\n",
       "      <th>vendor_account_nb</th>\n",
       "      <th>Max_final_score_date</th>\n",
       "      <th>Min_data_clctn_start_date</th>\n",
       "      <th>NM1_discount_pc</th>\n",
       "      <th>NM1_score_qt</th>\n",
       "      <th>NM1_channel_cd</th>\n",
       "      <th>NM1_rate_state_abbr_nm</th>\n",
       "    </tr>\n",
       "  </thead>\n",
       "  <tbody>\n",
       "  </tbody>\n",
       "</table>\n",
       "</div>"
      ],
      "text/plain": [
       "Empty DataFrame\n",
       "Columns: [vendor_account_nb, Max_final_score_date, Min_data_clctn_start_date, NM1_discount_pc, NM1_score_qt, NM1_channel_cd, NM1_rate_state_abbr_nm]\n",
       "Index: []"
      ]
     },
     "execution_count": 9,
     "metadata": {},
     "output_type": "execute_result"
    }
   ],
   "source": [
    "srm_dt_max2[srm_dt_max2['vendor_account_nb'].duplicated() == True]"
   ]
  },
  {
   "cell_type": "code",
   "execution_count": null,
   "metadata": {},
   "outputs": [],
   "source": [
    "# Step 1:\n",
    "# Sam send Shaja - short_user_id, Max_SRP_Final_Score_Date, Min_SRP_Data_Collecion_Start_Date"
   ]
  },
  {
   "cell_type": "code",
   "execution_count": null,
   "metadata": {},
   "outputs": [],
   "source": [
    "#srm_dt_max2.to_csv('SRP_ScoringDays_Data_3152021.csv', index = False)"
   ]
  },
  {
   "cell_type": "code",
   "execution_count": null,
   "metadata": {},
   "outputs": [],
   "source": [
    "# Step 3: \n",
    "# Sam inner merge with Heartbeat data (Heartbeat Last Request date =< SRP Final Score Date)"
   ]
  },
  {
   "cell_type": "code",
   "execution_count": 10,
   "metadata": {},
   "outputs": [
    {
     "name": "stdout",
     "output_type": "stream",
     "text": [
      "(14148, 4)\n"
     ]
    },
    {
     "data": {
      "text/html": [
       "<div>\n",
       "<style scoped>\n",
       "    .dataframe tbody tr th:only-of-type {\n",
       "        vertical-align: middle;\n",
       "    }\n",
       "\n",
       "    .dataframe tbody tr th {\n",
       "        vertical-align: top;\n",
       "    }\n",
       "\n",
       "    .dataframe thead th {\n",
       "        text-align: right;\n",
       "    }\n",
       "</style>\n",
       "<table border=\"1\" class=\"dataframe\">\n",
       "  <thead>\n",
       "    <tr style=\"text-align: right;\">\n",
       "      <th></th>\n",
       "      <th>short_user_id</th>\n",
       "      <th>adjusted_distance_km</th>\n",
       "      <th>Rq5a</th>\n",
       "      <th>last_trip_date</th>\n",
       "    </tr>\n",
       "  </thead>\n",
       "  <tbody>\n",
       "    <tr>\n",
       "      <th>0</th>\n",
       "      <td>10013699</td>\n",
       "      <td>264.6801</td>\n",
       "      <td>4.476129</td>\n",
       "      <td>2021-01-05</td>\n",
       "    </tr>\n",
       "    <tr>\n",
       "      <th>1</th>\n",
       "      <td>10016122</td>\n",
       "      <td>9619.8400</td>\n",
       "      <td>2.726725</td>\n",
       "      <td>2020-12-15</td>\n",
       "    </tr>\n",
       "    <tr>\n",
       "      <th>2</th>\n",
       "      <td>10018353</td>\n",
       "      <td>6455.2721</td>\n",
       "      <td>4.306496</td>\n",
       "      <td>2020-11-07</td>\n",
       "    </tr>\n",
       "    <tr>\n",
       "      <th>3</th>\n",
       "      <td>10019667</td>\n",
       "      <td>3200.1680</td>\n",
       "      <td>4.115618</td>\n",
       "      <td>2020-11-08</td>\n",
       "    </tr>\n",
       "    <tr>\n",
       "      <th>4</th>\n",
       "      <td>10021470</td>\n",
       "      <td>8885.2729</td>\n",
       "      <td>4.157654</td>\n",
       "      <td>2020-12-30</td>\n",
       "    </tr>\n",
       "  </tbody>\n",
       "</table>\n",
       "</div>"
      ],
      "text/plain": [
       "   short_user_id  adjusted_distance_km      Rq5a last_trip_date\n",
       "0       10013699              264.6801  4.476129     2021-01-05\n",
       "1       10016122             9619.8400  2.726725     2020-12-15\n",
       "2       10018353             6455.2721  4.306496     2020-11-07\n",
       "3       10019667             3200.1680  4.115618     2020-11-08\n",
       "4       10021470             8885.2729  4.157654     2020-12-30"
      ]
     },
     "execution_count": 10,
     "metadata": {},
     "output_type": "execute_result"
    }
   ],
   "source": [
    "CMT_Driver_Summary = pd.read_csv(\"driver_summary_06052020_03022021.csv\", low_memory = False)\n",
    "\n",
    "# Remove first column and account_id\n",
    "CMT_Driver_Summary = CMT_Driver_Summary[['short_user_id','adjusted_distance_km','Rq5a','last_trip_date']]\n",
    "\n",
    "# Show head\n",
    "print(CMT_Driver_Summary.shape)\n",
    "CMT_Driver_Summary.head()"
   ]
  },
  {
   "cell_type": "code",
   "execution_count": 11,
   "metadata": {},
   "outputs": [
    {
     "name": "stdout",
     "output_type": "stream",
     "text": [
      "CMT data has 14148 unique drivers.\n"
     ]
    }
   ],
   "source": [
    "# Count unique driver numbers\n",
    "print('CMT data has ' + str(CMT_Driver_Summary['short_user_id'].nunique()) + ' unique drivers.')"
   ]
  },
  {
   "cell_type": "code",
   "execution_count": 12,
   "metadata": {},
   "outputs": [
    {
     "name": "stdout",
     "output_type": "stream",
     "text": [
      "(8723932, 7)\n"
     ]
    },
    {
     "data": {
      "text/html": [
       "<div>\n",
       "<style scoped>\n",
       "    .dataframe tbody tr th:only-of-type {\n",
       "        vertical-align: middle;\n",
       "    }\n",
       "\n",
       "    .dataframe tbody tr th {\n",
       "        vertical-align: top;\n",
       "    }\n",
       "\n",
       "    .dataframe thead th {\n",
       "        text-align: right;\n",
       "    }\n",
       "</style>\n",
       "<table border=\"1\" class=\"dataframe\">\n",
       "  <thead>\n",
       "    <tr style=\"text-align: right;\">\n",
       "      <th></th>\n",
       "      <th>short_user_id</th>\n",
       "      <th>email</th>\n",
       "      <th>last_request_date</th>\n",
       "      <th>last_upload_date</th>\n",
       "      <th>registration_date</th>\n",
       "      <th>current_date</th>\n",
       "      <th>load_date</th>\n",
       "    </tr>\n",
       "  </thead>\n",
       "  <tbody>\n",
       "    <tr>\n",
       "      <th>0</th>\n",
       "      <td>10000949</td>\n",
       "      <td>None</td>\n",
       "      <td>None</td>\n",
       "      <td>None</td>\n",
       "      <td>None</td>\n",
       "      <td>2020-11-11 06:25:36.644016+00:00</td>\n",
       "      <td>2020-11-10</td>\n",
       "    </tr>\n",
       "    <tr>\n",
       "      <th>1</th>\n",
       "      <td>10003161</td>\n",
       "      <td>None</td>\n",
       "      <td>None</td>\n",
       "      <td>None</td>\n",
       "      <td>None</td>\n",
       "      <td>2020-11-11 06:25:36.644016+00:00</td>\n",
       "      <td>2020-11-10</td>\n",
       "    </tr>\n",
       "    <tr>\n",
       "      <th>2</th>\n",
       "      <td>10003524</td>\n",
       "      <td>khamler@hgiai.com</td>\n",
       "      <td>2020-07-18 08:49:11.917633</td>\n",
       "      <td>2020-07-17 21:11:15.000000</td>\n",
       "      <td>2020-07-09 16:22:08.098247</td>\n",
       "      <td>2020-11-11 06:25:36.644016+00:00</td>\n",
       "      <td>2020-11-10</td>\n",
       "    </tr>\n",
       "    <tr>\n",
       "      <th>3</th>\n",
       "      <td>10013699</td>\n",
       "      <td>adriadiorio@hotmail.com</td>\n",
       "      <td>2020-09-28 04:59:58.572355</td>\n",
       "      <td>2020-09-28 04:59:59.000000</td>\n",
       "      <td>2020-09-04 15:42:57.929595</td>\n",
       "      <td>2020-11-11 06:25:36.644016+00:00</td>\n",
       "      <td>2020-11-10</td>\n",
       "    </tr>\n",
       "    <tr>\n",
       "      <th>4</th>\n",
       "      <td>10016122</td>\n",
       "      <td>gizmofunk@gmail.com</td>\n",
       "      <td>2020-11-10 00:17:36.637268</td>\n",
       "      <td>2020-11-01 01:12:54.000000</td>\n",
       "      <td>2020-08-04 14:33:57.606944</td>\n",
       "      <td>2020-11-11 06:25:36.644016+00:00</td>\n",
       "      <td>2020-11-10</td>\n",
       "    </tr>\n",
       "  </tbody>\n",
       "</table>\n",
       "</div>"
      ],
      "text/plain": [
       "   short_user_id                    email           last_request_date  \\\n",
       "0       10000949                     None                        None   \n",
       "1       10003161                     None                        None   \n",
       "2       10003524        khamler@hgiai.com  2020-07-18 08:49:11.917633   \n",
       "3       10013699  adriadiorio@hotmail.com  2020-09-28 04:59:58.572355   \n",
       "4       10016122      gizmofunk@gmail.com  2020-11-10 00:17:36.637268   \n",
       "\n",
       "             last_upload_date           registration_date  \\\n",
       "0                        None                        None   \n",
       "1                        None                        None   \n",
       "2  2020-07-17 21:11:15.000000  2020-07-09 16:22:08.098247   \n",
       "3  2020-09-28 04:59:59.000000  2020-09-04 15:42:57.929595   \n",
       "4  2020-11-01 01:12:54.000000  2020-08-04 14:33:57.606944   \n",
       "\n",
       "                       current_date  load_date  \n",
       "0  2020-11-11 06:25:36.644016+00:00 2020-11-10  \n",
       "1  2020-11-11 06:25:36.644016+00:00 2020-11-10  \n",
       "2  2020-11-11 06:25:36.644016+00:00 2020-11-10  \n",
       "3  2020-11-11 06:25:36.644016+00:00 2020-11-10  \n",
       "4  2020-11-11 06:25:36.644016+00:00 2020-11-10  "
      ]
     },
     "execution_count": 12,
     "metadata": {},
     "output_type": "execute_result"
    }
   ],
   "source": [
    "# Read in Shaja's heartbeat file for missing drivers\n",
    "Heartbeat_Missing = pd.read_parquet('/home/smartridemobile/nm2_Heartbeat_06052020_03022021.parquet')\n",
    "\n",
    "# Show head\n",
    "print(Heartbeat_Missing.shape)\n",
    "Heartbeat_Missing.head()"
   ]
  },
  {
   "cell_type": "code",
   "execution_count": 13,
   "metadata": {},
   "outputs": [
    {
     "name": "stdout",
     "output_type": "stream",
     "text": [
      "Heartbeat Missing data has 94125 unique drivers.\n"
     ]
    }
   ],
   "source": [
    "# Count unique driver numbers\n",
    "print('Heartbeat Missing data has ' + str(Heartbeat_Missing['short_user_id'].nunique()) + ' unique drivers.')"
   ]
  },
  {
   "cell_type": "code",
   "execution_count": 14,
   "metadata": {},
   "outputs": [
    {
     "name": "stdout",
     "output_type": "stream",
     "text": [
      "(1990593, 10)\n"
     ]
    },
    {
     "data": {
      "text/html": [
       "<div>\n",
       "<style scoped>\n",
       "    .dataframe tbody tr th:only-of-type {\n",
       "        vertical-align: middle;\n",
       "    }\n",
       "\n",
       "    .dataframe tbody tr th {\n",
       "        vertical-align: top;\n",
       "    }\n",
       "\n",
       "    .dataframe thead th {\n",
       "        text-align: right;\n",
       "    }\n",
       "</style>\n",
       "<table border=\"1\" class=\"dataframe\">\n",
       "  <thead>\n",
       "    <tr style=\"text-align: right;\">\n",
       "      <th></th>\n",
       "      <th>vendor_account_nb</th>\n",
       "      <th>Max_final_score_date</th>\n",
       "      <th>Min_data_clctn_start_date</th>\n",
       "      <th>NM1_discount_pc</th>\n",
       "      <th>NM1_score_qt</th>\n",
       "      <th>NM1_channel_cd</th>\n",
       "      <th>NM1_rate_state_abbr_nm</th>\n",
       "      <th>short_user_id</th>\n",
       "      <th>Last_request_date</th>\n",
       "      <th>registration_date</th>\n",
       "    </tr>\n",
       "  </thead>\n",
       "  <tbody>\n",
       "    <tr>\n",
       "      <th>0</th>\n",
       "      <td>11245245</td>\n",
       "      <td>2020-12-18</td>\n",
       "      <td>2020-07-02</td>\n",
       "      <td>25</td>\n",
       "      <td>153</td>\n",
       "      <td>EA</td>\n",
       "      <td>CT</td>\n",
       "      <td>11245245</td>\n",
       "      <td>2020-11-10 23:51:46.508532</td>\n",
       "      <td>2020-07-24 11:12:54.246711</td>\n",
       "    </tr>\n",
       "    <tr>\n",
       "      <th>1</th>\n",
       "      <td>11245245</td>\n",
       "      <td>2020-12-18</td>\n",
       "      <td>2020-07-02</td>\n",
       "      <td>25</td>\n",
       "      <td>153</td>\n",
       "      <td>EA</td>\n",
       "      <td>CT</td>\n",
       "      <td>11245245</td>\n",
       "      <td>2020-10-02 23:49:32.878535</td>\n",
       "      <td>2020-07-24 11:12:54.246711</td>\n",
       "    </tr>\n",
       "    <tr>\n",
       "      <th>2</th>\n",
       "      <td>11245245</td>\n",
       "      <td>2020-12-18</td>\n",
       "      <td>2020-07-02</td>\n",
       "      <td>25</td>\n",
       "      <td>153</td>\n",
       "      <td>EA</td>\n",
       "      <td>CT</td>\n",
       "      <td>11245245</td>\n",
       "      <td>2021-01-10 21:57:27.002746</td>\n",
       "      <td>2020-07-24 11:12:54.246711</td>\n",
       "    </tr>\n",
       "    <tr>\n",
       "      <th>3</th>\n",
       "      <td>11245245</td>\n",
       "      <td>2020-12-18</td>\n",
       "      <td>2020-07-02</td>\n",
       "      <td>25</td>\n",
       "      <td>153</td>\n",
       "      <td>EA</td>\n",
       "      <td>CT</td>\n",
       "      <td>11245245</td>\n",
       "      <td>2020-09-28 23:46:43.923018</td>\n",
       "      <td>2020-07-24 11:12:54.246711</td>\n",
       "    </tr>\n",
       "    <tr>\n",
       "      <th>4</th>\n",
       "      <td>11245245</td>\n",
       "      <td>2020-12-18</td>\n",
       "      <td>2020-07-02</td>\n",
       "      <td>25</td>\n",
       "      <td>153</td>\n",
       "      <td>EA</td>\n",
       "      <td>CT</td>\n",
       "      <td>11245245</td>\n",
       "      <td>2020-10-21 02:44:27.979535</td>\n",
       "      <td>2020-07-24 11:12:54.246711</td>\n",
       "    </tr>\n",
       "  </tbody>\n",
       "</table>\n",
       "</div>"
      ],
      "text/plain": [
       "   vendor_account_nb Max_final_score_date Min_data_clctn_start_date  \\\n",
       "0           11245245           2020-12-18                2020-07-02   \n",
       "1           11245245           2020-12-18                2020-07-02   \n",
       "2           11245245           2020-12-18                2020-07-02   \n",
       "3           11245245           2020-12-18                2020-07-02   \n",
       "4           11245245           2020-12-18                2020-07-02   \n",
       "\n",
       "   NM1_discount_pc  NM1_score_qt NM1_channel_cd NM1_rate_state_abbr_nm  \\\n",
       "0               25           153             EA                     CT   \n",
       "1               25           153             EA                     CT   \n",
       "2               25           153             EA                     CT   \n",
       "3               25           153             EA                     CT   \n",
       "4               25           153             EA                     CT   \n",
       "\n",
       "   short_user_id           Last_request_date           registration_date  \n",
       "0       11245245  2020-11-10 23:51:46.508532  2020-07-24 11:12:54.246711  \n",
       "1       11245245  2020-10-02 23:49:32.878535  2020-07-24 11:12:54.246711  \n",
       "2       11245245  2021-01-10 21:57:27.002746  2020-07-24 11:12:54.246711  \n",
       "3       11245245  2020-09-28 23:46:43.923018  2020-07-24 11:12:54.246711  \n",
       "4       11245245  2020-10-21 02:44:27.979535  2020-07-24 11:12:54.246711  "
      ]
     },
     "execution_count": 14,
     "metadata": {},
     "output_type": "execute_result"
    }
   ],
   "source": [
    "# Take load_date and short_user_id from Heartbeat and inner join with CMT driver summary \n",
    "# After 3/10/2021 update, \n",
    "# Take Last_request_date and short_user_id from Heartbeat and inner join with CMT driver summary\n",
    "\n",
    "# Rename variables\n",
    "Heartbeat_Missing.columns = ['short_user_id','email','Last_request_date','last_upload_date'\n",
    "                             ,'registration_date','current_date','load_date']\n",
    "\n",
    "# Select only variables from Heartbeat to merge\n",
    "Heartbeat_After2 = Heartbeat_Missing[['short_user_id','Last_request_date','registration_date']]\n",
    "Heartbeat_After2 = Heartbeat_After2.drop_duplicates()\n",
    "\n",
    "# Change to str before merge\n",
    "srm_dt_max2['vendor_account_nb'] = srm_dt_max2['vendor_account_nb'].astype('int') \n",
    "Heartbeat_After2['short_user_id'] = Heartbeat_After2['short_user_id'].astype('int') \n",
    "\n",
    "# Join Heartbeat and SRP on short_user_id \n",
    "SRP_Heartbeat = pd.merge(srm_dt_max2, Heartbeat_After2, left_on='vendor_account_nb', right_on='short_user_id', how='inner')\n",
    "\n",
    "print(SRP_Heartbeat.shape)\n",
    "SRP_Heartbeat.head()"
   ]
  },
  {
   "cell_type": "code",
   "execution_count": 15,
   "metadata": {},
   "outputs": [
    {
     "name": "stdout",
     "output_type": "stream",
     "text": [
      "SRP Heartbeat data has 15238 unique drivers.\n",
      "SRP Heartbeat data has 15238 unique drivers.\n"
     ]
    }
   ],
   "source": [
    "print('SRP Heartbeat data has ' + str(SRP_Heartbeat['short_user_id'].nunique()) + ' unique drivers.')\n",
    "print('SRP Heartbeat data has ' + str(SRP_Heartbeat['vendor_account_nb'].nunique()) + ' unique drivers.')\n",
    "# 15,246 from SRP and 97,428 from Heartbeat. \n",
    "# Therefore, we lose 8 drivers from SRP in the merge. (now 15,238 drivers)"
   ]
  },
  {
   "cell_type": "code",
   "execution_count": 16,
   "metadata": {},
   "outputs": [
    {
     "name": "stdout",
     "output_type": "stream",
     "text": [
      "SRP Heartbeat data has 14532 unique drivers.\n",
      "(1488352, 9)\n"
     ]
    },
    {
     "data": {
      "text/html": [
       "<div>\n",
       "<style scoped>\n",
       "    .dataframe tbody tr th:only-of-type {\n",
       "        vertical-align: middle;\n",
       "    }\n",
       "\n",
       "    .dataframe tbody tr th {\n",
       "        vertical-align: top;\n",
       "    }\n",
       "\n",
       "    .dataframe thead th {\n",
       "        text-align: right;\n",
       "    }\n",
       "</style>\n",
       "<table border=\"1\" class=\"dataframe\">\n",
       "  <thead>\n",
       "    <tr style=\"text-align: right;\">\n",
       "      <th></th>\n",
       "      <th>Max_final_score_date</th>\n",
       "      <th>Min_data_clctn_start_date</th>\n",
       "      <th>NM1_discount_pc</th>\n",
       "      <th>NM1_score_qt</th>\n",
       "      <th>NM1_channel_cd</th>\n",
       "      <th>NM1_rate_state_abbr_nm</th>\n",
       "      <th>short_user_id</th>\n",
       "      <th>Last_request_date</th>\n",
       "      <th>registration_date</th>\n",
       "    </tr>\n",
       "  </thead>\n",
       "  <tbody>\n",
       "    <tr>\n",
       "      <th>0</th>\n",
       "      <td>2020-12-18</td>\n",
       "      <td>2020-07-02</td>\n",
       "      <td>25</td>\n",
       "      <td>153</td>\n",
       "      <td>EA</td>\n",
       "      <td>CT</td>\n",
       "      <td>11245245</td>\n",
       "      <td>2020-11-10</td>\n",
       "      <td>2020-07-24</td>\n",
       "    </tr>\n",
       "    <tr>\n",
       "      <th>1</th>\n",
       "      <td>2020-12-18</td>\n",
       "      <td>2020-07-02</td>\n",
       "      <td>25</td>\n",
       "      <td>153</td>\n",
       "      <td>EA</td>\n",
       "      <td>CT</td>\n",
       "      <td>11245245</td>\n",
       "      <td>2020-10-02</td>\n",
       "      <td>2020-07-24</td>\n",
       "    </tr>\n",
       "    <tr>\n",
       "      <th>3</th>\n",
       "      <td>2020-12-18</td>\n",
       "      <td>2020-07-02</td>\n",
       "      <td>25</td>\n",
       "      <td>153</td>\n",
       "      <td>EA</td>\n",
       "      <td>CT</td>\n",
       "      <td>11245245</td>\n",
       "      <td>2020-09-28</td>\n",
       "      <td>2020-07-24</td>\n",
       "    </tr>\n",
       "    <tr>\n",
       "      <th>4</th>\n",
       "      <td>2020-12-18</td>\n",
       "      <td>2020-07-02</td>\n",
       "      <td>25</td>\n",
       "      <td>153</td>\n",
       "      <td>EA</td>\n",
       "      <td>CT</td>\n",
       "      <td>11245245</td>\n",
       "      <td>2020-10-21</td>\n",
       "      <td>2020-07-24</td>\n",
       "    </tr>\n",
       "    <tr>\n",
       "      <th>6</th>\n",
       "      <td>2020-12-18</td>\n",
       "      <td>2020-07-02</td>\n",
       "      <td>25</td>\n",
       "      <td>153</td>\n",
       "      <td>EA</td>\n",
       "      <td>CT</td>\n",
       "      <td>11245245</td>\n",
       "      <td>2020-09-19</td>\n",
       "      <td>2020-07-24</td>\n",
       "    </tr>\n",
       "  </tbody>\n",
       "</table>\n",
       "</div>"
      ],
      "text/plain": [
       "  Max_final_score_date Min_data_clctn_start_date  NM1_discount_pc  \\\n",
       "0           2020-12-18                2020-07-02               25   \n",
       "1           2020-12-18                2020-07-02               25   \n",
       "3           2020-12-18                2020-07-02               25   \n",
       "4           2020-12-18                2020-07-02               25   \n",
       "6           2020-12-18                2020-07-02               25   \n",
       "\n",
       "   NM1_score_qt NM1_channel_cd NM1_rate_state_abbr_nm  short_user_id  \\\n",
       "0           153             EA                     CT       11245245   \n",
       "1           153             EA                     CT       11245245   \n",
       "3           153             EA                     CT       11245245   \n",
       "4           153             EA                     CT       11245245   \n",
       "6           153             EA                     CT       11245245   \n",
       "\n",
       "  Last_request_date registration_date  \n",
       "0        2020-11-10        2020-07-24  \n",
       "1        2020-10-02        2020-07-24  \n",
       "3        2020-09-28        2020-07-24  \n",
       "4        2020-10-21        2020-07-24  \n",
       "6        2020-09-19        2020-07-24  "
      ]
     },
     "execution_count": 16,
     "metadata": {},
     "output_type": "execute_result"
    }
   ],
   "source": [
    "# Filter so we only get load_dates <= Max_final_score_date\n",
    "# After 3/10/2021 update, \n",
    "# Filter so we only get Last_request_dates <= Max_final_score_date  \n",
    "SRP_Heartbeat['Last_request_date'] = pd.to_datetime(SRP_Heartbeat.Last_request_date, format='%Y-%m-%d').dt.date\n",
    "SRP_Heartbeat['Max_final_score_date'] = pd.to_datetime(SRP_Heartbeat.Max_final_score_date, format='%Y-%m-%d').dt.date\n",
    "SRP_Heartbeat['registration_date'] = pd.to_datetime(SRP_Heartbeat.registration_date, format='%Y-%m-%d').dt.date\n",
    "\n",
    "# Added < instead of <= on 3/10/2021\n",
    "#SRP_Heartbeat2 = SRP_Heartbeat[SRP_Heartbeat['load_date'] < SRP_Heartbeat['Max_final_score_date']] \n",
    "# CHANGE BACK TO Last_request_date ON 3/10/2021\n",
    "# CHANGE TO registration_date on 4/08/2021 -> N/A Don't change until team has discussion\n",
    "SRP_Heartbeat2 = SRP_Heartbeat[SRP_Heartbeat['Last_request_date'] <= SRP_Heartbeat['Max_final_score_date']] \n",
    "print('SRP Heartbeat data has ' + str(SRP_Heartbeat2['short_user_id'].nunique()) + ' unique drivers.')\n",
    "\n",
    "SRP_Heartbeat2 = SRP_Heartbeat2[['Max_final_score_date','Min_data_clctn_start_date','NM1_discount_pc'\n",
    "                                 ,'NM1_score_qt','NM1_channel_cd','NM1_rate_state_abbr_nm','short_user_id'\n",
    "                                 ,'Last_request_date','registration_date']]\n",
    "print(SRP_Heartbeat2.shape)\n",
    "SRP_Heartbeat2.head()\n",
    "\n",
    "# 3,166,905 to 2,180,596\n",
    "# After 3/09/2021 - 2,140,706\n",
    "# After 3/10/2021 - 1,544,201 (2,124,608 above)\n",
    "# After 3/11/2021 - 1,478,133\n",
    "\n",
    "# 15,238 drivers -> 14,532 drivers\n",
    "# Therefore, we lose 706 drivers that have Last_request_date's > Max_final_score_date\n",
    "# Test scenarios for this below\n",
    "\n",
    "# Now we have 14,538 drivers\n",
    "# After 4/08/2021 - 1,978,931"
   ]
  },
  {
   "cell_type": "code",
   "execution_count": 17,
   "metadata": {},
   "outputs": [
    {
     "name": "stdout",
     "output_type": "stream",
     "text": [
      "(494581, 10)\n",
      "SRP Heartbeat data has 11121 unique drivers with Last_request_date > Max_final_score_date.\n"
     ]
    },
    {
     "data": {
      "text/html": [
       "<div>\n",
       "<style scoped>\n",
       "    .dataframe tbody tr th:only-of-type {\n",
       "        vertical-align: middle;\n",
       "    }\n",
       "\n",
       "    .dataframe tbody tr th {\n",
       "        vertical-align: top;\n",
       "    }\n",
       "\n",
       "    .dataframe thead th {\n",
       "        text-align: right;\n",
       "    }\n",
       "</style>\n",
       "<table border=\"1\" class=\"dataframe\">\n",
       "  <thead>\n",
       "    <tr style=\"text-align: right;\">\n",
       "      <th></th>\n",
       "      <th>vendor_account_nb</th>\n",
       "      <th>Max_final_score_date</th>\n",
       "      <th>Min_data_clctn_start_date</th>\n",
       "      <th>NM1_discount_pc</th>\n",
       "      <th>NM1_score_qt</th>\n",
       "      <th>NM1_channel_cd</th>\n",
       "      <th>NM1_rate_state_abbr_nm</th>\n",
       "      <th>short_user_id</th>\n",
       "      <th>Last_request_date</th>\n",
       "      <th>registration_date</th>\n",
       "    </tr>\n",
       "  </thead>\n",
       "  <tbody>\n",
       "    <tr>\n",
       "      <th>2</th>\n",
       "      <td>11245245</td>\n",
       "      <td>2020-12-18</td>\n",
       "      <td>2020-07-02</td>\n",
       "      <td>25</td>\n",
       "      <td>153</td>\n",
       "      <td>EA</td>\n",
       "      <td>CT</td>\n",
       "      <td>11245245</td>\n",
       "      <td>2021-01-10</td>\n",
       "      <td>2020-07-24</td>\n",
       "    </tr>\n",
       "    <tr>\n",
       "      <th>5</th>\n",
       "      <td>11245245</td>\n",
       "      <td>2020-12-18</td>\n",
       "      <td>2020-07-02</td>\n",
       "      <td>25</td>\n",
       "      <td>153</td>\n",
       "      <td>EA</td>\n",
       "      <td>CT</td>\n",
       "      <td>11245245</td>\n",
       "      <td>2021-01-01</td>\n",
       "      <td>2020-07-24</td>\n",
       "    </tr>\n",
       "    <tr>\n",
       "      <th>12</th>\n",
       "      <td>11245245</td>\n",
       "      <td>2020-12-18</td>\n",
       "      <td>2020-07-02</td>\n",
       "      <td>25</td>\n",
       "      <td>153</td>\n",
       "      <td>EA</td>\n",
       "      <td>CT</td>\n",
       "      <td>11245245</td>\n",
       "      <td>2020-12-27</td>\n",
       "      <td>2020-07-24</td>\n",
       "    </tr>\n",
       "    <tr>\n",
       "      <th>14</th>\n",
       "      <td>11245245</td>\n",
       "      <td>2020-12-18</td>\n",
       "      <td>2020-07-02</td>\n",
       "      <td>25</td>\n",
       "      <td>153</td>\n",
       "      <td>EA</td>\n",
       "      <td>CT</td>\n",
       "      <td>11245245</td>\n",
       "      <td>2021-02-09</td>\n",
       "      <td>2020-07-24</td>\n",
       "    </tr>\n",
       "    <tr>\n",
       "      <th>15</th>\n",
       "      <td>11245245</td>\n",
       "      <td>2020-12-18</td>\n",
       "      <td>2020-07-02</td>\n",
       "      <td>25</td>\n",
       "      <td>153</td>\n",
       "      <td>EA</td>\n",
       "      <td>CT</td>\n",
       "      <td>11245245</td>\n",
       "      <td>2021-01-18</td>\n",
       "      <td>2020-07-24</td>\n",
       "    </tr>\n",
       "    <tr>\n",
       "      <th>...</th>\n",
       "      <td>...</td>\n",
       "      <td>...</td>\n",
       "      <td>...</td>\n",
       "      <td>...</td>\n",
       "      <td>...</td>\n",
       "      <td>...</td>\n",
       "      <td>...</td>\n",
       "      <td>...</td>\n",
       "      <td>...</td>\n",
       "      <td>...</td>\n",
       "    </tr>\n",
       "    <tr>\n",
       "      <th>1990587</th>\n",
       "      <td>10435432</td>\n",
       "      <td>2020-11-20</td>\n",
       "      <td>2020-11-19</td>\n",
       "      <td>0</td>\n",
       "      <td>0</td>\n",
       "      <td>IA</td>\n",
       "      <td>WV</td>\n",
       "      <td>10435432</td>\n",
       "      <td>2020-11-27</td>\n",
       "      <td>2020-11-19</td>\n",
       "    </tr>\n",
       "    <tr>\n",
       "      <th>1990588</th>\n",
       "      <td>10435432</td>\n",
       "      <td>2020-11-20</td>\n",
       "      <td>2020-11-19</td>\n",
       "      <td>0</td>\n",
       "      <td>0</td>\n",
       "      <td>IA</td>\n",
       "      <td>WV</td>\n",
       "      <td>10435432</td>\n",
       "      <td>2021-01-09</td>\n",
       "      <td>2020-11-19</td>\n",
       "    </tr>\n",
       "    <tr>\n",
       "      <th>1990589</th>\n",
       "      <td>10435432</td>\n",
       "      <td>2020-11-20</td>\n",
       "      <td>2020-11-19</td>\n",
       "      <td>0</td>\n",
       "      <td>0</td>\n",
       "      <td>IA</td>\n",
       "      <td>WV</td>\n",
       "      <td>10435432</td>\n",
       "      <td>2021-02-17</td>\n",
       "      <td>2020-11-19</td>\n",
       "    </tr>\n",
       "    <tr>\n",
       "      <th>1990590</th>\n",
       "      <td>10435432</td>\n",
       "      <td>2020-11-20</td>\n",
       "      <td>2020-11-19</td>\n",
       "      <td>0</td>\n",
       "      <td>0</td>\n",
       "      <td>IA</td>\n",
       "      <td>WV</td>\n",
       "      <td>10435432</td>\n",
       "      <td>2020-12-17</td>\n",
       "      <td>2020-11-19</td>\n",
       "    </tr>\n",
       "    <tr>\n",
       "      <th>1990591</th>\n",
       "      <td>10435432</td>\n",
       "      <td>2020-11-20</td>\n",
       "      <td>2020-11-19</td>\n",
       "      <td>0</td>\n",
       "      <td>0</td>\n",
       "      <td>IA</td>\n",
       "      <td>WV</td>\n",
       "      <td>10435432</td>\n",
       "      <td>2021-01-27</td>\n",
       "      <td>2020-11-19</td>\n",
       "    </tr>\n",
       "  </tbody>\n",
       "</table>\n",
       "<p>494581 rows × 10 columns</p>\n",
       "</div>"
      ],
      "text/plain": [
       "         vendor_account_nb Max_final_score_date Min_data_clctn_start_date  \\\n",
       "2                 11245245           2020-12-18                2020-07-02   \n",
       "5                 11245245           2020-12-18                2020-07-02   \n",
       "12                11245245           2020-12-18                2020-07-02   \n",
       "14                11245245           2020-12-18                2020-07-02   \n",
       "15                11245245           2020-12-18                2020-07-02   \n",
       "...                    ...                  ...                       ...   \n",
       "1990587           10435432           2020-11-20                2020-11-19   \n",
       "1990588           10435432           2020-11-20                2020-11-19   \n",
       "1990589           10435432           2020-11-20                2020-11-19   \n",
       "1990590           10435432           2020-11-20                2020-11-19   \n",
       "1990591           10435432           2020-11-20                2020-11-19   \n",
       "\n",
       "         NM1_discount_pc  NM1_score_qt NM1_channel_cd NM1_rate_state_abbr_nm  \\\n",
       "2                     25           153             EA                     CT   \n",
       "5                     25           153             EA                     CT   \n",
       "12                    25           153             EA                     CT   \n",
       "14                    25           153             EA                     CT   \n",
       "15                    25           153             EA                     CT   \n",
       "...                  ...           ...            ...                    ...   \n",
       "1990587                0             0             IA                     WV   \n",
       "1990588                0             0             IA                     WV   \n",
       "1990589                0             0             IA                     WV   \n",
       "1990590                0             0             IA                     WV   \n",
       "1990591                0             0             IA                     WV   \n",
       "\n",
       "         short_user_id Last_request_date registration_date  \n",
       "2             11245245        2021-01-10        2020-07-24  \n",
       "5             11245245        2021-01-01        2020-07-24  \n",
       "12            11245245        2020-12-27        2020-07-24  \n",
       "14            11245245        2021-02-09        2020-07-24  \n",
       "15            11245245        2021-01-18        2020-07-24  \n",
       "...                ...               ...               ...  \n",
       "1990587       10435432        2020-11-27        2020-11-19  \n",
       "1990588       10435432        2021-01-09        2020-11-19  \n",
       "1990589       10435432        2021-02-17        2020-11-19  \n",
       "1990590       10435432        2020-12-17        2020-11-19  \n",
       "1990591       10435432        2021-01-27        2020-11-19  \n",
       "\n",
       "[494581 rows x 10 columns]"
      ]
     },
     "execution_count": 17,
     "metadata": {},
     "output_type": "execute_result"
    }
   ],
   "source": [
    "test = SRP_Heartbeat[SRP_Heartbeat['Last_request_date'] > SRP_Heartbeat['Max_final_score_date']] \n",
    "print(test.shape)\n",
    "print('SRP Heartbeat data has ' + str(test['short_user_id'].nunique()) \n",
    "      + ' unique drivers with Last_request_date > Max_final_score_date.')\n",
    "test"
   ]
  },
  {
   "cell_type": "code",
   "execution_count": 18,
   "metadata": {},
   "outputs": [
    {
     "name": "stdout",
     "output_type": "stream",
     "text": [
      "After filter by max(Last_request_date) SRP Heartbeat data has 14532 unique drivers.\n",
      "(14532, 9)\n",
      "After filter by max(registration_date) SRP Heartbeat data has 14532 unique drivers.\n",
      "(14532, 9)\n",
      "(14532, 9)\n"
     ]
    },
    {
     "data": {
      "text/html": [
       "<div>\n",
       "<style scoped>\n",
       "    .dataframe tbody tr th:only-of-type {\n",
       "        vertical-align: middle;\n",
       "    }\n",
       "\n",
       "    .dataframe tbody tr th {\n",
       "        vertical-align: top;\n",
       "    }\n",
       "\n",
       "    .dataframe thead th {\n",
       "        text-align: right;\n",
       "    }\n",
       "</style>\n",
       "<table border=\"1\" class=\"dataframe\">\n",
       "  <thead>\n",
       "    <tr style=\"text-align: right;\">\n",
       "      <th></th>\n",
       "      <th>Max_final_score_date</th>\n",
       "      <th>Min_data_clctn_start_date</th>\n",
       "      <th>NM1_discount_pc</th>\n",
       "      <th>NM1_score_qt</th>\n",
       "      <th>NM1_channel_cd</th>\n",
       "      <th>NM1_rate_state_abbr_nm</th>\n",
       "      <th>short_user_id</th>\n",
       "      <th>Max_Last_request_date</th>\n",
       "      <th>NM1_registration_date</th>\n",
       "    </tr>\n",
       "  </thead>\n",
       "  <tbody>\n",
       "    <tr>\n",
       "      <th>137</th>\n",
       "      <td>2020-12-18</td>\n",
       "      <td>2020-07-02</td>\n",
       "      <td>25</td>\n",
       "      <td>153</td>\n",
       "      <td>EA</td>\n",
       "      <td>CT</td>\n",
       "      <td>11245245</td>\n",
       "      <td>2020-12-18</td>\n",
       "      <td>2020-07-24</td>\n",
       "    </tr>\n",
       "    <tr>\n",
       "      <th>213</th>\n",
       "      <td>2021-01-12</td>\n",
       "      <td>2020-08-27</td>\n",
       "      <td>28</td>\n",
       "      <td>136</td>\n",
       "      <td>EA</td>\n",
       "      <td>CT</td>\n",
       "      <td>67163621</td>\n",
       "      <td>2021-01-08</td>\n",
       "      <td>2020-09-17</td>\n",
       "    </tr>\n",
       "    <tr>\n",
       "      <th>356</th>\n",
       "      <td>2021-01-21</td>\n",
       "      <td>2020-10-13</td>\n",
       "      <td>32</td>\n",
       "      <td>98</td>\n",
       "      <td>EA</td>\n",
       "      <td>CT</td>\n",
       "      <td>17262410</td>\n",
       "      <td>2021-01-21</td>\n",
       "      <td>2020-10-18</td>\n",
       "    </tr>\n",
       "    <tr>\n",
       "      <th>570</th>\n",
       "      <td>2020-10-30</td>\n",
       "      <td>2020-06-09</td>\n",
       "      <td>28</td>\n",
       "      <td>143</td>\n",
       "      <td>EA</td>\n",
       "      <td>CT</td>\n",
       "      <td>88419143</td>\n",
       "      <td>2020-10-30</td>\n",
       "      <td>2020-06-09</td>\n",
       "    </tr>\n",
       "    <tr>\n",
       "      <th>737</th>\n",
       "      <td>2021-01-25</td>\n",
       "      <td>2020-07-22</td>\n",
       "      <td>32</td>\n",
       "      <td>108</td>\n",
       "      <td>EA</td>\n",
       "      <td>CT</td>\n",
       "      <td>63914697</td>\n",
       "      <td>2021-01-25</td>\n",
       "      <td>2020-08-02</td>\n",
       "    </tr>\n",
       "  </tbody>\n",
       "</table>\n",
       "</div>"
      ],
      "text/plain": [
       "    Max_final_score_date Min_data_clctn_start_date  NM1_discount_pc  \\\n",
       "137           2020-12-18                2020-07-02               25   \n",
       "213           2021-01-12                2020-08-27               28   \n",
       "356           2021-01-21                2020-10-13               32   \n",
       "570           2020-10-30                2020-06-09               28   \n",
       "737           2021-01-25                2020-07-22               32   \n",
       "\n",
       "     NM1_score_qt NM1_channel_cd NM1_rate_state_abbr_nm  short_user_id  \\\n",
       "137           153             EA                     CT       11245245   \n",
       "213           136             EA                     CT       67163621   \n",
       "356            98             EA                     CT       17262410   \n",
       "570           143             EA                     CT       88419143   \n",
       "737           108             EA                     CT       63914697   \n",
       "\n",
       "    Max_Last_request_date NM1_registration_date  \n",
       "137            2020-12-18            2020-07-24  \n",
       "213            2021-01-08            2020-09-17  \n",
       "356            2021-01-21            2020-10-18  \n",
       "570            2020-10-30            2020-06-09  \n",
       "737            2021-01-25            2020-08-02  "
      ]
     },
     "execution_count": 18,
     "metadata": {},
     "output_type": "execute_result"
    }
   ],
   "source": [
    "# Then get max(last_request_date)\n",
    "\n",
    "# Only select needed variables\n",
    "SRP_Heartbeat_Final = SRP_Heartbeat2\n",
    "\n",
    "# Change to datetime\n",
    "SRP_Heartbeat_Final['Last_request_date'] = pd.to_datetime(SRP_Heartbeat_Final.Last_request_date, format='%Y-%m-%d')\n",
    "\n",
    "# Filter by max(Last_request_date)\n",
    "idx = SRP_Heartbeat_Final.groupby(['short_user_id'])['Last_request_date'].transform(max) == SRP_Heartbeat_Final['Last_request_date']\n",
    "SRP_Heartbeat_Final2 = SRP_Heartbeat_Final[idx]\n",
    "SRP_Heartbeat_Final2 = SRP_Heartbeat_Final2.drop_duplicates()\n",
    "print('After filter by max(Last_request_date) SRP Heartbeat data has ' + str(SRP_Heartbeat_Final2['short_user_id'].nunique()) + ' unique drivers.')\n",
    "print(SRP_Heartbeat_Final2.shape)\n",
    "\n",
    "# Change to datetime\n",
    "SRP_Heartbeat_Final2['registration_date'] = pd.to_datetime(SRP_Heartbeat_Final2.registration_date, format='%Y-%m-%d')\n",
    "\n",
    "# Filter by max(registration_date)\n",
    "idx = SRP_Heartbeat_Final2.groupby(['short_user_id'])['registration_date'].transform(max) == SRP_Heartbeat_Final2['registration_date']\n",
    "SRP_Heartbeat_Final3 = SRP_Heartbeat_Final2[idx]\n",
    "SRP_Heartbeat_Final3 = SRP_Heartbeat_Final3.drop_duplicates()\n",
    "print('After filter by max(registration_date) SRP Heartbeat data has ' + str(SRP_Heartbeat_Final3['short_user_id'].nunique()) + ' unique drivers.')\n",
    "print(SRP_Heartbeat_Final3.shape)\n",
    "\n",
    "# Rename / format variables\n",
    "SRP_Heartbeat_Final3['Last_request_date'] = pd.to_datetime(SRP_Heartbeat_Final3.Last_request_date, format='%Y-%m-%d').dt.date\n",
    "SRP_Heartbeat_Final3['registration_date'] = pd.to_datetime(SRP_Heartbeat_Final3.registration_date, format='%Y-%m-%d').dt.date\n",
    "SRP_Heartbeat_Final3.columns = ['Max_final_score_date','Min_data_clctn_start_date','NM1_discount_pc'\n",
    "                               ,'NM1_score_qt','NM1_channel_cd','NM1_rate_state_abbr_nm','short_user_id'\n",
    "                               ,'Max_Last_request_date','NM1_registration_date']\n",
    "\n",
    "print(SRP_Heartbeat_Final3.shape)\n",
    "SRP_Heartbeat_Final3.head()"
   ]
  },
  {
   "cell_type": "code",
   "execution_count": 19,
   "metadata": {},
   "outputs": [
    {
     "name": "stdout",
     "output_type": "stream",
     "text": [
      "SRP Heartbeat data has 14532 unique drivers.\n"
     ]
    }
   ],
   "source": [
    "print('SRP Heartbeat data has ' + str(SRP_Heartbeat_Final3['short_user_id'].nunique()) + ' unique drivers.')\n",
    "# 15,234\n",
    "# After 3/11/2021, 14,497\n",
    "# After fix date on 3/12/2021 -> 14,532\n",
    "# After change to registration_date on 4/08/2021 -> 14,538"
   ]
  },
  {
   "cell_type": "code",
   "execution_count": 20,
   "metadata": {},
   "outputs": [
    {
     "name": "stdout",
     "output_type": "stream",
     "text": [
      "(14148, 12)\n",
      "CMT SRP Heartbeat data has 14148 unique drivers.\n"
     ]
    }
   ],
   "source": [
    "# Join SRP Heartbeat and CMT data on short_user_id \n",
    "SRP_Heartbeat_Final3['short_user_id'] = SRP_Heartbeat_Final3['short_user_id'].astype('int') \n",
    "CMT_Driver_Summary['short_user_id'] = CMT_Driver_Summary['short_user_id'].astype('int') \n",
    "SRP_CMT_Heartbeat = pd.merge(CMT_Driver_Summary, SRP_Heartbeat_Final3, on='short_user_id', how='left')\n",
    "\n",
    "print(SRP_CMT_Heartbeat.shape)\n",
    "SRP_CMT_Heartbeat.head()\n",
    "# 14,869 original CMT to 14,867 now (difference = 2)\n",
    "# 14,822 now 3/10/2021\n",
    "# 14,819 now 3/11/2021\n",
    "# 14,113 now 3/11/2021\n",
    "# 14,141 now 3/12/2021\n",
    "print('CMT SRP Heartbeat data has ' + str(SRP_CMT_Heartbeat['short_user_id'].nunique()) + ' unique drivers.')\n",
    "\n",
    "# After 3/15/2021\n",
    "# Shaja's has 14,148\n",
    "# Sam's has 14,148"
   ]
  },
  {
   "cell_type": "code",
   "execution_count": 24,
   "metadata": {},
   "outputs": [
    {
     "name": "stdout",
     "output_type": "stream",
     "text": [
      "   short_user_id  adjusted_distance_km      Rq5a last_trip_date  \\\n",
      "0       10013699              264.6801  4.476129     2021-01-05   \n",
      "1       10016122             9619.8400  2.726725     2020-12-15   \n",
      "2       10018353             6455.2721  4.306496     2020-11-07   \n",
      "3       10019667             3200.1680  4.115618     2020-11-08   \n",
      "4       10021470             8885.2729  4.157654     2020-12-30   \n",
      "\n",
      "  Max_final_score_date Min_data_clctn_start_date  NM1_discount_pc  \\\n",
      "0           2021-01-05                2020-08-19              0.0   \n",
      "1           2020-12-15                2020-07-30             29.0   \n",
      "2           2020-11-30                2020-07-10             29.0   \n",
      "3           2021-02-16                2020-08-28              0.0   \n",
      "4           2020-12-30                2020-08-17             21.0   \n",
      "\n",
      "   NM1_score_qt NM1_channel_cd NM1_rate_state_abbr_nm Max_Last_request_date  \\\n",
      "0         998.0             IA                     CO            2021-01-05   \n",
      "1         129.0             IA                     KS            2020-12-15   \n",
      "2         114.0             EA                     NC            2020-11-08   \n",
      "3         998.0             IA                     SD            2020-11-08   \n",
      "4         156.0             IA                     NJ            2020-12-30   \n",
      "\n",
      "  NM1_registration_date   Max_Date  scoring_days  NM1_active_days  \\\n",
      "0            2020-09-04 2021-01-05         140.0            123.0   \n",
      "1            2020-08-04 2020-12-15         139.0            133.0   \n",
      "2            2020-07-10 2020-11-08         122.0            120.0   \n",
      "3            2020-08-28 2020-11-08          73.0             72.0   \n",
      "4            2020-08-18 2020-12-30         136.0            134.0   \n",
      "\n",
      "  Max_Date4132021  scoring_days4132021  \n",
      "0      2021-01-05                140.0  \n",
      "1      2020-12-15                139.0  \n",
      "2      2020-11-07                121.0  \n",
      "3      2020-11-08                 73.0  \n",
      "4      2020-12-30                136.0  \n"
     ]
    },
    {
     "data": {
      "text/plain": [
       "1.0       8\n",
       "2.0      47\n",
       "3.0      51\n",
       "4.0      46\n",
       "5.0      46\n",
       "         ..\n",
       "260.0     1\n",
       "261.0     1\n",
       "262.0     2\n",
       "266.0     1\n",
       "269.0     1\n",
       "Name: scoring_days, Length: 261, dtype: int64"
      ]
     },
     "execution_count": 24,
     "metadata": {},
     "output_type": "execute_result"
    }
   ],
   "source": [
    "# Create new variable for scoring_days\n",
    "# Scoring_days = Max(Last Request date, Last Trip date, SRP Data Collection Start Date) - SRP Data Collection Start Date + 1\n",
    "\n",
    "# First format to datetime\n",
    "SRP_CMT_Heartbeat['last_trip_date'] = pd.to_datetime(SRP_CMT_Heartbeat.last_trip_date, format='%Y-%m-%d')\n",
    "SRP_CMT_Heartbeat['Max_Last_request_date'] = pd.to_datetime(SRP_CMT_Heartbeat.Max_Last_request_date, format='%Y-%m-%d')\n",
    "SRP_CMT_Heartbeat['Max_final_score_date'] = pd.to_datetime(SRP_CMT_Heartbeat.Max_final_score_date, format='%Y-%m-%d')\n",
    "SRP_CMT_Heartbeat['Min_data_clctn_start_date'] = pd.to_datetime(SRP_CMT_Heartbeat.Min_data_clctn_start_date, format='%Y-%m-%d')\n",
    "SRP_CMT_Heartbeat['NM1_registration_date'] = pd.to_datetime(SRP_CMT_Heartbeat.NM1_registration_date, format='%Y-%m-%d')\n",
    "\n",
    "# Find Max(Last Request date, Last Trip date, SRP Data Collection Start Date)\n",
    "# After 4/08/2021, find Max(Registration date, Last Trip date, SRP Data Collection Start Date) - N/A don't change yet\n",
    "SRP_CMT_Heartbeat['Max_Date'] = SRP_CMT_Heartbeat[['Max_Last_request_date'\n",
    "                                                   , 'last_trip_date'\n",
    "                                                   , 'Min_data_clctn_start_date']].max(axis=1)\n",
    "\n",
    "# 4/13/2021 -> try different Max_Date to see impact\n",
    "SRP_CMT_Heartbeat['Max_Date4132021'] = SRP_CMT_Heartbeat[['NM1_registration_date'\n",
    "                                                   , 'last_trip_date'\n",
    "                                                   , 'Min_data_clctn_start_date']].max(axis=1)\n",
    "\n",
    "# Create new variable for difference between Min_data_clctn_start_date and Max_Date\n",
    "SRP_CMT_Heartbeat['scoring_days'] = SRP_CMT_Heartbeat['Max_Date'] - SRP_CMT_Heartbeat['Min_data_clctn_start_date']\n",
    "\n",
    "SRP_CMT_Heartbeat['scoring_days4132021'] = SRP_CMT_Heartbeat['Max_Date4132021'] - SRP_CMT_Heartbeat['Min_data_clctn_start_date']\n",
    "\n",
    "# Change to numeric count and add +1\n",
    "SRP_CMT_Heartbeat['scoring_days'] = SRP_CMT_Heartbeat['scoring_days'].dt.days + 1\n",
    "\n",
    "SRP_CMT_Heartbeat['scoring_days4132021'] = SRP_CMT_Heartbeat['scoring_days4132021'].dt.days + 1\n",
    "\n",
    "# Create new variable for NM1 active days\n",
    "\n",
    "# First format to datetime\n",
    "SRP_CMT_Heartbeat['NM1_registration_date'] = pd.to_datetime(SRP_CMT_Heartbeat.NM1_registration_date, format='%Y-%m-%d')\n",
    "\n",
    "# Create NM1_active_days variable (last trip date (CMT) - registration date (Heartbeat))\n",
    "SRP_CMT_Heartbeat['NM1_active_days'] = SRP_CMT_Heartbeat['last_trip_date'] - SRP_CMT_Heartbeat['NM1_registration_date']\n",
    "\n",
    "# Change to numeric count\n",
    "SRP_CMT_Heartbeat['NM1_active_days'] = SRP_CMT_Heartbeat['NM1_active_days'].dt.days \n",
    "\n",
    "# For 0 NM1_active_days, replace with 1\n",
    "SRP_CMT_Heartbeat.loc[(SRP_CMT_Heartbeat.NM1_active_days == 0),'NM1_active_days'] = 1\n",
    "\n",
    "print(SRP_CMT_Heartbeat.head())\n",
    "SRP_CMT_Heartbeat.scoring_days.value_counts().sort_index()"
   ]
  },
  {
   "cell_type": "code",
   "execution_count": 26,
   "metadata": {},
   "outputs": [
    {
     "name": "stdout",
     "output_type": "stream",
     "text": [
      "44820.0\n"
     ]
    },
    {
     "data": {
      "text/plain": [
       "0.0      10214\n",
       "1.0       1598\n",
       "2.0        561\n",
       "3.0        293\n",
       "4.0        162\n",
       "         ...  \n",
       "147.0        1\n",
       "155.0        1\n",
       "156.0        1\n",
       "169.0        1\n",
       "184.0        1\n",
       "Name: scoring_days_diff, Length: 135, dtype: int64"
      ]
     },
     "execution_count": 26,
     "metadata": {},
     "output_type": "execute_result"
    }
   ],
   "source": [
    "# Calculate distance between scoring_days and scoring_days4132021\n",
    "test = SRP_CMT_Heartbeat\n",
    "\n",
    "test['scoring_days_diff'] = test['scoring_days'] - test['scoring_days4132021']\n",
    "\n",
    "print(test.scoring_days_diff.sum())\n",
    "test.scoring_days_diff.value_counts().sort_index()"
   ]
  },
  {
   "cell_type": "code",
   "execution_count": 32,
   "metadata": {},
   "outputs": [
    {
     "name": "stdout",
     "output_type": "stream",
     "text": [
      "AxesSubplot(0.125,0.125;0.775x0.755)\n"
     ]
    },
    {
     "data": {
      "image/png": "[encoded data removed]",
      "text/plain": [
       "<Figure size 864x576 with 1 Axes>"
      ]
     },
     "metadata": {
      "needs_background": "light"
     },
     "output_type": "display_data"
    }
   ],
   "source": [
    "# Graph above value counts\n",
    "test2 = test[test['scoring_days_diff']<=10]\n",
    "fig, ax = plt.subplots(figsize=(12,8))\n",
    "print(test2['scoring_days_diff'].value_counts(sort=False\n",
    "                                             ,normalize=True).sort_values(ascending=False).plot(ax=ax\n",
    "                                                                                                , kind='bar'\n",
    "                                                                                                ,color='lightblue'))"
   ]
  },
  {
   "cell_type": "code",
   "execution_count": 50,
   "metadata": {},
   "outputs": [
    {
     "name": "stdout",
     "output_type": "stream",
     "text": [
      "AxesSubplot(0.125,0.125;0.775x0.755)\n"
     ]
    },
    {
     "data": {
      "image/png": "[encoded data removed]",
      "text/plain": [
       "<Figure size 864x576 with 1 Axes>"
      ]
     },
     "metadata": {
      "needs_background": "light"
     },
     "output_type": "display_data"
    }
   ],
   "source": [
    "# Graph above value counts\n",
    "\n",
    "test3 = test[(test.scoring_days_diff>10) & (test.scoring_days_diff<61)]\n",
    "fig, ax = plt.subplots(figsize=(12,8))\n",
    "print(test3['scoring_days_diff'].value_counts(sort=False\n",
    "                                              ,normalize=True).sort_index(ascending=True).plot(ax=ax\n",
    "                                                                                               , kind='bar'\n",
    "                                                                                               ,color='lightblue'))"
   ]
  },
  {
   "cell_type": "code",
   "execution_count": 51,
   "metadata": {},
   "outputs": [
    {
     "name": "stdout",
     "output_type": "stream",
     "text": [
      "AxesSubplot(0.125,0.125;0.775x0.755)\n"
     ]
    },
    {
     "data": {
      "image/png": "[encoded data removed]",
      "text/plain": [
       "<Figure size 864x576 with 1 Axes>"
      ]
     },
     "metadata": {
      "needs_background": "light"
     },
     "output_type": "display_data"
    }
   ],
   "source": [
    "# Graph add above value counts\n",
    "\n",
    "test4 = test[(test.scoring_days_diff>60) & (test.scoring_days_diff<101)]\n",
    "fig, ax = plt.subplots(figsize=(12,8))\n",
    "print(test4['scoring_days_diff'].value_counts(sort=False\n",
    "                                              ,normalize=True).sort_index(ascending=True).plot(ax=ax\n",
    "                                                                                               , kind='bar'\n",
    "                                                                                               ,color='lightblue'))"
   ]
  },
  {
   "cell_type": "code",
   "execution_count": 52,
   "metadata": {},
   "outputs": [
    {
     "name": "stdout",
     "output_type": "stream",
     "text": [
      "AxesSubplot(0.125,0.125;0.775x0.755)\n"
     ]
    },
    {
     "data": {
      "image/png": "[encoded data removed]",
      "text/plain": [
       "<Figure size 864x576 with 1 Axes>"
      ]
     },
     "metadata": {
      "needs_background": "light"
     },
     "output_type": "display_data"
    }
   ],
   "source": [
    "# Graph add above value counts\n",
    "\n",
    "test5 = test[(test.scoring_days_diff>101)]\n",
    "fig, ax = plt.subplots(figsize=(12,8))\n",
    "print(test5['scoring_days_diff'].value_counts(sort=False\n",
    "                                              ,normalize=True).sort_index(ascending=True).plot(ax=ax\n",
    "                                                                                               , kind='bar'\n",
    "                                                                                               ,color='lightblue'))"
   ]
  },
  {
   "cell_type": "code",
   "execution_count": 22,
   "metadata": {},
   "outputs": [
    {
     "name": "stdout",
     "output_type": "stream",
     "text": [
      "Full data has 14148 unique drivers.\n"
     ]
    }
   ],
   "source": [
    "print('Full data has ' + str(SRP_CMT_Heartbeat['short_user_id'].nunique()) + ' unique drivers.')"
   ]
  },
  {
   "cell_type": "code",
   "execution_count": 23,
   "metadata": {},
   "outputs": [
    {
     "name": "stdout",
     "output_type": "stream",
     "text": [
      "2020-06-12      1\n",
      "2020-06-15      1\n",
      "2020-06-16      1\n",
      "2020-06-17      2\n",
      "2020-06-18      3\n",
      "             ... \n",
      "2021-02-27      2\n",
      "2021-02-28     22\n",
      "2021-03-01     90\n",
      "2021-03-02    272\n",
      "2021-03-03    119\n",
      "Name: Max_Last_request_date, Length: 250, dtype: int64\n"
     ]
    },
    {
     "data": {
      "text/plain": [
       "2020-08-11      2\n",
       "2020-08-12      2\n",
       "2020-08-13      2\n",
       "2020-08-14      1\n",
       "2020-08-17      1\n",
       "             ... \n",
       "2021-02-26    118\n",
       "2021-03-01     92\n",
       "2021-03-02    339\n",
       "2021-03-03    100\n",
       "2021-03-04    136\n",
       "Name: Max_final_score_date, Length: 134, dtype: int64"
      ]
     },
     "execution_count": 23,
     "metadata": {},
     "output_type": "execute_result"
    }
   ],
   "source": [
    "# Check to make sure no Max_Last_request_date > Max_final_score_date\n",
    "# After 4/08/2021, check NM1_registration_date > Max_final_score_date - N/A\n",
    "print(SRP_CMT_Heartbeat.Max_Last_request_date.value_counts().sort_index())\n",
    "SRP_CMT_Heartbeat.Max_final_score_date.value_counts().sort_index()"
   ]
  },
  {
   "cell_type": "code",
   "execution_count": 39,
   "metadata": {},
   "outputs": [
    {
     "name": "stdout",
     "output_type": "stream",
     "text": [
      "(14148, 19)\n"
     ]
    },
    {
     "data": {
      "text/html": [
       "<div>\n",
       "<style scoped>\n",
       "    .dataframe tbody tr th:only-of-type {\n",
       "        vertical-align: middle;\n",
       "    }\n",
       "\n",
       "    .dataframe tbody tr th {\n",
       "        vertical-align: top;\n",
       "    }\n",
       "\n",
       "    .dataframe thead th {\n",
       "        text-align: right;\n",
       "    }\n",
       "</style>\n",
       "<table border=\"1\" class=\"dataframe\">\n",
       "  <thead>\n",
       "    <tr style=\"text-align: right;\">\n",
       "      <th></th>\n",
       "      <th>short_user_id</th>\n",
       "      <th>adjusted_distance_km</th>\n",
       "      <th>Rq5a</th>\n",
       "      <th>last_trip_date</th>\n",
       "      <th>Max_final_score_date</th>\n",
       "      <th>Min_data_clctn_start_date</th>\n",
       "      <th>NM1_discount_pc</th>\n",
       "      <th>NM1_score_qt</th>\n",
       "      <th>NM1_channel_cd</th>\n",
       "      <th>NM1_rate_state_abbr_nm</th>\n",
       "      <th>Max_Last_request_date</th>\n",
       "      <th>NM1_registration_date</th>\n",
       "      <th>Max_Date</th>\n",
       "      <th>scoring_days</th>\n",
       "      <th>NM1_active_days</th>\n",
       "      <th>Exp_Year</th>\n",
       "      <th>lEpr</th>\n",
       "      <th>avg_ann_adj_KM_pu</th>\n",
       "      <th>log_avg_ann_adj_KM_pu</th>\n",
       "    </tr>\n",
       "  </thead>\n",
       "  <tbody>\n",
       "    <tr>\n",
       "      <th>0</th>\n",
       "      <td>10013699</td>\n",
       "      <td>264.6801</td>\n",
       "      <td>4.476129</td>\n",
       "      <td>2021-01-05</td>\n",
       "      <td>2021-01-05</td>\n",
       "      <td>2020-08-19</td>\n",
       "      <td>0.0</td>\n",
       "      <td>998.0</td>\n",
       "      <td>IA</td>\n",
       "      <td>CO</td>\n",
       "      <td>2021-01-05</td>\n",
       "      <td>2020-09-04</td>\n",
       "      <td>2021-01-05</td>\n",
       "      <td>140.0</td>\n",
       "      <td>123.0</td>\n",
       "      <td>0.383562</td>\n",
       "      <td>-0.958255</td>\n",
       "      <td>690.058832</td>\n",
       "      <td>6.536777</td>\n",
       "    </tr>\n",
       "    <tr>\n",
       "      <th>1</th>\n",
       "      <td>10016122</td>\n",
       "      <td>9619.8400</td>\n",
       "      <td>2.726725</td>\n",
       "      <td>2020-12-15</td>\n",
       "      <td>2020-12-15</td>\n",
       "      <td>2020-07-30</td>\n",
       "      <td>29.0</td>\n",
       "      <td>129.0</td>\n",
       "      <td>IA</td>\n",
       "      <td>KS</td>\n",
       "      <td>2020-12-15</td>\n",
       "      <td>2020-08-04</td>\n",
       "      <td>2020-12-15</td>\n",
       "      <td>139.0</td>\n",
       "      <td>133.0</td>\n",
       "      <td>0.380822</td>\n",
       "      <td>-0.965423</td>\n",
       "      <td>25260.730935</td>\n",
       "      <td>10.137006</td>\n",
       "    </tr>\n",
       "    <tr>\n",
       "      <th>2</th>\n",
       "      <td>10018353</td>\n",
       "      <td>6455.2721</td>\n",
       "      <td>4.306496</td>\n",
       "      <td>2020-11-07</td>\n",
       "      <td>2020-11-30</td>\n",
       "      <td>2020-07-10</td>\n",
       "      <td>29.0</td>\n",
       "      <td>114.0</td>\n",
       "      <td>EA</td>\n",
       "      <td>NC</td>\n",
       "      <td>2020-11-08</td>\n",
       "      <td>2020-07-10</td>\n",
       "      <td>2020-11-08</td>\n",
       "      <td>122.0</td>\n",
       "      <td>120.0</td>\n",
       "      <td>0.334247</td>\n",
       "      <td>-1.095876</td>\n",
       "      <td>19312.904234</td>\n",
       "      <td>9.868529</td>\n",
       "    </tr>\n",
       "    <tr>\n",
       "      <th>3</th>\n",
       "      <td>10019667</td>\n",
       "      <td>3200.1680</td>\n",
       "      <td>4.115618</td>\n",
       "      <td>2020-11-08</td>\n",
       "      <td>2021-02-16</td>\n",
       "      <td>2020-08-28</td>\n",
       "      <td>0.0</td>\n",
       "      <td>998.0</td>\n",
       "      <td>IA</td>\n",
       "      <td>SD</td>\n",
       "      <td>2020-11-08</td>\n",
       "      <td>2020-08-28</td>\n",
       "      <td>2020-11-08</td>\n",
       "      <td>73.0</td>\n",
       "      <td>72.0</td>\n",
       "      <td>0.200000</td>\n",
       "      <td>-1.609438</td>\n",
       "      <td>16000.840000</td>\n",
       "      <td>9.680396</td>\n",
       "    </tr>\n",
       "    <tr>\n",
       "      <th>4</th>\n",
       "      <td>10021470</td>\n",
       "      <td>8885.2729</td>\n",
       "      <td>4.157654</td>\n",
       "      <td>2020-12-30</td>\n",
       "      <td>2020-12-30</td>\n",
       "      <td>2020-08-17</td>\n",
       "      <td>21.0</td>\n",
       "      <td>156.0</td>\n",
       "      <td>IA</td>\n",
       "      <td>NJ</td>\n",
       "      <td>2020-12-30</td>\n",
       "      <td>2020-08-18</td>\n",
       "      <td>2020-12-30</td>\n",
       "      <td>136.0</td>\n",
       "      <td>134.0</td>\n",
       "      <td>0.372603</td>\n",
       "      <td>-0.987242</td>\n",
       "      <td>23846.504474</td>\n",
       "      <td>10.079393</td>\n",
       "    </tr>\n",
       "  </tbody>\n",
       "</table>\n",
       "</div>"
      ],
      "text/plain": [
       "   short_user_id  adjusted_distance_km      Rq5a last_trip_date  \\\n",
       "0       10013699              264.6801  4.476129     2021-01-05   \n",
       "1       10016122             9619.8400  2.726725     2020-12-15   \n",
       "2       10018353             6455.2721  4.306496     2020-11-07   \n",
       "3       10019667             3200.1680  4.115618     2020-11-08   \n",
       "4       10021470             8885.2729  4.157654     2020-12-30   \n",
       "\n",
       "  Max_final_score_date Min_data_clctn_start_date  NM1_discount_pc  \\\n",
       "0           2021-01-05                2020-08-19              0.0   \n",
       "1           2020-12-15                2020-07-30             29.0   \n",
       "2           2020-11-30                2020-07-10             29.0   \n",
       "3           2021-02-16                2020-08-28              0.0   \n",
       "4           2020-12-30                2020-08-17             21.0   \n",
       "\n",
       "   NM1_score_qt NM1_channel_cd NM1_rate_state_abbr_nm Max_Last_request_date  \\\n",
       "0         998.0             IA                     CO            2021-01-05   \n",
       "1         129.0             IA                     KS            2020-12-15   \n",
       "2         114.0             EA                     NC            2020-11-08   \n",
       "3         998.0             IA                     SD            2020-11-08   \n",
       "4         156.0             IA                     NJ            2020-12-30   \n",
       "\n",
       "  NM1_registration_date   Max_Date  scoring_days  NM1_active_days  Exp_Year  \\\n",
       "0            2020-09-04 2021-01-05         140.0            123.0  0.383562   \n",
       "1            2020-08-04 2020-12-15         139.0            133.0  0.380822   \n",
       "2            2020-07-10 2020-11-08         122.0            120.0  0.334247   \n",
       "3            2020-08-28 2020-11-08          73.0             72.0  0.200000   \n",
       "4            2020-08-18 2020-12-30         136.0            134.0  0.372603   \n",
       "\n",
       "       lEpr  avg_ann_adj_KM_pu  log_avg_ann_adj_KM_pu  \n",
       "0 -0.958255         690.058832               6.536777  \n",
       "1 -0.965423       25260.730935              10.137006  \n",
       "2 -1.095876       19312.904234               9.868529  \n",
       "3 -1.609438       16000.840000               9.680396  \n",
       "4 -0.987242       23846.504474              10.079393  "
      ]
     },
     "execution_count": 39,
     "metadata": {},
     "output_type": "execute_result"
    }
   ],
   "source": [
    "# Calculate annual distance\n",
    "df = SRP_CMT_Heartbeat\n",
    "\n",
    "# Derive Exp_Year, lEpr, avg_ann_adj_KM_pu, log_avg_ann_adj_KM_pu\n",
    "# Check the max cutoff km\n",
    "scoring_data = (df.assign(Exp_Year=lambda df: df.scoring_days/365\n",
    "                          ,lEpr=lambda df: np.log(df.Exp_Year)\n",
    "                          ,avg_ann_adj_KM_pu=lambda df: df.adjusted_distance_km/df.Exp_Year\n",
    "                          ,log_avg_ann_adj_KM_pu=lambda df: np.where(df.avg_ann_adj_KM_pu < 100000\n",
    "                                                                     ,np.log(df.avg_ann_adj_KM_pu)\n",
    "                                                                     , np.log(100000)))\n",
    "                )\n",
    "print(scoring_data.shape) # 14867 drivers -> now 14822 (3/10/2021) -> now 14819 (3/11/2021) -> now 14148 (3/15/2021)\n",
    "scoring_data.head()"
   ]
  },
  {
   "cell_type": "code",
   "execution_count": 40,
   "metadata": {},
   "outputs": [
    {
     "name": "stdout",
     "output_type": "stream",
     "text": [
      "(14148, 23)\n"
     ]
    },
    {
     "data": {
      "text/html": [
       "<div>\n",
       "<style scoped>\n",
       "    .dataframe tbody tr th:only-of-type {\n",
       "        vertical-align: middle;\n",
       "    }\n",
       "\n",
       "    .dataframe tbody tr th {\n",
       "        vertical-align: top;\n",
       "    }\n",
       "\n",
       "    .dataframe thead th {\n",
       "        text-align: right;\n",
       "    }\n",
       "</style>\n",
       "<table border=\"1\" class=\"dataframe\">\n",
       "  <thead>\n",
       "    <tr style=\"text-align: right;\">\n",
       "      <th></th>\n",
       "      <th>short_user_id</th>\n",
       "      <th>adjusted_distance_km</th>\n",
       "      <th>Rq5a</th>\n",
       "      <th>last_trip_date</th>\n",
       "      <th>Max_final_score_date</th>\n",
       "      <th>Min_data_clctn_start_date</th>\n",
       "      <th>NM1_discount_pc</th>\n",
       "      <th>NM1_score_qt</th>\n",
       "      <th>NM1_channel_cd</th>\n",
       "      <th>NM1_rate_state_abbr_nm</th>\n",
       "      <th>...</th>\n",
       "      <th>scoring_days</th>\n",
       "      <th>NM1_active_days</th>\n",
       "      <th>Exp_Year</th>\n",
       "      <th>lEpr</th>\n",
       "      <th>avg_ann_adj_KM_pu</th>\n",
       "      <th>log_avg_ann_adj_KM_pu</th>\n",
       "      <th>NM1_Exp_Year</th>\n",
       "      <th>NM1_lEpr</th>\n",
       "      <th>NM1_avg_ann_adj_KM_pu</th>\n",
       "      <th>NM1_log_avg_ann_adj_KM_pu</th>\n",
       "    </tr>\n",
       "  </thead>\n",
       "  <tbody>\n",
       "    <tr>\n",
       "      <th>0</th>\n",
       "      <td>10013699</td>\n",
       "      <td>264.6801</td>\n",
       "      <td>4.476129</td>\n",
       "      <td>2021-01-05</td>\n",
       "      <td>2021-01-05</td>\n",
       "      <td>2020-08-19</td>\n",
       "      <td>0.0</td>\n",
       "      <td>998.0</td>\n",
       "      <td>IA</td>\n",
       "      <td>CO</td>\n",
       "      <td>...</td>\n",
       "      <td>140.0</td>\n",
       "      <td>123.0</td>\n",
       "      <td>0.383562</td>\n",
       "      <td>-0.958255</td>\n",
       "      <td>690.058832</td>\n",
       "      <td>6.536777</td>\n",
       "      <td>0.336986</td>\n",
       "      <td>-1.087713</td>\n",
       "      <td>785.432817</td>\n",
       "      <td>6.666235</td>\n",
       "    </tr>\n",
       "    <tr>\n",
       "      <th>1</th>\n",
       "      <td>10016122</td>\n",
       "      <td>9619.8400</td>\n",
       "      <td>2.726725</td>\n",
       "      <td>2020-12-15</td>\n",
       "      <td>2020-12-15</td>\n",
       "      <td>2020-07-30</td>\n",
       "      <td>29.0</td>\n",
       "      <td>129.0</td>\n",
       "      <td>IA</td>\n",
       "      <td>KS</td>\n",
       "      <td>...</td>\n",
       "      <td>139.0</td>\n",
       "      <td>133.0</td>\n",
       "      <td>0.380822</td>\n",
       "      <td>-0.965423</td>\n",
       "      <td>25260.730935</td>\n",
       "      <td>10.137006</td>\n",
       "      <td>0.364384</td>\n",
       "      <td>-1.009548</td>\n",
       "      <td>26400.312782</td>\n",
       "      <td>10.181131</td>\n",
       "    </tr>\n",
       "    <tr>\n",
       "      <th>2</th>\n",
       "      <td>10018353</td>\n",
       "      <td>6455.2721</td>\n",
       "      <td>4.306496</td>\n",
       "      <td>2020-11-07</td>\n",
       "      <td>2020-11-30</td>\n",
       "      <td>2020-07-10</td>\n",
       "      <td>29.0</td>\n",
       "      <td>114.0</td>\n",
       "      <td>EA</td>\n",
       "      <td>NC</td>\n",
       "      <td>...</td>\n",
       "      <td>122.0</td>\n",
       "      <td>120.0</td>\n",
       "      <td>0.334247</td>\n",
       "      <td>-1.095876</td>\n",
       "      <td>19312.904234</td>\n",
       "      <td>9.868529</td>\n",
       "      <td>0.328767</td>\n",
       "      <td>-1.112406</td>\n",
       "      <td>19634.785971</td>\n",
       "      <td>9.885058</td>\n",
       "    </tr>\n",
       "    <tr>\n",
       "      <th>3</th>\n",
       "      <td>10019667</td>\n",
       "      <td>3200.1680</td>\n",
       "      <td>4.115618</td>\n",
       "      <td>2020-11-08</td>\n",
       "      <td>2021-02-16</td>\n",
       "      <td>2020-08-28</td>\n",
       "      <td>0.0</td>\n",
       "      <td>998.0</td>\n",
       "      <td>IA</td>\n",
       "      <td>SD</td>\n",
       "      <td>...</td>\n",
       "      <td>73.0</td>\n",
       "      <td>72.0</td>\n",
       "      <td>0.200000</td>\n",
       "      <td>-1.609438</td>\n",
       "      <td>16000.840000</td>\n",
       "      <td>9.680396</td>\n",
       "      <td>0.197260</td>\n",
       "      <td>-1.623231</td>\n",
       "      <td>16223.073889</td>\n",
       "      <td>9.694190</td>\n",
       "    </tr>\n",
       "    <tr>\n",
       "      <th>4</th>\n",
       "      <td>10021470</td>\n",
       "      <td>8885.2729</td>\n",
       "      <td>4.157654</td>\n",
       "      <td>2020-12-30</td>\n",
       "      <td>2020-12-30</td>\n",
       "      <td>2020-08-17</td>\n",
       "      <td>21.0</td>\n",
       "      <td>156.0</td>\n",
       "      <td>IA</td>\n",
       "      <td>NJ</td>\n",
       "      <td>...</td>\n",
       "      <td>136.0</td>\n",
       "      <td>134.0</td>\n",
       "      <td>0.372603</td>\n",
       "      <td>-0.987242</td>\n",
       "      <td>23846.504474</td>\n",
       "      <td>10.079393</td>\n",
       "      <td>0.367123</td>\n",
       "      <td>-1.002058</td>\n",
       "      <td>24202.422451</td>\n",
       "      <td>10.094208</td>\n",
       "    </tr>\n",
       "  </tbody>\n",
       "</table>\n",
       "<p>5 rows × 23 columns</p>\n",
       "</div>"
      ],
      "text/plain": [
       "   short_user_id  adjusted_distance_km      Rq5a last_trip_date  \\\n",
       "0       10013699              264.6801  4.476129     2021-01-05   \n",
       "1       10016122             9619.8400  2.726725     2020-12-15   \n",
       "2       10018353             6455.2721  4.306496     2020-11-07   \n",
       "3       10019667             3200.1680  4.115618     2020-11-08   \n",
       "4       10021470             8885.2729  4.157654     2020-12-30   \n",
       "\n",
       "  Max_final_score_date Min_data_clctn_start_date  NM1_discount_pc  \\\n",
       "0           2021-01-05                2020-08-19              0.0   \n",
       "1           2020-12-15                2020-07-30             29.0   \n",
       "2           2020-11-30                2020-07-10             29.0   \n",
       "3           2021-02-16                2020-08-28              0.0   \n",
       "4           2020-12-30                2020-08-17             21.0   \n",
       "\n",
       "   NM1_score_qt NM1_channel_cd NM1_rate_state_abbr_nm  ... scoring_days  \\\n",
       "0         998.0             IA                     CO  ...        140.0   \n",
       "1         129.0             IA                     KS  ...        139.0   \n",
       "2         114.0             EA                     NC  ...        122.0   \n",
       "3         998.0             IA                     SD  ...         73.0   \n",
       "4         156.0             IA                     NJ  ...        136.0   \n",
       "\n",
       "  NM1_active_days  Exp_Year      lEpr  avg_ann_adj_KM_pu  \\\n",
       "0           123.0  0.383562 -0.958255         690.058832   \n",
       "1           133.0  0.380822 -0.965423       25260.730935   \n",
       "2           120.0  0.334247 -1.095876       19312.904234   \n",
       "3            72.0  0.200000 -1.609438       16000.840000   \n",
       "4           134.0  0.372603 -0.987242       23846.504474   \n",
       "\n",
       "   log_avg_ann_adj_KM_pu  NM1_Exp_Year  NM1_lEpr  NM1_avg_ann_adj_KM_pu  \\\n",
       "0               6.536777      0.336986 -1.087713             785.432817   \n",
       "1              10.137006      0.364384 -1.009548           26400.312782   \n",
       "2               9.868529      0.328767 -1.112406           19634.785971   \n",
       "3               9.680396      0.197260 -1.623231           16223.073889   \n",
       "4              10.079393      0.367123 -1.002058           24202.422451   \n",
       "\n",
       "   NM1_log_avg_ann_adj_KM_pu  \n",
       "0                   6.666235  \n",
       "1                  10.181131  \n",
       "2                   9.885058  \n",
       "3                   9.694190  \n",
       "4                  10.094208  \n",
       "\n",
       "[5 rows x 23 columns]"
      ]
     },
     "execution_count": 40,
     "metadata": {},
     "output_type": "execute_result"
    }
   ],
   "source": [
    "# Additionally, calculate using NM1_active_days\n",
    "\n",
    "df = scoring_data\n",
    "\n",
    "# Derive Exp_Year, lEpr, avg_ann_adj_KM_pu, log_avg_ann_adj_KM_pu\n",
    "# Check the max cutoff km\n",
    "scoring_data2 = (df.assign(NM1_Exp_Year=lambda df: df.NM1_active_days/365\n",
    "                          ,NM1_lEpr=lambda df: np.log(df.NM1_Exp_Year)\n",
    "                          ,NM1_avg_ann_adj_KM_pu=lambda df: df.adjusted_distance_km/df.NM1_Exp_Year\n",
    "                          ,NM1_log_avg_ann_adj_KM_pu=lambda df: np.where(df.NM1_avg_ann_adj_KM_pu < 100000\n",
    "                                                                     ,np.log(df.NM1_avg_ann_adj_KM_pu)\n",
    "                                                                     , np.log(100000)))\n",
    "                )\n",
    "print(scoring_data2.shape) \n",
    "scoring_data2.head()"
   ]
  },
  {
   "cell_type": "code",
   "execution_count": 41,
   "metadata": {},
   "outputs": [
    {
     "data": {
      "text/html": [
       "<div>\n",
       "<style scoped>\n",
       "    .dataframe tbody tr th:only-of-type {\n",
       "        vertical-align: middle;\n",
       "    }\n",
       "\n",
       "    .dataframe tbody tr th {\n",
       "        vertical-align: top;\n",
       "    }\n",
       "\n",
       "    .dataframe thead th {\n",
       "        text-align: right;\n",
       "    }\n",
       "</style>\n",
       "<table border=\"1\" class=\"dataframe\">\n",
       "  <thead>\n",
       "    <tr style=\"text-align: right;\">\n",
       "      <th></th>\n",
       "      <th>short_user_id</th>\n",
       "      <th>adjusted_distance_km</th>\n",
       "      <th>Rq5a</th>\n",
       "      <th>last_trip_date</th>\n",
       "      <th>Max_final_score_date</th>\n",
       "      <th>Min_data_clctn_start_date</th>\n",
       "      <th>NM1_discount_pc</th>\n",
       "      <th>NM1_score_qt</th>\n",
       "      <th>NM1_channel_cd</th>\n",
       "      <th>NM1_rate_state_abbr_nm</th>\n",
       "      <th>...</th>\n",
       "      <th>NM1_active_days</th>\n",
       "      <th>Exp_Year</th>\n",
       "      <th>lEpr</th>\n",
       "      <th>avg_ann_adj_KM_pu</th>\n",
       "      <th>log_avg_ann_adj_KM_pu</th>\n",
       "      <th>NM1_Exp_Year</th>\n",
       "      <th>NM1_lEpr</th>\n",
       "      <th>NM1_avg_ann_adj_KM_pu</th>\n",
       "      <th>NM1_log_avg_ann_adj_KM_pu</th>\n",
       "      <th>NM2_predicted</th>\n",
       "    </tr>\n",
       "  </thead>\n",
       "  <tbody>\n",
       "    <tr>\n",
       "      <th>0</th>\n",
       "      <td>10013699</td>\n",
       "      <td>264.6801</td>\n",
       "      <td>4.476129</td>\n",
       "      <td>2021-01-05</td>\n",
       "      <td>2021-01-05</td>\n",
       "      <td>2020-08-19</td>\n",
       "      <td>0.0</td>\n",
       "      <td>998.0</td>\n",
       "      <td>IA</td>\n",
       "      <td>CO</td>\n",
       "      <td>...</td>\n",
       "      <td>123.0</td>\n",
       "      <td>0.383562</td>\n",
       "      <td>-0.958255</td>\n",
       "      <td>690.058832</td>\n",
       "      <td>6.536777</td>\n",
       "      <td>0.336986</td>\n",
       "      <td>-1.087713</td>\n",
       "      <td>785.432817</td>\n",
       "      <td>6.666235</td>\n",
       "      <td>0.025270</td>\n",
       "    </tr>\n",
       "    <tr>\n",
       "      <th>1</th>\n",
       "      <td>10016122</td>\n",
       "      <td>9619.8400</td>\n",
       "      <td>2.726725</td>\n",
       "      <td>2020-12-15</td>\n",
       "      <td>2020-12-15</td>\n",
       "      <td>2020-07-30</td>\n",
       "      <td>29.0</td>\n",
       "      <td>129.0</td>\n",
       "      <td>IA</td>\n",
       "      <td>KS</td>\n",
       "      <td>...</td>\n",
       "      <td>133.0</td>\n",
       "      <td>0.380822</td>\n",
       "      <td>-0.965423</td>\n",
       "      <td>25260.730935</td>\n",
       "      <td>10.137006</td>\n",
       "      <td>0.364384</td>\n",
       "      <td>-1.009548</td>\n",
       "      <td>26400.312782</td>\n",
       "      <td>10.181131</td>\n",
       "      <td>0.057512</td>\n",
       "    </tr>\n",
       "    <tr>\n",
       "      <th>2</th>\n",
       "      <td>10018353</td>\n",
       "      <td>6455.2721</td>\n",
       "      <td>4.306496</td>\n",
       "      <td>2020-11-07</td>\n",
       "      <td>2020-11-30</td>\n",
       "      <td>2020-07-10</td>\n",
       "      <td>29.0</td>\n",
       "      <td>114.0</td>\n",
       "      <td>EA</td>\n",
       "      <td>NC</td>\n",
       "      <td>...</td>\n",
       "      <td>120.0</td>\n",
       "      <td>0.334247</td>\n",
       "      <td>-1.095876</td>\n",
       "      <td>19312.904234</td>\n",
       "      <td>9.868529</td>\n",
       "      <td>0.328767</td>\n",
       "      <td>-1.112406</td>\n",
       "      <td>19634.785971</td>\n",
       "      <td>9.885058</td>\n",
       "      <td>0.100156</td>\n",
       "    </tr>\n",
       "    <tr>\n",
       "      <th>3</th>\n",
       "      <td>10019667</td>\n",
       "      <td>3200.1680</td>\n",
       "      <td>4.115618</td>\n",
       "      <td>2020-11-08</td>\n",
       "      <td>2021-02-16</td>\n",
       "      <td>2020-08-28</td>\n",
       "      <td>0.0</td>\n",
       "      <td>998.0</td>\n",
       "      <td>IA</td>\n",
       "      <td>SD</td>\n",
       "      <td>...</td>\n",
       "      <td>72.0</td>\n",
       "      <td>0.200000</td>\n",
       "      <td>-1.609438</td>\n",
       "      <td>16000.840000</td>\n",
       "      <td>9.680396</td>\n",
       "      <td>0.197260</td>\n",
       "      <td>-1.623231</td>\n",
       "      <td>16223.073889</td>\n",
       "      <td>9.694190</td>\n",
       "      <td>0.085094</td>\n",
       "    </tr>\n",
       "    <tr>\n",
       "      <th>4</th>\n",
       "      <td>10021470</td>\n",
       "      <td>8885.2729</td>\n",
       "      <td>4.157654</td>\n",
       "      <td>2020-12-30</td>\n",
       "      <td>2020-12-30</td>\n",
       "      <td>2020-08-17</td>\n",
       "      <td>21.0</td>\n",
       "      <td>156.0</td>\n",
       "      <td>IA</td>\n",
       "      <td>NJ</td>\n",
       "      <td>...</td>\n",
       "      <td>134.0</td>\n",
       "      <td>0.372603</td>\n",
       "      <td>-0.987242</td>\n",
       "      <td>23846.504474</td>\n",
       "      <td>10.079393</td>\n",
       "      <td>0.367123</td>\n",
       "      <td>-1.002058</td>\n",
       "      <td>24202.422451</td>\n",
       "      <td>10.094208</td>\n",
       "      <td>0.103046</td>\n",
       "    </tr>\n",
       "  </tbody>\n",
       "</table>\n",
       "<p>5 rows × 24 columns</p>\n",
       "</div>"
      ],
      "text/plain": [
       "   short_user_id  adjusted_distance_km      Rq5a last_trip_date  \\\n",
       "0       10013699              264.6801  4.476129     2021-01-05   \n",
       "1       10016122             9619.8400  2.726725     2020-12-15   \n",
       "2       10018353             6455.2721  4.306496     2020-11-07   \n",
       "3       10019667             3200.1680  4.115618     2020-11-08   \n",
       "4       10021470             8885.2729  4.157654     2020-12-30   \n",
       "\n",
       "  Max_final_score_date Min_data_clctn_start_date  NM1_discount_pc  \\\n",
       "0           2021-01-05                2020-08-19              0.0   \n",
       "1           2020-12-15                2020-07-30             29.0   \n",
       "2           2020-11-30                2020-07-10             29.0   \n",
       "3           2021-02-16                2020-08-28              0.0   \n",
       "4           2020-12-30                2020-08-17             21.0   \n",
       "\n",
       "   NM1_score_qt NM1_channel_cd NM1_rate_state_abbr_nm  ... NM1_active_days  \\\n",
       "0         998.0             IA                     CO  ...           123.0   \n",
       "1         129.0             IA                     KS  ...           133.0   \n",
       "2         114.0             EA                     NC  ...           120.0   \n",
       "3         998.0             IA                     SD  ...            72.0   \n",
       "4         156.0             IA                     NJ  ...           134.0   \n",
       "\n",
       "   Exp_Year      lEpr  avg_ann_adj_KM_pu  log_avg_ann_adj_KM_pu  NM1_Exp_Year  \\\n",
       "0  0.383562 -0.958255         690.058832               6.536777      0.336986   \n",
       "1  0.380822 -0.965423       25260.730935              10.137006      0.364384   \n",
       "2  0.334247 -1.095876       19312.904234               9.868529      0.328767   \n",
       "3  0.200000 -1.609438       16000.840000               9.680396      0.197260   \n",
       "4  0.372603 -0.987242       23846.504474              10.079393      0.367123   \n",
       "\n",
       "   NM1_lEpr  NM1_avg_ann_adj_KM_pu  NM1_log_avg_ann_adj_KM_pu  NM2_predicted  \n",
       "0 -1.087713             785.432817                   6.666235       0.025270  \n",
       "1 -1.009548           26400.312782                  10.181131       0.057512  \n",
       "2 -1.112406           19634.785971                   9.885058       0.100156  \n",
       "3 -1.623231           16223.073889                   9.694190       0.085094  \n",
       "4 -1.002058           24202.422451                  10.094208       0.103046  \n",
       "\n",
       "[5 rows x 24 columns]"
      ]
     },
     "execution_count": 41,
     "metadata": {},
     "output_type": "execute_result"
    }
   ],
   "source": [
    "# Calculate model score for NM2\n",
    "scoring_data2['NM2_predicted'] = np.exp(-8.424102581326078 \n",
    "                                   + 0.4349686611968898 * scoring_data2['log_avg_ann_adj_KM_pu'] \n",
    "                                   + 0.42507261958851317 * scoring_data2['Rq5a'])\n",
    "scoring_data2.head()"
   ]
  },
  {
   "cell_type": "code",
   "execution_count": 42,
   "metadata": {},
   "outputs": [
    {
     "data": {
      "text/html": [
       "<div>\n",
       "<style scoped>\n",
       "    .dataframe tbody tr th:only-of-type {\n",
       "        vertical-align: middle;\n",
       "    }\n",
       "\n",
       "    .dataframe tbody tr th {\n",
       "        vertical-align: top;\n",
       "    }\n",
       "\n",
       "    .dataframe thead th {\n",
       "        text-align: right;\n",
       "    }\n",
       "</style>\n",
       "<table border=\"1\" class=\"dataframe\">\n",
       "  <thead>\n",
       "    <tr style=\"text-align: right;\">\n",
       "      <th></th>\n",
       "      <th>short_user_id</th>\n",
       "      <th>adjusted_distance_km</th>\n",
       "      <th>Rq5a</th>\n",
       "      <th>last_trip_date</th>\n",
       "      <th>Max_final_score_date</th>\n",
       "      <th>Min_data_clctn_start_date</th>\n",
       "      <th>NM1_discount_pc</th>\n",
       "      <th>NM1_score_qt</th>\n",
       "      <th>NM1_channel_cd</th>\n",
       "      <th>NM1_rate_state_abbr_nm</th>\n",
       "      <th>...</th>\n",
       "      <th>Exp_Year</th>\n",
       "      <th>lEpr</th>\n",
       "      <th>avg_ann_adj_KM_pu</th>\n",
       "      <th>log_avg_ann_adj_KM_pu</th>\n",
       "      <th>NM1_Exp_Year</th>\n",
       "      <th>NM1_lEpr</th>\n",
       "      <th>NM1_avg_ann_adj_KM_pu</th>\n",
       "      <th>NM1_log_avg_ann_adj_KM_pu</th>\n",
       "      <th>NM2_predicted</th>\n",
       "      <th>NM1_predicted</th>\n",
       "    </tr>\n",
       "  </thead>\n",
       "  <tbody>\n",
       "    <tr>\n",
       "      <th>0</th>\n",
       "      <td>10013699</td>\n",
       "      <td>264.6801</td>\n",
       "      <td>4.476129</td>\n",
       "      <td>2021-01-05</td>\n",
       "      <td>2021-01-05</td>\n",
       "      <td>2020-08-19</td>\n",
       "      <td>0.0</td>\n",
       "      <td>998.0</td>\n",
       "      <td>IA</td>\n",
       "      <td>CO</td>\n",
       "      <td>...</td>\n",
       "      <td>0.383562</td>\n",
       "      <td>-0.958255</td>\n",
       "      <td>690.058832</td>\n",
       "      <td>6.536777</td>\n",
       "      <td>0.336986</td>\n",
       "      <td>-1.087713</td>\n",
       "      <td>785.432817</td>\n",
       "      <td>6.666235</td>\n",
       "      <td>0.025270</td>\n",
       "      <td>0.026734</td>\n",
       "    </tr>\n",
       "    <tr>\n",
       "      <th>1</th>\n",
       "      <td>10016122</td>\n",
       "      <td>9619.8400</td>\n",
       "      <td>2.726725</td>\n",
       "      <td>2020-12-15</td>\n",
       "      <td>2020-12-15</td>\n",
       "      <td>2020-07-30</td>\n",
       "      <td>29.0</td>\n",
       "      <td>129.0</td>\n",
       "      <td>IA</td>\n",
       "      <td>KS</td>\n",
       "      <td>...</td>\n",
       "      <td>0.380822</td>\n",
       "      <td>-0.965423</td>\n",
       "      <td>25260.730935</td>\n",
       "      <td>10.137006</td>\n",
       "      <td>0.364384</td>\n",
       "      <td>-1.009548</td>\n",
       "      <td>26400.312782</td>\n",
       "      <td>10.181131</td>\n",
       "      <td>0.057512</td>\n",
       "      <td>0.058626</td>\n",
       "    </tr>\n",
       "    <tr>\n",
       "      <th>2</th>\n",
       "      <td>10018353</td>\n",
       "      <td>6455.2721</td>\n",
       "      <td>4.306496</td>\n",
       "      <td>2020-11-07</td>\n",
       "      <td>2020-11-30</td>\n",
       "      <td>2020-07-10</td>\n",
       "      <td>29.0</td>\n",
       "      <td>114.0</td>\n",
       "      <td>EA</td>\n",
       "      <td>NC</td>\n",
       "      <td>...</td>\n",
       "      <td>0.334247</td>\n",
       "      <td>-1.095876</td>\n",
       "      <td>19312.904234</td>\n",
       "      <td>9.868529</td>\n",
       "      <td>0.328767</td>\n",
       "      <td>-1.112406</td>\n",
       "      <td>19634.785971</td>\n",
       "      <td>9.885058</td>\n",
       "      <td>0.100156</td>\n",
       "      <td>0.100878</td>\n",
       "    </tr>\n",
       "    <tr>\n",
       "      <th>3</th>\n",
       "      <td>10019667</td>\n",
       "      <td>3200.1680</td>\n",
       "      <td>4.115618</td>\n",
       "      <td>2020-11-08</td>\n",
       "      <td>2021-02-16</td>\n",
       "      <td>2020-08-28</td>\n",
       "      <td>0.0</td>\n",
       "      <td>998.0</td>\n",
       "      <td>IA</td>\n",
       "      <td>SD</td>\n",
       "      <td>...</td>\n",
       "      <td>0.200000</td>\n",
       "      <td>-1.609438</td>\n",
       "      <td>16000.840000</td>\n",
       "      <td>9.680396</td>\n",
       "      <td>0.197260</td>\n",
       "      <td>-1.623231</td>\n",
       "      <td>16223.073889</td>\n",
       "      <td>9.694190</td>\n",
       "      <td>0.085094</td>\n",
       "      <td>0.085606</td>\n",
       "    </tr>\n",
       "    <tr>\n",
       "      <th>4</th>\n",
       "      <td>10021470</td>\n",
       "      <td>8885.2729</td>\n",
       "      <td>4.157654</td>\n",
       "      <td>2020-12-30</td>\n",
       "      <td>2020-12-30</td>\n",
       "      <td>2020-08-17</td>\n",
       "      <td>21.0</td>\n",
       "      <td>156.0</td>\n",
       "      <td>IA</td>\n",
       "      <td>NJ</td>\n",
       "      <td>...</td>\n",
       "      <td>0.372603</td>\n",
       "      <td>-0.987242</td>\n",
       "      <td>23846.504474</td>\n",
       "      <td>10.079393</td>\n",
       "      <td>0.367123</td>\n",
       "      <td>-1.002058</td>\n",
       "      <td>24202.422451</td>\n",
       "      <td>10.094208</td>\n",
       "      <td>0.103046</td>\n",
       "      <td>0.103712</td>\n",
       "    </tr>\n",
       "  </tbody>\n",
       "</table>\n",
       "<p>5 rows × 25 columns</p>\n",
       "</div>"
      ],
      "text/plain": [
       "   short_user_id  adjusted_distance_km      Rq5a last_trip_date  \\\n",
       "0       10013699              264.6801  4.476129     2021-01-05   \n",
       "1       10016122             9619.8400  2.726725     2020-12-15   \n",
       "2       10018353             6455.2721  4.306496     2020-11-07   \n",
       "3       10019667             3200.1680  4.115618     2020-11-08   \n",
       "4       10021470             8885.2729  4.157654     2020-12-30   \n",
       "\n",
       "  Max_final_score_date Min_data_clctn_start_date  NM1_discount_pc  \\\n",
       "0           2021-01-05                2020-08-19              0.0   \n",
       "1           2020-12-15                2020-07-30             29.0   \n",
       "2           2020-11-30                2020-07-10             29.0   \n",
       "3           2021-02-16                2020-08-28              0.0   \n",
       "4           2020-12-30                2020-08-17             21.0   \n",
       "\n",
       "   NM1_score_qt NM1_channel_cd NM1_rate_state_abbr_nm  ...  Exp_Year  \\\n",
       "0         998.0             IA                     CO  ...  0.383562   \n",
       "1         129.0             IA                     KS  ...  0.380822   \n",
       "2         114.0             EA                     NC  ...  0.334247   \n",
       "3         998.0             IA                     SD  ...  0.200000   \n",
       "4         156.0             IA                     NJ  ...  0.372603   \n",
       "\n",
       "       lEpr avg_ann_adj_KM_pu  log_avg_ann_adj_KM_pu  NM1_Exp_Year  NM1_lEpr  \\\n",
       "0 -0.958255        690.058832               6.536777      0.336986 -1.087713   \n",
       "1 -0.965423      25260.730935              10.137006      0.364384 -1.009548   \n",
       "2 -1.095876      19312.904234               9.868529      0.328767 -1.112406   \n",
       "3 -1.609438      16000.840000               9.680396      0.197260 -1.623231   \n",
       "4 -0.987242      23846.504474              10.079393      0.367123 -1.002058   \n",
       "\n",
       "   NM1_avg_ann_adj_KM_pu  NM1_log_avg_ann_adj_KM_pu  NM2_predicted  \\\n",
       "0             785.432817                   6.666235       0.025270   \n",
       "1           26400.312782                  10.181131       0.057512   \n",
       "2           19634.785971                   9.885058       0.100156   \n",
       "3           16223.073889                   9.694190       0.085094   \n",
       "4           24202.422451                  10.094208       0.103046   \n",
       "\n",
       "   NM1_predicted  \n",
       "0       0.026734  \n",
       "1       0.058626  \n",
       "2       0.100878  \n",
       "3       0.085606  \n",
       "4       0.103712  \n",
       "\n",
       "[5 rows x 25 columns]"
      ]
     },
     "execution_count": 42,
     "metadata": {},
     "output_type": "execute_result"
    }
   ],
   "source": [
    "# Calculate model score for NM1\n",
    "scoring_data2['NM1_predicted'] = np.exp(-8.424102581326078 \n",
    "                                   + 0.4349686611968898 * scoring_data2['NM1_log_avg_ann_adj_KM_pu'] \n",
    "                                   + 0.42507261958851317 * scoring_data2['Rq5a'])\n",
    "scoring_data2.head()"
   ]
  },
  {
   "cell_type": "code",
   "execution_count": 43,
   "metadata": {},
   "outputs": [
    {
     "name": "stdout",
     "output_type": "stream",
     "text": [
      "count    14148.000000\n",
      "mean         0.082241\n",
      "std          0.038247\n",
      "min          0.000936\n",
      "5%           0.031906\n",
      "25%          0.056810\n",
      "50%          0.076911\n",
      "75%          0.101037\n",
      "95%          0.147393\n",
      "99.5%        0.234617\n",
      "max          0.679304\n",
      "Name: NM2_predicted, dtype: float64\n",
      "count    14148.000000\n",
      "mean         0.087816\n",
      "std          0.040096\n",
      "min          0.001179\n",
      "5%           0.037359\n",
      "25%          0.061814\n",
      "50%          0.081935\n",
      "75%          0.106636\n",
      "95%          0.156870\n",
      "99.5%        0.248048\n",
      "max          0.690297\n",
      "Name: NM1_predicted, dtype: float64\n"
     ]
    }
   ],
   "source": [
    "print(scoring_data2.NM2_predicted.describe(percentiles=[.05,.25,.5,.75,.95,.995]))\n",
    "print(scoring_data2.NM1_predicted.describe(percentiles=[.05,.25,.5,.75,.95,.995]))"
   ]
  },
  {
   "cell_type": "code",
   "execution_count": 44,
   "metadata": {},
   "outputs": [
    {
     "name": "stdout",
     "output_type": "stream",
     "text": [
      "AxesSubplot(0.125,0.125;0.775x0.755)\n",
      "AxesSubplot(0.125,0.125;0.775x0.755)\n"
     ]
    },
    {
     "data": {
      "image/png": "[encoded data removed]",
      "text/plain": [
       "<Figure size 432x288 with 1 Axes>"
      ]
     },
     "metadata": {
      "needs_background": "light"
     },
     "output_type": "display_data"
    }
   ],
   "source": [
    "# Look at distribution of scores \n",
    "print(scoring_data2['NM2_predicted'].plot.hist(bins=100))\n",
    "print(scoring_data2['NM1_predicted'].plot.hist(alpha=0.7,bins=100))"
   ]
  },
  {
   "cell_type": "code",
   "execution_count": 45,
   "metadata": {},
   "outputs": [
    {
     "data": {
      "text/html": [
       "<div>\n",
       "<style scoped>\n",
       "    .dataframe tbody tr th:only-of-type {\n",
       "        vertical-align: middle;\n",
       "    }\n",
       "\n",
       "    .dataframe tbody tr th {\n",
       "        vertical-align: top;\n",
       "    }\n",
       "\n",
       "    .dataframe thead th {\n",
       "        text-align: right;\n",
       "    }\n",
       "</style>\n",
       "<table border=\"1\" class=\"dataframe\">\n",
       "  <thead>\n",
       "    <tr style=\"text-align: right;\">\n",
       "      <th></th>\n",
       "      <th>short_user_id</th>\n",
       "      <th>adjusted_distance_km</th>\n",
       "      <th>Rq5a</th>\n",
       "      <th>last_trip_date</th>\n",
       "      <th>Max_final_score_date</th>\n",
       "      <th>Min_data_clctn_start_date</th>\n",
       "      <th>NM1_discount_pc</th>\n",
       "      <th>NM1_score_qt</th>\n",
       "      <th>NM1_channel_cd</th>\n",
       "      <th>NM1_rate_state_abbr_nm</th>\n",
       "      <th>...</th>\n",
       "      <th>lEpr</th>\n",
       "      <th>avg_ann_adj_KM_pu</th>\n",
       "      <th>log_avg_ann_adj_KM_pu</th>\n",
       "      <th>NM1_Exp_Year</th>\n",
       "      <th>NM1_lEpr</th>\n",
       "      <th>NM1_avg_ann_adj_KM_pu</th>\n",
       "      <th>NM1_log_avg_ann_adj_KM_pu</th>\n",
       "      <th>NM2_predicted</th>\n",
       "      <th>NM1_predicted</th>\n",
       "      <th>NM2_Mapped_Score</th>\n",
       "    </tr>\n",
       "  </thead>\n",
       "  <tbody>\n",
       "    <tr>\n",
       "      <th>0</th>\n",
       "      <td>10013699</td>\n",
       "      <td>264.6801</td>\n",
       "      <td>4.476129</td>\n",
       "      <td>2021-01-05</td>\n",
       "      <td>2021-01-05</td>\n",
       "      <td>2020-08-19</td>\n",
       "      <td>0.0</td>\n",
       "      <td>998.0</td>\n",
       "      <td>IA</td>\n",
       "      <td>CO</td>\n",
       "      <td>...</td>\n",
       "      <td>-0.958255</td>\n",
       "      <td>690.058832</td>\n",
       "      <td>6.536777</td>\n",
       "      <td>0.336986</td>\n",
       "      <td>-1.087713</td>\n",
       "      <td>785.432817</td>\n",
       "      <td>6.666235</td>\n",
       "      <td>0.025270</td>\n",
       "      <td>0.026734</td>\n",
       "      <td>34.0</td>\n",
       "    </tr>\n",
       "    <tr>\n",
       "      <th>1</th>\n",
       "      <td>10016122</td>\n",
       "      <td>9619.8400</td>\n",
       "      <td>2.726725</td>\n",
       "      <td>2020-12-15</td>\n",
       "      <td>2020-12-15</td>\n",
       "      <td>2020-07-30</td>\n",
       "      <td>29.0</td>\n",
       "      <td>129.0</td>\n",
       "      <td>IA</td>\n",
       "      <td>KS</td>\n",
       "      <td>...</td>\n",
       "      <td>-0.965423</td>\n",
       "      <td>25260.730935</td>\n",
       "      <td>10.137006</td>\n",
       "      <td>0.364384</td>\n",
       "      <td>-1.009548</td>\n",
       "      <td>26400.312782</td>\n",
       "      <td>10.181131</td>\n",
       "      <td>0.057512</td>\n",
       "      <td>0.058626</td>\n",
       "      <td>163.0</td>\n",
       "    </tr>\n",
       "    <tr>\n",
       "      <th>2</th>\n",
       "      <td>10018353</td>\n",
       "      <td>6455.2721</td>\n",
       "      <td>4.306496</td>\n",
       "      <td>2020-11-07</td>\n",
       "      <td>2020-11-30</td>\n",
       "      <td>2020-07-10</td>\n",
       "      <td>29.0</td>\n",
       "      <td>114.0</td>\n",
       "      <td>EA</td>\n",
       "      <td>NC</td>\n",
       "      <td>...</td>\n",
       "      <td>-1.095876</td>\n",
       "      <td>19312.904234</td>\n",
       "      <td>9.868529</td>\n",
       "      <td>0.328767</td>\n",
       "      <td>-1.112406</td>\n",
       "      <td>19634.785971</td>\n",
       "      <td>9.885058</td>\n",
       "      <td>0.100156</td>\n",
       "      <td>0.100878</td>\n",
       "      <td>334.0</td>\n",
       "    </tr>\n",
       "    <tr>\n",
       "      <th>3</th>\n",
       "      <td>10019667</td>\n",
       "      <td>3200.1680</td>\n",
       "      <td>4.115618</td>\n",
       "      <td>2020-11-08</td>\n",
       "      <td>2021-02-16</td>\n",
       "      <td>2020-08-28</td>\n",
       "      <td>0.0</td>\n",
       "      <td>998.0</td>\n",
       "      <td>IA</td>\n",
       "      <td>SD</td>\n",
       "      <td>...</td>\n",
       "      <td>-1.609438</td>\n",
       "      <td>16000.840000</td>\n",
       "      <td>9.680396</td>\n",
       "      <td>0.197260</td>\n",
       "      <td>-1.623231</td>\n",
       "      <td>16223.073889</td>\n",
       "      <td>9.694190</td>\n",
       "      <td>0.085094</td>\n",
       "      <td>0.085606</td>\n",
       "      <td>273.0</td>\n",
       "    </tr>\n",
       "    <tr>\n",
       "      <th>4</th>\n",
       "      <td>10021470</td>\n",
       "      <td>8885.2729</td>\n",
       "      <td>4.157654</td>\n",
       "      <td>2020-12-30</td>\n",
       "      <td>2020-12-30</td>\n",
       "      <td>2020-08-17</td>\n",
       "      <td>21.0</td>\n",
       "      <td>156.0</td>\n",
       "      <td>IA</td>\n",
       "      <td>NJ</td>\n",
       "      <td>...</td>\n",
       "      <td>-0.987242</td>\n",
       "      <td>23846.504474</td>\n",
       "      <td>10.079393</td>\n",
       "      <td>0.367123</td>\n",
       "      <td>-1.002058</td>\n",
       "      <td>24202.422451</td>\n",
       "      <td>10.094208</td>\n",
       "      <td>0.103046</td>\n",
       "      <td>0.103712</td>\n",
       "      <td>345.0</td>\n",
       "    </tr>\n",
       "  </tbody>\n",
       "</table>\n",
       "<p>5 rows × 26 columns</p>\n",
       "</div>"
      ],
      "text/plain": [
       "   short_user_id  adjusted_distance_km      Rq5a last_trip_date  \\\n",
       "0       10013699              264.6801  4.476129     2021-01-05   \n",
       "1       10016122             9619.8400  2.726725     2020-12-15   \n",
       "2       10018353             6455.2721  4.306496     2020-11-07   \n",
       "3       10019667             3200.1680  4.115618     2020-11-08   \n",
       "4       10021470             8885.2729  4.157654     2020-12-30   \n",
       "\n",
       "  Max_final_score_date Min_data_clctn_start_date  NM1_discount_pc  \\\n",
       "0           2021-01-05                2020-08-19              0.0   \n",
       "1           2020-12-15                2020-07-30             29.0   \n",
       "2           2020-11-30                2020-07-10             29.0   \n",
       "3           2021-02-16                2020-08-28              0.0   \n",
       "4           2020-12-30                2020-08-17             21.0   \n",
       "\n",
       "   NM1_score_qt NM1_channel_cd NM1_rate_state_abbr_nm  ...      lEpr  \\\n",
       "0         998.0             IA                     CO  ... -0.958255   \n",
       "1         129.0             IA                     KS  ... -0.965423   \n",
       "2         114.0             EA                     NC  ... -1.095876   \n",
       "3         998.0             IA                     SD  ... -1.609438   \n",
       "4         156.0             IA                     NJ  ... -0.987242   \n",
       "\n",
       "  avg_ann_adj_KM_pu log_avg_ann_adj_KM_pu  NM1_Exp_Year  NM1_lEpr  \\\n",
       "0        690.058832              6.536777      0.336986 -1.087713   \n",
       "1      25260.730935             10.137006      0.364384 -1.009548   \n",
       "2      19312.904234              9.868529      0.328767 -1.112406   \n",
       "3      16000.840000              9.680396      0.197260 -1.623231   \n",
       "4      23846.504474             10.079393      0.367123 -1.002058   \n",
       "\n",
       "   NM1_avg_ann_adj_KM_pu  NM1_log_avg_ann_adj_KM_pu  NM2_predicted  \\\n",
       "0             785.432817                   6.666235       0.025270   \n",
       "1           26400.312782                  10.181131       0.057512   \n",
       "2           19634.785971                   9.885058       0.100156   \n",
       "3           16223.073889                   9.694190       0.085094   \n",
       "4           24202.422451                  10.094208       0.103046   \n",
       "\n",
       "   NM1_predicted  NM2_Mapped_Score  \n",
       "0       0.026734              34.0  \n",
       "1       0.058626             163.0  \n",
       "2       0.100878             334.0  \n",
       "3       0.085606             273.0  \n",
       "4       0.103712             345.0  \n",
       "\n",
       "[5 rows x 26 columns]"
      ]
     },
     "execution_count": 45,
     "metadata": {},
     "output_type": "execute_result"
    }
   ],
   "source": [
    "# Reshape model score to final score for NM2\n",
    "scoring_data2['NM2_Mapped_Score'] = scoring_data2['NM2_predicted']\n",
    "scoring_data2['NM2_Mapped_Score'] = scoring_data2.NM2_Mapped_Score.apply(lambda x: np.floor((np.maximum(np.minimum(x,0.26506423)\n",
    "                                                                                                        , 0.01695606)\n",
    "                                                                                             -0.01695606)*4006.31708339)+1)\n",
    "scoring_data2.head()"
   ]
  },
  {
   "cell_type": "code",
   "execution_count": 46,
   "metadata": {},
   "outputs": [
    {
     "data": {
      "text/html": [
       "<div>\n",
       "<style scoped>\n",
       "    .dataframe tbody tr th:only-of-type {\n",
       "        vertical-align: middle;\n",
       "    }\n",
       "\n",
       "    .dataframe tbody tr th {\n",
       "        vertical-align: top;\n",
       "    }\n",
       "\n",
       "    .dataframe thead th {\n",
       "        text-align: right;\n",
       "    }\n",
       "</style>\n",
       "<table border=\"1\" class=\"dataframe\">\n",
       "  <thead>\n",
       "    <tr style=\"text-align: right;\">\n",
       "      <th></th>\n",
       "      <th>short_user_id</th>\n",
       "      <th>adjusted_distance_km</th>\n",
       "      <th>Rq5a</th>\n",
       "      <th>last_trip_date</th>\n",
       "      <th>Max_final_score_date</th>\n",
       "      <th>Min_data_clctn_start_date</th>\n",
       "      <th>NM1_discount_pc</th>\n",
       "      <th>NM1_score_qt</th>\n",
       "      <th>NM1_channel_cd</th>\n",
       "      <th>NM1_rate_state_abbr_nm</th>\n",
       "      <th>...</th>\n",
       "      <th>avg_ann_adj_KM_pu</th>\n",
       "      <th>log_avg_ann_adj_KM_pu</th>\n",
       "      <th>NM1_Exp_Year</th>\n",
       "      <th>NM1_lEpr</th>\n",
       "      <th>NM1_avg_ann_adj_KM_pu</th>\n",
       "      <th>NM1_log_avg_ann_adj_KM_pu</th>\n",
       "      <th>NM2_predicted</th>\n",
       "      <th>NM1_predicted</th>\n",
       "      <th>NM2_Mapped_Score</th>\n",
       "      <th>NM1_Mapped_Score</th>\n",
       "    </tr>\n",
       "  </thead>\n",
       "  <tbody>\n",
       "    <tr>\n",
       "      <th>0</th>\n",
       "      <td>10013699</td>\n",
       "      <td>264.6801</td>\n",
       "      <td>4.476129</td>\n",
       "      <td>2021-01-05</td>\n",
       "      <td>2021-01-05</td>\n",
       "      <td>2020-08-19</td>\n",
       "      <td>0.0</td>\n",
       "      <td>998.0</td>\n",
       "      <td>IA</td>\n",
       "      <td>CO</td>\n",
       "      <td>...</td>\n",
       "      <td>690.058832</td>\n",
       "      <td>6.536777</td>\n",
       "      <td>0.336986</td>\n",
       "      <td>-1.087713</td>\n",
       "      <td>785.432817</td>\n",
       "      <td>6.666235</td>\n",
       "      <td>0.025270</td>\n",
       "      <td>0.026734</td>\n",
       "      <td>34.0</td>\n",
       "      <td>40.0</td>\n",
       "    </tr>\n",
       "    <tr>\n",
       "      <th>1</th>\n",
       "      <td>10016122</td>\n",
       "      <td>9619.8400</td>\n",
       "      <td>2.726725</td>\n",
       "      <td>2020-12-15</td>\n",
       "      <td>2020-12-15</td>\n",
       "      <td>2020-07-30</td>\n",
       "      <td>29.0</td>\n",
       "      <td>129.0</td>\n",
       "      <td>IA</td>\n",
       "      <td>KS</td>\n",
       "      <td>...</td>\n",
       "      <td>25260.730935</td>\n",
       "      <td>10.137006</td>\n",
       "      <td>0.364384</td>\n",
       "      <td>-1.009548</td>\n",
       "      <td>26400.312782</td>\n",
       "      <td>10.181131</td>\n",
       "      <td>0.057512</td>\n",
       "      <td>0.058626</td>\n",
       "      <td>163.0</td>\n",
       "      <td>167.0</td>\n",
       "    </tr>\n",
       "    <tr>\n",
       "      <th>2</th>\n",
       "      <td>10018353</td>\n",
       "      <td>6455.2721</td>\n",
       "      <td>4.306496</td>\n",
       "      <td>2020-11-07</td>\n",
       "      <td>2020-11-30</td>\n",
       "      <td>2020-07-10</td>\n",
       "      <td>29.0</td>\n",
       "      <td>114.0</td>\n",
       "      <td>EA</td>\n",
       "      <td>NC</td>\n",
       "      <td>...</td>\n",
       "      <td>19312.904234</td>\n",
       "      <td>9.868529</td>\n",
       "      <td>0.328767</td>\n",
       "      <td>-1.112406</td>\n",
       "      <td>19634.785971</td>\n",
       "      <td>9.885058</td>\n",
       "      <td>0.100156</td>\n",
       "      <td>0.100878</td>\n",
       "      <td>334.0</td>\n",
       "      <td>337.0</td>\n",
       "    </tr>\n",
       "    <tr>\n",
       "      <th>3</th>\n",
       "      <td>10019667</td>\n",
       "      <td>3200.1680</td>\n",
       "      <td>4.115618</td>\n",
       "      <td>2020-11-08</td>\n",
       "      <td>2021-02-16</td>\n",
       "      <td>2020-08-28</td>\n",
       "      <td>0.0</td>\n",
       "      <td>998.0</td>\n",
       "      <td>IA</td>\n",
       "      <td>SD</td>\n",
       "      <td>...</td>\n",
       "      <td>16000.840000</td>\n",
       "      <td>9.680396</td>\n",
       "      <td>0.197260</td>\n",
       "      <td>-1.623231</td>\n",
       "      <td>16223.073889</td>\n",
       "      <td>9.694190</td>\n",
       "      <td>0.085094</td>\n",
       "      <td>0.085606</td>\n",
       "      <td>273.0</td>\n",
       "      <td>276.0</td>\n",
       "    </tr>\n",
       "    <tr>\n",
       "      <th>4</th>\n",
       "      <td>10021470</td>\n",
       "      <td>8885.2729</td>\n",
       "      <td>4.157654</td>\n",
       "      <td>2020-12-30</td>\n",
       "      <td>2020-12-30</td>\n",
       "      <td>2020-08-17</td>\n",
       "      <td>21.0</td>\n",
       "      <td>156.0</td>\n",
       "      <td>IA</td>\n",
       "      <td>NJ</td>\n",
       "      <td>...</td>\n",
       "      <td>23846.504474</td>\n",
       "      <td>10.079393</td>\n",
       "      <td>0.367123</td>\n",
       "      <td>-1.002058</td>\n",
       "      <td>24202.422451</td>\n",
       "      <td>10.094208</td>\n",
       "      <td>0.103046</td>\n",
       "      <td>0.103712</td>\n",
       "      <td>345.0</td>\n",
       "      <td>348.0</td>\n",
       "    </tr>\n",
       "  </tbody>\n",
       "</table>\n",
       "<p>5 rows × 27 columns</p>\n",
       "</div>"
      ],
      "text/plain": [
       "   short_user_id  adjusted_distance_km      Rq5a last_trip_date  \\\n",
       "0       10013699              264.6801  4.476129     2021-01-05   \n",
       "1       10016122             9619.8400  2.726725     2020-12-15   \n",
       "2       10018353             6455.2721  4.306496     2020-11-07   \n",
       "3       10019667             3200.1680  4.115618     2020-11-08   \n",
       "4       10021470             8885.2729  4.157654     2020-12-30   \n",
       "\n",
       "  Max_final_score_date Min_data_clctn_start_date  NM1_discount_pc  \\\n",
       "0           2021-01-05                2020-08-19              0.0   \n",
       "1           2020-12-15                2020-07-30             29.0   \n",
       "2           2020-11-30                2020-07-10             29.0   \n",
       "3           2021-02-16                2020-08-28              0.0   \n",
       "4           2020-12-30                2020-08-17             21.0   \n",
       "\n",
       "   NM1_score_qt NM1_channel_cd NM1_rate_state_abbr_nm  ... avg_ann_adj_KM_pu  \\\n",
       "0         998.0             IA                     CO  ...        690.058832   \n",
       "1         129.0             IA                     KS  ...      25260.730935   \n",
       "2         114.0             EA                     NC  ...      19312.904234   \n",
       "3         998.0             IA                     SD  ...      16000.840000   \n",
       "4         156.0             IA                     NJ  ...      23846.504474   \n",
       "\n",
       "  log_avg_ann_adj_KM_pu NM1_Exp_Year  NM1_lEpr  NM1_avg_ann_adj_KM_pu  \\\n",
       "0              6.536777     0.336986 -1.087713             785.432817   \n",
       "1             10.137006     0.364384 -1.009548           26400.312782   \n",
       "2              9.868529     0.328767 -1.112406           19634.785971   \n",
       "3              9.680396     0.197260 -1.623231           16223.073889   \n",
       "4             10.079393     0.367123 -1.002058           24202.422451   \n",
       "\n",
       "   NM1_log_avg_ann_adj_KM_pu  NM2_predicted  NM1_predicted  NM2_Mapped_Score  \\\n",
       "0                   6.666235       0.025270       0.026734              34.0   \n",
       "1                  10.181131       0.057512       0.058626             163.0   \n",
       "2                   9.885058       0.100156       0.100878             334.0   \n",
       "3                   9.694190       0.085094       0.085606             273.0   \n",
       "4                  10.094208       0.103046       0.103712             345.0   \n",
       "\n",
       "   NM1_Mapped_Score  \n",
       "0              40.0  \n",
       "1             167.0  \n",
       "2             337.0  \n",
       "3             276.0  \n",
       "4             348.0  \n",
       "\n",
       "[5 rows x 27 columns]"
      ]
     },
     "execution_count": 46,
     "metadata": {},
     "output_type": "execute_result"
    }
   ],
   "source": [
    "# Reshape model score to final score for NM1\n",
    "scoring_data2['NM1_Mapped_Score'] = scoring_data2['NM1_predicted']\n",
    "scoring_data2['NM1_Mapped_Score'] = scoring_data2.NM1_Mapped_Score.apply(lambda x: np.floor((np.maximum(np.minimum(x,0.26506423)\n",
    "                                                                                                        , 0.01695606)\n",
    "                                                                                             -0.01695606)*4006.31708339)+1)\n",
    "scoring_data2.head()"
   ]
  },
  {
   "cell_type": "code",
   "execution_count": 47,
   "metadata": {},
   "outputs": [
    {
     "name": "stdout",
     "output_type": "stream",
     "text": [
      "AxesSubplot(0.125,0.125;0.775x0.755)\n",
      "AxesSubplot(0.125,0.125;0.775x0.755)\n",
      "AxesSubplot(0.125,0.125;0.775x0.755)\n"
     ]
    },
    {
     "data": {
      "image/png": "[encoded data removed]",
      "text/plain": [
       "<Figure size 432x288 with 1 Axes>"
      ]
     },
     "metadata": {
      "needs_background": "light"
     },
     "output_type": "display_data"
    }
   ],
   "source": [
    "# Look at distribution of final scores \n",
    "print(scoring_data2['NM1_score_qt'].plot.hist(bins=100)) # BLUE\n",
    "print(scoring_data2['NM2_Mapped_Score'].plot.hist(alpha=0.7,bins=100)) # ORANGE\n",
    "print(scoring_data2['NM1_Mapped_Score'].plot.hist(alpha=0.5,bins=100)) # GREEN"
   ]
  },
  {
   "cell_type": "code",
   "execution_count": 48,
   "metadata": {},
   "outputs": [
    {
     "data": {
      "text/html": [
       "<div>\n",
       "<style scoped>\n",
       "    .dataframe tbody tr th:only-of-type {\n",
       "        vertical-align: middle;\n",
       "    }\n",
       "\n",
       "    .dataframe tbody tr th {\n",
       "        vertical-align: top;\n",
       "    }\n",
       "\n",
       "    .dataframe thead th {\n",
       "        text-align: right;\n",
       "    }\n",
       "</style>\n",
       "<table border=\"1\" class=\"dataframe\">\n",
       "  <thead>\n",
       "    <tr style=\"text-align: right;\">\n",
       "      <th></th>\n",
       "      <th>short_user_id</th>\n",
       "      <th>adjusted_distance_km</th>\n",
       "      <th>Rq5a</th>\n",
       "      <th>last_trip_date</th>\n",
       "      <th>Max_final_score_date</th>\n",
       "      <th>Min_data_clctn_start_date</th>\n",
       "      <th>NM1_discount_pc</th>\n",
       "      <th>NM1_score_qt</th>\n",
       "      <th>NM1_channel_cd</th>\n",
       "      <th>NM1_rate_state_abbr_nm</th>\n",
       "      <th>...</th>\n",
       "      <th>NM1_Exp_Year</th>\n",
       "      <th>NM1_lEpr</th>\n",
       "      <th>NM1_avg_ann_adj_KM_pu</th>\n",
       "      <th>NM1_log_avg_ann_adj_KM_pu</th>\n",
       "      <th>NM2_predicted</th>\n",
       "      <th>NM1_predicted</th>\n",
       "      <th>NM2_Mapped_Score</th>\n",
       "      <th>NM1_Mapped_Score</th>\n",
       "      <th>NM2_rscore</th>\n",
       "      <th>NM2_discount_pc</th>\n",
       "    </tr>\n",
       "  </thead>\n",
       "  <tbody>\n",
       "    <tr>\n",
       "      <th>0</th>\n",
       "      <td>10013699</td>\n",
       "      <td>264.6801</td>\n",
       "      <td>4.476129</td>\n",
       "      <td>2021-01-05</td>\n",
       "      <td>2021-01-05</td>\n",
       "      <td>2020-08-19</td>\n",
       "      <td>0.0</td>\n",
       "      <td>998.0</td>\n",
       "      <td>IA</td>\n",
       "      <td>CO</td>\n",
       "      <td>...</td>\n",
       "      <td>0.336986</td>\n",
       "      <td>-1.087713</td>\n",
       "      <td>785.432817</td>\n",
       "      <td>6.666235</td>\n",
       "      <td>0.025270</td>\n",
       "      <td>0.026734</td>\n",
       "      <td>34.0</td>\n",
       "      <td>40.0</td>\n",
       "      <td>0.53</td>\n",
       "      <td>47.0</td>\n",
       "    </tr>\n",
       "    <tr>\n",
       "      <th>1</th>\n",
       "      <td>10016122</td>\n",
       "      <td>9619.8400</td>\n",
       "      <td>2.726725</td>\n",
       "      <td>2020-12-15</td>\n",
       "      <td>2020-12-15</td>\n",
       "      <td>2020-07-30</td>\n",
       "      <td>29.0</td>\n",
       "      <td>129.0</td>\n",
       "      <td>IA</td>\n",
       "      <td>KS</td>\n",
       "      <td>...</td>\n",
       "      <td>0.364384</td>\n",
       "      <td>-1.009548</td>\n",
       "      <td>26400.312782</td>\n",
       "      <td>10.181131</td>\n",
       "      <td>0.057512</td>\n",
       "      <td>0.058626</td>\n",
       "      <td>163.0</td>\n",
       "      <td>167.0</td>\n",
       "      <td>0.57</td>\n",
       "      <td>43.0</td>\n",
       "    </tr>\n",
       "    <tr>\n",
       "      <th>2</th>\n",
       "      <td>10018353</td>\n",
       "      <td>6455.2721</td>\n",
       "      <td>4.306496</td>\n",
       "      <td>2020-11-07</td>\n",
       "      <td>2020-11-30</td>\n",
       "      <td>2020-07-10</td>\n",
       "      <td>29.0</td>\n",
       "      <td>114.0</td>\n",
       "      <td>EA</td>\n",
       "      <td>NC</td>\n",
       "      <td>...</td>\n",
       "      <td>0.328767</td>\n",
       "      <td>-1.112406</td>\n",
       "      <td>19634.785971</td>\n",
       "      <td>9.885058</td>\n",
       "      <td>0.100156</td>\n",
       "      <td>0.100878</td>\n",
       "      <td>334.0</td>\n",
       "      <td>337.0</td>\n",
       "      <td>0.76</td>\n",
       "      <td>24.0</td>\n",
       "    </tr>\n",
       "    <tr>\n",
       "      <th>3</th>\n",
       "      <td>10019667</td>\n",
       "      <td>3200.1680</td>\n",
       "      <td>4.115618</td>\n",
       "      <td>2020-11-08</td>\n",
       "      <td>2021-02-16</td>\n",
       "      <td>2020-08-28</td>\n",
       "      <td>0.0</td>\n",
       "      <td>998.0</td>\n",
       "      <td>IA</td>\n",
       "      <td>SD</td>\n",
       "      <td>...</td>\n",
       "      <td>0.197260</td>\n",
       "      <td>-1.623231</td>\n",
       "      <td>16223.073889</td>\n",
       "      <td>9.694190</td>\n",
       "      <td>0.085094</td>\n",
       "      <td>0.085606</td>\n",
       "      <td>273.0</td>\n",
       "      <td>276.0</td>\n",
       "      <td>0.72</td>\n",
       "      <td>28.0</td>\n",
       "    </tr>\n",
       "    <tr>\n",
       "      <th>4</th>\n",
       "      <td>10021470</td>\n",
       "      <td>8885.2729</td>\n",
       "      <td>4.157654</td>\n",
       "      <td>2020-12-30</td>\n",
       "      <td>2020-12-30</td>\n",
       "      <td>2020-08-17</td>\n",
       "      <td>21.0</td>\n",
       "      <td>156.0</td>\n",
       "      <td>IA</td>\n",
       "      <td>NJ</td>\n",
       "      <td>...</td>\n",
       "      <td>0.367123</td>\n",
       "      <td>-1.002058</td>\n",
       "      <td>24202.422451</td>\n",
       "      <td>10.094208</td>\n",
       "      <td>0.103046</td>\n",
       "      <td>0.103712</td>\n",
       "      <td>345.0</td>\n",
       "      <td>348.0</td>\n",
       "      <td>0.79</td>\n",
       "      <td>21.0</td>\n",
       "    </tr>\n",
       "  </tbody>\n",
       "</table>\n",
       "<p>5 rows × 29 columns</p>\n",
       "</div>"
      ],
      "text/plain": [
       "   short_user_id  adjusted_distance_km      Rq5a last_trip_date  \\\n",
       "0       10013699              264.6801  4.476129     2021-01-05   \n",
       "1       10016122             9619.8400  2.726725     2020-12-15   \n",
       "2       10018353             6455.2721  4.306496     2020-11-07   \n",
       "3       10019667             3200.1680  4.115618     2020-11-08   \n",
       "4       10021470             8885.2729  4.157654     2020-12-30   \n",
       "\n",
       "  Max_final_score_date Min_data_clctn_start_date  NM1_discount_pc  \\\n",
       "0           2021-01-05                2020-08-19              0.0   \n",
       "1           2020-12-15                2020-07-30             29.0   \n",
       "2           2020-11-30                2020-07-10             29.0   \n",
       "3           2021-02-16                2020-08-28              0.0   \n",
       "4           2020-12-30                2020-08-17             21.0   \n",
       "\n",
       "   NM1_score_qt NM1_channel_cd NM1_rate_state_abbr_nm  ... NM1_Exp_Year  \\\n",
       "0         998.0             IA                     CO  ...     0.336986   \n",
       "1         129.0             IA                     KS  ...     0.364384   \n",
       "2         114.0             EA                     NC  ...     0.328767   \n",
       "3         998.0             IA                     SD  ...     0.197260   \n",
       "4         156.0             IA                     NJ  ...     0.367123   \n",
       "\n",
       "   NM1_lEpr NM1_avg_ann_adj_KM_pu  NM1_log_avg_ann_adj_KM_pu  NM2_predicted  \\\n",
       "0 -1.087713            785.432817                   6.666235       0.025270   \n",
       "1 -1.009548          26400.312782                  10.181131       0.057512   \n",
       "2 -1.112406          19634.785971                   9.885058       0.100156   \n",
       "3 -1.623231          16223.073889                   9.694190       0.085094   \n",
       "4 -1.002058          24202.422451                  10.094208       0.103046   \n",
       "\n",
       "   NM1_predicted  NM2_Mapped_Score  NM1_Mapped_Score  NM2_rscore  \\\n",
       "0       0.026734              34.0              40.0        0.53   \n",
       "1       0.058626             163.0             167.0        0.57   \n",
       "2       0.100878             334.0             337.0        0.76   \n",
       "3       0.085606             273.0             276.0        0.72   \n",
       "4       0.103712             345.0             348.0        0.79   \n",
       "\n",
       "   NM2_discount_pc  \n",
       "0             47.0  \n",
       "1             43.0  \n",
       "2             24.0  \n",
       "3             28.0  \n",
       "4             21.0  \n",
       "\n",
       "[5 rows x 29 columns]"
      ]
     },
     "execution_count": 48,
     "metadata": {},
     "output_type": "execute_result"
    }
   ],
   "source": [
    "# Calculate NM2 rscore\n",
    "#rscore is the current discount factor based on the pure score\n",
    "scoring_data2['NM2_rscore']=scoring_data2.NM2_Mapped_Score.apply(lambda x: 0.53 if x<=98 else\n",
    "                                                    0.54 if x<=141 else\n",
    "                                                    0.57 if x<=170 else\n",
    "                                                    0.60 if x<=193 else\n",
    "                                                    0.64 if x<=215 else\n",
    "                                                    0.67 if x<=234 else\n",
    "                                                    0.70 if x<=252 else\n",
    "                                                    0.71 if x<=269 else\n",
    "                                                    0.72 if x<=286 else\n",
    "                                                    0.73 if x<=303 else\n",
    "                                                    0.74 if x<=321 else\n",
    "                                                    0.76 if x<=339 else\n",
    "                                                    0.79 if x<=358 else\n",
    "                                                    0.82 if x<=379 else\n",
    "                                                    0.85 if x<=403 else\n",
    "                                                    0.88 if x<=432 else\n",
    "                                                    0.91 if x<=470 else\n",
    "                                                    0.94 if x<=521 else\n",
    "                                                    0.97 if x<=612 else\n",
    "                                                    1.0)\n",
    "# Format to be percent discount\n",
    "scoring_data2['NM2_discount_pc'] = (1-scoring_data2['NM2_rscore'])*100\n",
    "\n",
    "scoring_data2.head()"
   ]
  },
  {
   "cell_type": "code",
   "execution_count": 49,
   "metadata": {},
   "outputs": [
    {
     "data": {
      "text/html": [
       "<div>\n",
       "<style scoped>\n",
       "    .dataframe tbody tr th:only-of-type {\n",
       "        vertical-align: middle;\n",
       "    }\n",
       "\n",
       "    .dataframe tbody tr th {\n",
       "        vertical-align: top;\n",
       "    }\n",
       "\n",
       "    .dataframe thead th {\n",
       "        text-align: right;\n",
       "    }\n",
       "</style>\n",
       "<table border=\"1\" class=\"dataframe\">\n",
       "  <thead>\n",
       "    <tr style=\"text-align: right;\">\n",
       "      <th></th>\n",
       "      <th>short_user_id</th>\n",
       "      <th>adjusted_distance_km</th>\n",
       "      <th>Rq5a</th>\n",
       "      <th>last_trip_date</th>\n",
       "      <th>Max_final_score_date</th>\n",
       "      <th>Min_data_clctn_start_date</th>\n",
       "      <th>NM1_discount_pc</th>\n",
       "      <th>NM1_score_qt</th>\n",
       "      <th>NM1_channel_cd</th>\n",
       "      <th>NM1_rate_state_abbr_nm</th>\n",
       "      <th>...</th>\n",
       "      <th>NM1_avg_ann_adj_KM_pu</th>\n",
       "      <th>NM1_log_avg_ann_adj_KM_pu</th>\n",
       "      <th>NM2_predicted</th>\n",
       "      <th>NM1_predicted</th>\n",
       "      <th>NM2_Mapped_Score</th>\n",
       "      <th>NM1_Mapped_Score</th>\n",
       "      <th>NM2_rscore</th>\n",
       "      <th>NM2_discount_pc</th>\n",
       "      <th>NM1_rscore</th>\n",
       "      <th>NM1_discount_pc2</th>\n",
       "    </tr>\n",
       "  </thead>\n",
       "  <tbody>\n",
       "    <tr>\n",
       "      <th>0</th>\n",
       "      <td>10013699</td>\n",
       "      <td>264.6801</td>\n",
       "      <td>4.476129</td>\n",
       "      <td>2021-01-05</td>\n",
       "      <td>2021-01-05</td>\n",
       "      <td>2020-08-19</td>\n",
       "      <td>0.0</td>\n",
       "      <td>998.0</td>\n",
       "      <td>IA</td>\n",
       "      <td>CO</td>\n",
       "      <td>...</td>\n",
       "      <td>785.432817</td>\n",
       "      <td>6.666235</td>\n",
       "      <td>0.025270</td>\n",
       "      <td>0.026734</td>\n",
       "      <td>34.0</td>\n",
       "      <td>40.0</td>\n",
       "      <td>0.53</td>\n",
       "      <td>47.0</td>\n",
       "      <td>0.53</td>\n",
       "      <td>47.0</td>\n",
       "    </tr>\n",
       "    <tr>\n",
       "      <th>1</th>\n",
       "      <td>10016122</td>\n",
       "      <td>9619.8400</td>\n",
       "      <td>2.726725</td>\n",
       "      <td>2020-12-15</td>\n",
       "      <td>2020-12-15</td>\n",
       "      <td>2020-07-30</td>\n",
       "      <td>29.0</td>\n",
       "      <td>129.0</td>\n",
       "      <td>IA</td>\n",
       "      <td>KS</td>\n",
       "      <td>...</td>\n",
       "      <td>26400.312782</td>\n",
       "      <td>10.181131</td>\n",
       "      <td>0.057512</td>\n",
       "      <td>0.058626</td>\n",
       "      <td>163.0</td>\n",
       "      <td>167.0</td>\n",
       "      <td>0.57</td>\n",
       "      <td>43.0</td>\n",
       "      <td>0.57</td>\n",
       "      <td>43.0</td>\n",
       "    </tr>\n",
       "    <tr>\n",
       "      <th>2</th>\n",
       "      <td>10018353</td>\n",
       "      <td>6455.2721</td>\n",
       "      <td>4.306496</td>\n",
       "      <td>2020-11-07</td>\n",
       "      <td>2020-11-30</td>\n",
       "      <td>2020-07-10</td>\n",
       "      <td>29.0</td>\n",
       "      <td>114.0</td>\n",
       "      <td>EA</td>\n",
       "      <td>NC</td>\n",
       "      <td>...</td>\n",
       "      <td>19634.785971</td>\n",
       "      <td>9.885058</td>\n",
       "      <td>0.100156</td>\n",
       "      <td>0.100878</td>\n",
       "      <td>334.0</td>\n",
       "      <td>337.0</td>\n",
       "      <td>0.76</td>\n",
       "      <td>24.0</td>\n",
       "      <td>0.76</td>\n",
       "      <td>24.0</td>\n",
       "    </tr>\n",
       "    <tr>\n",
       "      <th>3</th>\n",
       "      <td>10019667</td>\n",
       "      <td>3200.1680</td>\n",
       "      <td>4.115618</td>\n",
       "      <td>2020-11-08</td>\n",
       "      <td>2021-02-16</td>\n",
       "      <td>2020-08-28</td>\n",
       "      <td>0.0</td>\n",
       "      <td>998.0</td>\n",
       "      <td>IA</td>\n",
       "      <td>SD</td>\n",
       "      <td>...</td>\n",
       "      <td>16223.073889</td>\n",
       "      <td>9.694190</td>\n",
       "      <td>0.085094</td>\n",
       "      <td>0.085606</td>\n",
       "      <td>273.0</td>\n",
       "      <td>276.0</td>\n",
       "      <td>0.72</td>\n",
       "      <td>28.0</td>\n",
       "      <td>0.72</td>\n",
       "      <td>28.0</td>\n",
       "    </tr>\n",
       "    <tr>\n",
       "      <th>4</th>\n",
       "      <td>10021470</td>\n",
       "      <td>8885.2729</td>\n",
       "      <td>4.157654</td>\n",
       "      <td>2020-12-30</td>\n",
       "      <td>2020-12-30</td>\n",
       "      <td>2020-08-17</td>\n",
       "      <td>21.0</td>\n",
       "      <td>156.0</td>\n",
       "      <td>IA</td>\n",
       "      <td>NJ</td>\n",
       "      <td>...</td>\n",
       "      <td>24202.422451</td>\n",
       "      <td>10.094208</td>\n",
       "      <td>0.103046</td>\n",
       "      <td>0.103712</td>\n",
       "      <td>345.0</td>\n",
       "      <td>348.0</td>\n",
       "      <td>0.79</td>\n",
       "      <td>21.0</td>\n",
       "      <td>0.79</td>\n",
       "      <td>21.0</td>\n",
       "    </tr>\n",
       "  </tbody>\n",
       "</table>\n",
       "<p>5 rows × 31 columns</p>\n",
       "</div>"
      ],
      "text/plain": [
       "   short_user_id  adjusted_distance_km      Rq5a last_trip_date  \\\n",
       "0       10013699              264.6801  4.476129     2021-01-05   \n",
       "1       10016122             9619.8400  2.726725     2020-12-15   \n",
       "2       10018353             6455.2721  4.306496     2020-11-07   \n",
       "3       10019667             3200.1680  4.115618     2020-11-08   \n",
       "4       10021470             8885.2729  4.157654     2020-12-30   \n",
       "\n",
       "  Max_final_score_date Min_data_clctn_start_date  NM1_discount_pc  \\\n",
       "0           2021-01-05                2020-08-19              0.0   \n",
       "1           2020-12-15                2020-07-30             29.0   \n",
       "2           2020-11-30                2020-07-10             29.0   \n",
       "3           2021-02-16                2020-08-28              0.0   \n",
       "4           2020-12-30                2020-08-17             21.0   \n",
       "\n",
       "   NM1_score_qt NM1_channel_cd NM1_rate_state_abbr_nm  ...  \\\n",
       "0         998.0             IA                     CO  ...   \n",
       "1         129.0             IA                     KS  ...   \n",
       "2         114.0             EA                     NC  ...   \n",
       "3         998.0             IA                     SD  ...   \n",
       "4         156.0             IA                     NJ  ...   \n",
       "\n",
       "  NM1_avg_ann_adj_KM_pu NM1_log_avg_ann_adj_KM_pu NM2_predicted  \\\n",
       "0            785.432817                  6.666235      0.025270   \n",
       "1          26400.312782                 10.181131      0.057512   \n",
       "2          19634.785971                  9.885058      0.100156   \n",
       "3          16223.073889                  9.694190      0.085094   \n",
       "4          24202.422451                 10.094208      0.103046   \n",
       "\n",
       "   NM1_predicted  NM2_Mapped_Score  NM1_Mapped_Score  NM2_rscore  \\\n",
       "0       0.026734              34.0              40.0        0.53   \n",
       "1       0.058626             163.0             167.0        0.57   \n",
       "2       0.100878             334.0             337.0        0.76   \n",
       "3       0.085606             273.0             276.0        0.72   \n",
       "4       0.103712             345.0             348.0        0.79   \n",
       "\n",
       "   NM2_discount_pc  NM1_rscore  NM1_discount_pc2  \n",
       "0             47.0        0.53              47.0  \n",
       "1             43.0        0.57              43.0  \n",
       "2             24.0        0.76              24.0  \n",
       "3             28.0        0.72              28.0  \n",
       "4             21.0        0.79              21.0  \n",
       "\n",
       "[5 rows x 31 columns]"
      ]
     },
     "execution_count": 49,
     "metadata": {},
     "output_type": "execute_result"
    }
   ],
   "source": [
    "# Calculate NM1 rscore\n",
    "scoring_data2['NM1_rscore']=scoring_data2.NM1_Mapped_Score.apply(lambda x: 0.53 if x<=98 else\n",
    "                                                    0.54 if x<=141 else\n",
    "                                                    0.57 if x<=170 else\n",
    "                                                    0.60 if x<=193 else\n",
    "                                                    0.64 if x<=215 else\n",
    "                                                    0.67 if x<=234 else\n",
    "                                                    0.70 if x<=252 else\n",
    "                                                    0.71 if x<=269 else\n",
    "                                                    0.72 if x<=286 else\n",
    "                                                    0.73 if x<=303 else\n",
    "                                                    0.74 if x<=321 else\n",
    "                                                    0.76 if x<=339 else\n",
    "                                                    0.79 if x<=358 else\n",
    "                                                    0.82 if x<=379 else\n",
    "                                                    0.85 if x<=403 else\n",
    "                                                    0.88 if x<=432 else\n",
    "                                                    0.91 if x<=470 else\n",
    "                                                    0.94 if x<=521 else\n",
    "                                                    0.97 if x<=612 else\n",
    "                                                    1.0)\n",
    "# Format to be percent discount\n",
    "scoring_data2['NM1_discount_pc2'] = (1-scoring_data2['NM1_rscore'])*100\n",
    "\n",
    "scoring_data2.head()"
   ]
  },
  {
   "cell_type": "code",
   "execution_count": 50,
   "metadata": {},
   "outputs": [
    {
     "name": "stdout",
     "output_type": "stream",
     "text": [
      "count    14148.000000\n",
      "mean        30.342098\n",
      "std         13.322625\n",
      "min          0.000000\n",
      "5%           3.000000\n",
      "25%         24.000000\n",
      "50%         30.000000\n",
      "75%         43.000000\n",
      "95%         47.000000\n",
      "99.5%       47.000000\n",
      "max         47.000000\n",
      "Name: NM2_discount_pc, dtype: float64\n",
      "count    14148.000000\n",
      "mean        28.420837\n",
      "std         13.542840\n",
      "min          0.000000\n",
      "5%           3.000000\n",
      "25%         18.000000\n",
      "50%         29.000000\n",
      "75%         40.000000\n",
      "95%         47.000000\n",
      "99.5%       47.000000\n",
      "max         47.000000\n",
      "Name: NM1_discount_pc2, dtype: float64\n",
      "count    14141.000000\n",
      "mean        24.321547\n",
      "std         10.990838\n",
      "min          0.000000\n",
      "5%           0.000000\n",
      "25%         21.000000\n",
      "50%         28.000000\n",
      "75%         31.000000\n",
      "95%         40.000000\n",
      "99.5%       40.000000\n",
      "max         40.000000\n",
      "Name: NM1_discount_pc, dtype: float64\n",
      "count    14141.000000\n",
      "mean        30.401934\n",
      "std         13.738547\n",
      "min          0.000000\n",
      "5%           0.000000\n",
      "25%         26.250000\n",
      "50%         35.000000\n",
      "75%         38.750000\n",
      "95%         50.000000\n",
      "99.5%       50.000000\n",
      "max         50.000000\n",
      "Name: NM1_discount_pc3, dtype: float64\n"
     ]
    }
   ],
   "source": [
    "print(scoring_data2.NM2_discount_pc.describe(percentiles=[.05,.25,.5,.75,.95,.995]))\n",
    "print(scoring_data2.NM1_discount_pc2.describe(percentiles=[.05,.25,.5,.75,.95,.995]))\n",
    "print(scoring_data2.NM1_discount_pc.describe(percentiles=[.05,.25,.5,.75,.95,.995]))\n",
    "scoring_data2['NM1_discount_pc3'] = scoring_data2['NM1_discount_pc']/.8\n",
    "print(scoring_data2.NM1_discount_pc3.describe(percentiles=[.05,.25,.5,.75,.95,.995]))"
   ]
  },
  {
   "cell_type": "code",
   "execution_count": 51,
   "metadata": {},
   "outputs": [
    {
     "name": "stdout",
     "output_type": "stream",
     "text": [
      "AxesSubplot(0.125,0.125;0.775x0.755)\n"
     ]
    },
    {
     "data": {
      "text/plain": [
       "<matplotlib.lines.Line2D at 0x7f59c9b020f0>"
      ]
     },
     "execution_count": 51,
     "metadata": {},
     "output_type": "execute_result"
    },
    {
     "data": {
      "image/png": "[encoded data removed]",
      "text/plain": [
       "<Figure size 864x576 with 1 Axes>"
      ]
     },
     "metadata": {
      "needs_background": "light"
     },
     "output_type": "display_data"
    }
   ],
   "source": [
    "scoring_data2['NM2_discount_pc'] = scoring_data2['NM2_discount_pc'].astype(np.int64)\n",
    "\n",
    "fig, ax = plt.subplots(figsize=(12,8))\n",
    "print(scoring_data2['NM2_discount_pc'].value_counts(sort=False\n",
    "                                                    ,normalize=True).sort_index(ascending=True).plot(ax=ax\n",
    "                                                                                                     , kind='bar'\n",
    "                                                                                                    ,color='lightblue'))\n",
    "ax.axhline(y=0.05, xmin=0, xmax=1, color='r', linestyle='--', lw=2)"
   ]
  },
  {
   "cell_type": "code",
   "execution_count": 52,
   "metadata": {},
   "outputs": [
    {
     "name": "stdout",
     "output_type": "stream",
     "text": [
      "AxesSubplot(0.125,0.125;0.775x0.755)\n"
     ]
    },
    {
     "name": "stderr",
     "output_type": "stream",
     "text": [
      "/usr/local/lib/python3.6/site-packages/ipykernel_launcher.py:2: SettingWithCopyWarning: \n",
      "A value is trying to be set on a copy of a slice from a DataFrame.\n",
      "Try using .loc[row_indexer,col_indexer] = value instead\n",
      "\n",
      "See the caveats in the documentation: https://pandas.pydata.org/pandas-docs/stable/user_guide/indexing.html#returning-a-view-versus-a-copy\n",
      "  \n"
     ]
    },
    {
     "data": {
      "text/plain": [
       "<matplotlib.lines.Line2D at 0x7f59c9a2e080>"
      ]
     },
     "execution_count": 52,
     "metadata": {},
     "output_type": "execute_result"
    },
    {
     "data": {
      "image/png": "[encoded data removed]",
      "text/plain": [
       "<Figure size 864x576 with 1 Axes>"
      ]
     },
     "metadata": {
      "needs_background": "light"
     },
     "output_type": "display_data"
    }
   ],
   "source": [
    "test = scoring_data2.dropna()\n",
    "test['NM1_discount_pc2'] = test['NM1_discount_pc2'].astype(np.int64)\n",
    "\n",
    "fig, ax = plt.subplots(figsize=(12,8))\n",
    "print(test['NM1_discount_pc2'].value_counts(sort=False\n",
    "                                                    ,normalize=True).sort_index(ascending=True).plot(ax=ax\n",
    "                                                                                                     , kind='bar'\n",
    "                                                                                                    ,color='lightblue'))\n",
    "ax.axhline(y=0.05, xmin=0, xmax=1, color='r', linestyle='--', lw=2)"
   ]
  },
  {
   "cell_type": "code",
   "execution_count": 53,
   "metadata": {},
   "outputs": [
    {
     "data": {
      "text/plain": [
       "0.005    0.013552\n",
       "0.995    0.234617\n",
       "Name: NM2_predicted, dtype: float64"
      ]
     },
     "execution_count": 53,
     "metadata": {},
     "output_type": "execute_result"
    }
   ],
   "source": [
    "# Calculate new min / max bounds\n",
    "scoring_data2.NM2_predicted.quantile([.005, .995])\n",
    "# 0.005    0.013551\n",
    "# 0.995    0.231314\n",
    "\n",
    "# FINAL - 3/15/2021\n",
    "# 0.005    0.013552\n",
    "# 0.995    0.234617"
   ]
  },
  {
   "cell_type": "code",
   "execution_count": 54,
   "metadata": {},
   "outputs": [
    {
     "name": "stdout",
     "output_type": "stream",
     "text": [
      "0.013552\n",
      "0.234617\n"
     ]
    },
    {
     "data": {
      "text/plain": [
       "4496.415081537105"
      ]
     },
     "execution_count": 54,
     "metadata": {},
     "output_type": "execute_result"
    }
   ],
   "source": [
    "LB=0.013552\n",
    "UB=0.234617\n",
    "SCALE=994/(UB-LB)\n",
    "print(LB)\n",
    "print(UB)\n",
    "SCALE"
   ]
  },
  {
   "cell_type": "code",
   "execution_count": 55,
   "metadata": {},
   "outputs": [
    {
     "data": {
      "text/html": [
       "<div>\n",
       "<style scoped>\n",
       "    .dataframe tbody tr th:only-of-type {\n",
       "        vertical-align: middle;\n",
       "    }\n",
       "\n",
       "    .dataframe tbody tr th {\n",
       "        vertical-align: top;\n",
       "    }\n",
       "\n",
       "    .dataframe thead th {\n",
       "        text-align: right;\n",
       "    }\n",
       "</style>\n",
       "<table border=\"1\" class=\"dataframe\">\n",
       "  <thead>\n",
       "    <tr style=\"text-align: right;\">\n",
       "      <th></th>\n",
       "      <th>short_user_id</th>\n",
       "      <th>adjusted_distance_km</th>\n",
       "      <th>Rq5a</th>\n",
       "      <th>last_trip_date</th>\n",
       "      <th>Max_final_score_date</th>\n",
       "      <th>Min_data_clctn_start_date</th>\n",
       "      <th>NM1_discount_pc</th>\n",
       "      <th>NM1_score_qt</th>\n",
       "      <th>NM1_channel_cd</th>\n",
       "      <th>NM1_rate_state_abbr_nm</th>\n",
       "      <th>...</th>\n",
       "      <th>NM2_predicted</th>\n",
       "      <th>NM1_predicted</th>\n",
       "      <th>NM2_Mapped_Score</th>\n",
       "      <th>NM1_Mapped_Score</th>\n",
       "      <th>NM2_rscore</th>\n",
       "      <th>NM2_discount_pc</th>\n",
       "      <th>NM1_rscore</th>\n",
       "      <th>NM1_discount_pc2</th>\n",
       "      <th>NM1_discount_pc3</th>\n",
       "      <th>NM2_CMT_Score</th>\n",
       "    </tr>\n",
       "  </thead>\n",
       "  <tbody>\n",
       "    <tr>\n",
       "      <th>0</th>\n",
       "      <td>10013699</td>\n",
       "      <td>264.6801</td>\n",
       "      <td>4.476129</td>\n",
       "      <td>2021-01-05</td>\n",
       "      <td>2021-01-05</td>\n",
       "      <td>2020-08-19</td>\n",
       "      <td>0.0</td>\n",
       "      <td>998.0</td>\n",
       "      <td>IA</td>\n",
       "      <td>CO</td>\n",
       "      <td>...</td>\n",
       "      <td>0.025270</td>\n",
       "      <td>0.026734</td>\n",
       "      <td>34.0</td>\n",
       "      <td>40.0</td>\n",
       "      <td>0.53</td>\n",
       "      <td>47</td>\n",
       "      <td>0.53</td>\n",
       "      <td>47.0</td>\n",
       "      <td>0.00</td>\n",
       "      <td>53.0</td>\n",
       "    </tr>\n",
       "    <tr>\n",
       "      <th>1</th>\n",
       "      <td>10016122</td>\n",
       "      <td>9619.8400</td>\n",
       "      <td>2.726725</td>\n",
       "      <td>2020-12-15</td>\n",
       "      <td>2020-12-15</td>\n",
       "      <td>2020-07-30</td>\n",
       "      <td>29.0</td>\n",
       "      <td>129.0</td>\n",
       "      <td>IA</td>\n",
       "      <td>KS</td>\n",
       "      <td>...</td>\n",
       "      <td>0.057512</td>\n",
       "      <td>0.058626</td>\n",
       "      <td>163.0</td>\n",
       "      <td>167.0</td>\n",
       "      <td>0.57</td>\n",
       "      <td>43</td>\n",
       "      <td>0.57</td>\n",
       "      <td>43.0</td>\n",
       "      <td>36.25</td>\n",
       "      <td>198.0</td>\n",
       "    </tr>\n",
       "    <tr>\n",
       "      <th>2</th>\n",
       "      <td>10018353</td>\n",
       "      <td>6455.2721</td>\n",
       "      <td>4.306496</td>\n",
       "      <td>2020-11-07</td>\n",
       "      <td>2020-11-30</td>\n",
       "      <td>2020-07-10</td>\n",
       "      <td>29.0</td>\n",
       "      <td>114.0</td>\n",
       "      <td>EA</td>\n",
       "      <td>NC</td>\n",
       "      <td>...</td>\n",
       "      <td>0.100156</td>\n",
       "      <td>0.100878</td>\n",
       "      <td>334.0</td>\n",
       "      <td>337.0</td>\n",
       "      <td>0.76</td>\n",
       "      <td>24</td>\n",
       "      <td>0.76</td>\n",
       "      <td>24.0</td>\n",
       "      <td>36.25</td>\n",
       "      <td>390.0</td>\n",
       "    </tr>\n",
       "    <tr>\n",
       "      <th>3</th>\n",
       "      <td>10019667</td>\n",
       "      <td>3200.1680</td>\n",
       "      <td>4.115618</td>\n",
       "      <td>2020-11-08</td>\n",
       "      <td>2021-02-16</td>\n",
       "      <td>2020-08-28</td>\n",
       "      <td>0.0</td>\n",
       "      <td>998.0</td>\n",
       "      <td>IA</td>\n",
       "      <td>SD</td>\n",
       "      <td>...</td>\n",
       "      <td>0.085094</td>\n",
       "      <td>0.085606</td>\n",
       "      <td>273.0</td>\n",
       "      <td>276.0</td>\n",
       "      <td>0.72</td>\n",
       "      <td>28</td>\n",
       "      <td>0.72</td>\n",
       "      <td>28.0</td>\n",
       "      <td>0.00</td>\n",
       "      <td>322.0</td>\n",
       "    </tr>\n",
       "    <tr>\n",
       "      <th>4</th>\n",
       "      <td>10021470</td>\n",
       "      <td>8885.2729</td>\n",
       "      <td>4.157654</td>\n",
       "      <td>2020-12-30</td>\n",
       "      <td>2020-12-30</td>\n",
       "      <td>2020-08-17</td>\n",
       "      <td>21.0</td>\n",
       "      <td>156.0</td>\n",
       "      <td>IA</td>\n",
       "      <td>NJ</td>\n",
       "      <td>...</td>\n",
       "      <td>0.103046</td>\n",
       "      <td>0.103712</td>\n",
       "      <td>345.0</td>\n",
       "      <td>348.0</td>\n",
       "      <td>0.79</td>\n",
       "      <td>20</td>\n",
       "      <td>0.79</td>\n",
       "      <td>21.0</td>\n",
       "      <td>26.25</td>\n",
       "      <td>403.0</td>\n",
       "    </tr>\n",
       "  </tbody>\n",
       "</table>\n",
       "<p>5 rows × 33 columns</p>\n",
       "</div>"
      ],
      "text/plain": [
       "   short_user_id  adjusted_distance_km      Rq5a last_trip_date  \\\n",
       "0       10013699              264.6801  4.476129     2021-01-05   \n",
       "1       10016122             9619.8400  2.726725     2020-12-15   \n",
       "2       10018353             6455.2721  4.306496     2020-11-07   \n",
       "3       10019667             3200.1680  4.115618     2020-11-08   \n",
       "4       10021470             8885.2729  4.157654     2020-12-30   \n",
       "\n",
       "  Max_final_score_date Min_data_clctn_start_date  NM1_discount_pc  \\\n",
       "0           2021-01-05                2020-08-19              0.0   \n",
       "1           2020-12-15                2020-07-30             29.0   \n",
       "2           2020-11-30                2020-07-10             29.0   \n",
       "3           2021-02-16                2020-08-28              0.0   \n",
       "4           2020-12-30                2020-08-17             21.0   \n",
       "\n",
       "   NM1_score_qt NM1_channel_cd NM1_rate_state_abbr_nm  ... NM2_predicted  \\\n",
       "0         998.0             IA                     CO  ...      0.025270   \n",
       "1         129.0             IA                     KS  ...      0.057512   \n",
       "2         114.0             EA                     NC  ...      0.100156   \n",
       "3         998.0             IA                     SD  ...      0.085094   \n",
       "4         156.0             IA                     NJ  ...      0.103046   \n",
       "\n",
       "  NM1_predicted NM2_Mapped_Score  NM1_Mapped_Score  NM2_rscore  \\\n",
       "0      0.026734             34.0              40.0        0.53   \n",
       "1      0.058626            163.0             167.0        0.57   \n",
       "2      0.100878            334.0             337.0        0.76   \n",
       "3      0.085606            273.0             276.0        0.72   \n",
       "4      0.103712            345.0             348.0        0.79   \n",
       "\n",
       "   NM2_discount_pc  NM1_rscore  NM1_discount_pc2  NM1_discount_pc3  \\\n",
       "0               47        0.53              47.0              0.00   \n",
       "1               43        0.57              43.0             36.25   \n",
       "2               24        0.76              24.0             36.25   \n",
       "3               28        0.72              28.0              0.00   \n",
       "4               20        0.79              21.0             26.25   \n",
       "\n",
       "   NM2_CMT_Score  \n",
       "0           53.0  \n",
       "1          198.0  \n",
       "2          390.0  \n",
       "3          322.0  \n",
       "4          403.0  \n",
       "\n",
       "[5 rows x 33 columns]"
      ]
     },
     "execution_count": 55,
     "metadata": {},
     "output_type": "execute_result"
    }
   ],
   "source": [
    "scoring_data2['NM2_CMT_Score']=scoring_data2.NM2_predicted.apply(lambda x: np.floor((np.maximum(np.minimum(x,UB)\n",
    "                                                                                                , LB)-LB)*SCALE)+1)\n",
    "scoring_data2.head()"
   ]
  },
  {
   "cell_type": "code",
   "execution_count": 56,
   "metadata": {},
   "outputs": [
    {
     "data": {
      "text/html": [
       "<div>\n",
       "<style scoped>\n",
       "    .dataframe tbody tr th:only-of-type {\n",
       "        vertical-align: middle;\n",
       "    }\n",
       "\n",
       "    .dataframe tbody tr th {\n",
       "        vertical-align: top;\n",
       "    }\n",
       "\n",
       "    .dataframe thead th {\n",
       "        text-align: right;\n",
       "    }\n",
       "</style>\n",
       "<table border=\"1\" class=\"dataframe\">\n",
       "  <thead>\n",
       "    <tr style=\"text-align: right;\">\n",
       "      <th></th>\n",
       "      <th>short_user_id</th>\n",
       "      <th>adjusted_distance_km</th>\n",
       "      <th>Rq5a</th>\n",
       "      <th>last_trip_date</th>\n",
       "      <th>Max_final_score_date</th>\n",
       "      <th>Min_data_clctn_start_date</th>\n",
       "      <th>NM1_discount_pc</th>\n",
       "      <th>NM1_score_qt</th>\n",
       "      <th>NM1_channel_cd</th>\n",
       "      <th>NM1_rate_state_abbr_nm</th>\n",
       "      <th>...</th>\n",
       "      <th>NM2_Mapped_Score</th>\n",
       "      <th>NM1_Mapped_Score</th>\n",
       "      <th>NM2_rscore</th>\n",
       "      <th>NM2_discount_pc</th>\n",
       "      <th>NM1_rscore</th>\n",
       "      <th>NM1_discount_pc2</th>\n",
       "      <th>NM1_discount_pc3</th>\n",
       "      <th>NM2_CMT_Score</th>\n",
       "      <th>NM2_CMT_rscore</th>\n",
       "      <th>NM2_CMT_discount_pc</th>\n",
       "    </tr>\n",
       "  </thead>\n",
       "  <tbody>\n",
       "    <tr>\n",
       "      <th>0</th>\n",
       "      <td>10013699</td>\n",
       "      <td>264.6801</td>\n",
       "      <td>4.476129</td>\n",
       "      <td>2021-01-05</td>\n",
       "      <td>2021-01-05</td>\n",
       "      <td>2020-08-19</td>\n",
       "      <td>0.0</td>\n",
       "      <td>998.0</td>\n",
       "      <td>IA</td>\n",
       "      <td>CO</td>\n",
       "      <td>...</td>\n",
       "      <td>34.0</td>\n",
       "      <td>40.0</td>\n",
       "      <td>0.53</td>\n",
       "      <td>47</td>\n",
       "      <td>0.53</td>\n",
       "      <td>47.0</td>\n",
       "      <td>0.00</td>\n",
       "      <td>53.0</td>\n",
       "      <td>0.53</td>\n",
       "      <td>47.0</td>\n",
       "    </tr>\n",
       "    <tr>\n",
       "      <th>1</th>\n",
       "      <td>10016122</td>\n",
       "      <td>9619.8400</td>\n",
       "      <td>2.726725</td>\n",
       "      <td>2020-12-15</td>\n",
       "      <td>2020-12-15</td>\n",
       "      <td>2020-07-30</td>\n",
       "      <td>29.0</td>\n",
       "      <td>129.0</td>\n",
       "      <td>IA</td>\n",
       "      <td>KS</td>\n",
       "      <td>...</td>\n",
       "      <td>163.0</td>\n",
       "      <td>167.0</td>\n",
       "      <td>0.57</td>\n",
       "      <td>43</td>\n",
       "      <td>0.57</td>\n",
       "      <td>43.0</td>\n",
       "      <td>36.25</td>\n",
       "      <td>198.0</td>\n",
       "      <td>0.64</td>\n",
       "      <td>36.0</td>\n",
       "    </tr>\n",
       "    <tr>\n",
       "      <th>2</th>\n",
       "      <td>10018353</td>\n",
       "      <td>6455.2721</td>\n",
       "      <td>4.306496</td>\n",
       "      <td>2020-11-07</td>\n",
       "      <td>2020-11-30</td>\n",
       "      <td>2020-07-10</td>\n",
       "      <td>29.0</td>\n",
       "      <td>114.0</td>\n",
       "      <td>EA</td>\n",
       "      <td>NC</td>\n",
       "      <td>...</td>\n",
       "      <td>334.0</td>\n",
       "      <td>337.0</td>\n",
       "      <td>0.76</td>\n",
       "      <td>24</td>\n",
       "      <td>0.76</td>\n",
       "      <td>24.0</td>\n",
       "      <td>36.25</td>\n",
       "      <td>390.0</td>\n",
       "      <td>0.85</td>\n",
       "      <td>15.0</td>\n",
       "    </tr>\n",
       "    <tr>\n",
       "      <th>3</th>\n",
       "      <td>10019667</td>\n",
       "      <td>3200.1680</td>\n",
       "      <td>4.115618</td>\n",
       "      <td>2020-11-08</td>\n",
       "      <td>2021-02-16</td>\n",
       "      <td>2020-08-28</td>\n",
       "      <td>0.0</td>\n",
       "      <td>998.0</td>\n",
       "      <td>IA</td>\n",
       "      <td>SD</td>\n",
       "      <td>...</td>\n",
       "      <td>273.0</td>\n",
       "      <td>276.0</td>\n",
       "      <td>0.72</td>\n",
       "      <td>28</td>\n",
       "      <td>0.72</td>\n",
       "      <td>28.0</td>\n",
       "      <td>0.00</td>\n",
       "      <td>322.0</td>\n",
       "      <td>0.76</td>\n",
       "      <td>24.0</td>\n",
       "    </tr>\n",
       "    <tr>\n",
       "      <th>4</th>\n",
       "      <td>10021470</td>\n",
       "      <td>8885.2729</td>\n",
       "      <td>4.157654</td>\n",
       "      <td>2020-12-30</td>\n",
       "      <td>2020-12-30</td>\n",
       "      <td>2020-08-17</td>\n",
       "      <td>21.0</td>\n",
       "      <td>156.0</td>\n",
       "      <td>IA</td>\n",
       "      <td>NJ</td>\n",
       "      <td>...</td>\n",
       "      <td>345.0</td>\n",
       "      <td>348.0</td>\n",
       "      <td>0.79</td>\n",
       "      <td>20</td>\n",
       "      <td>0.79</td>\n",
       "      <td>21.0</td>\n",
       "      <td>26.25</td>\n",
       "      <td>403.0</td>\n",
       "      <td>0.85</td>\n",
       "      <td>15.0</td>\n",
       "    </tr>\n",
       "  </tbody>\n",
       "</table>\n",
       "<p>5 rows × 35 columns</p>\n",
       "</div>"
      ],
      "text/plain": [
       "   short_user_id  adjusted_distance_km      Rq5a last_trip_date  \\\n",
       "0       10013699              264.6801  4.476129     2021-01-05   \n",
       "1       10016122             9619.8400  2.726725     2020-12-15   \n",
       "2       10018353             6455.2721  4.306496     2020-11-07   \n",
       "3       10019667             3200.1680  4.115618     2020-11-08   \n",
       "4       10021470             8885.2729  4.157654     2020-12-30   \n",
       "\n",
       "  Max_final_score_date Min_data_clctn_start_date  NM1_discount_pc  \\\n",
       "0           2021-01-05                2020-08-19              0.0   \n",
       "1           2020-12-15                2020-07-30             29.0   \n",
       "2           2020-11-30                2020-07-10             29.0   \n",
       "3           2021-02-16                2020-08-28              0.0   \n",
       "4           2020-12-30                2020-08-17             21.0   \n",
       "\n",
       "   NM1_score_qt NM1_channel_cd NM1_rate_state_abbr_nm  ... NM2_Mapped_Score  \\\n",
       "0         998.0             IA                     CO  ...             34.0   \n",
       "1         129.0             IA                     KS  ...            163.0   \n",
       "2         114.0             EA                     NC  ...            334.0   \n",
       "3         998.0             IA                     SD  ...            273.0   \n",
       "4         156.0             IA                     NJ  ...            345.0   \n",
       "\n",
       "  NM1_Mapped_Score NM2_rscore  NM2_discount_pc  NM1_rscore  NM1_discount_pc2  \\\n",
       "0             40.0       0.53               47        0.53              47.0   \n",
       "1            167.0       0.57               43        0.57              43.0   \n",
       "2            337.0       0.76               24        0.76              24.0   \n",
       "3            276.0       0.72               28        0.72              28.0   \n",
       "4            348.0       0.79               20        0.79              21.0   \n",
       "\n",
       "   NM1_discount_pc3  NM2_CMT_Score  NM2_CMT_rscore  NM2_CMT_discount_pc  \n",
       "0              0.00           53.0            0.53                 47.0  \n",
       "1             36.25          198.0            0.64                 36.0  \n",
       "2             36.25          390.0            0.85                 15.0  \n",
       "3              0.00          322.0            0.76                 24.0  \n",
       "4             26.25          403.0            0.85                 15.0  \n",
       "\n",
       "[5 rows x 35 columns]"
      ]
     },
     "execution_count": 56,
     "metadata": {},
     "output_type": "execute_result"
    }
   ],
   "source": [
    "# Calculate NM2 CMT rscore \n",
    "scoring_data2['NM2_CMT_rscore']=scoring_data2.NM2_CMT_Score.apply(lambda x: 0.53 if x<=98 else\n",
    "                                                    0.54 if x<=141 else\n",
    "                                                    0.57 if x<=170 else\n",
    "                                                    0.60 if x<=193 else\n",
    "                                                    0.64 if x<=215 else\n",
    "                                                    0.67 if x<=234 else\n",
    "                                                    0.70 if x<=252 else\n",
    "                                                    0.71 if x<=269 else\n",
    "                                                    0.72 if x<=286 else\n",
    "                                                    0.73 if x<=303 else\n",
    "                                                    0.74 if x<=321 else\n",
    "                                                    0.76 if x<=339 else\n",
    "                                                    0.79 if x<=358 else\n",
    "                                                    0.82 if x<=379 else\n",
    "                                                    0.85 if x<=403 else\n",
    "                                                    0.88 if x<=432 else\n",
    "                                                    0.91 if x<=470 else\n",
    "                                                    0.94 if x<=521 else\n",
    "                                                    0.97 if x<=612 else\n",
    "                                                    1.0)\n",
    "# Format to be percent discount\n",
    "scoring_data2['NM2_CMT_discount_pc'] = (1-scoring_data2['NM2_CMT_rscore'])*100\n",
    "\n",
    "scoring_data2.head()"
   ]
  },
  {
   "cell_type": "code",
   "execution_count": 57,
   "metadata": {},
   "outputs": [
    {
     "name": "stdout",
     "output_type": "stream",
     "text": [
      "30.21282160022618\n"
     ]
    },
    {
     "data": {
      "text/plain": [
       "26.073508623126944"
      ]
     },
     "execution_count": 57,
     "metadata": {},
     "output_type": "execute_result"
    }
   ],
   "source": [
    "print(scoring_data2.NM2_discount_pc.mean())\n",
    "scoring_data2.NM2_CMT_discount_pc.mean()"
   ]
  },
  {
   "cell_type": "code",
   "execution_count": 58,
   "metadata": {},
   "outputs": [
    {
     "name": "stdout",
     "output_type": "stream",
     "text": [
      "AxesSubplot(0.125,0.125;0.775x0.755)\n"
     ]
    },
    {
     "data": {
      "text/plain": [
       "<matplotlib.lines.Line2D at 0x7f59c9945748>"
      ]
     },
     "execution_count": 58,
     "metadata": {},
     "output_type": "execute_result"
    },
    {
     "data": {
      "image/png": "[encoded data removed]",
      "text/plain": [
       "<Figure size 864x576 with 1 Axes>"
      ]
     },
     "metadata": {
      "needs_background": "light"
     },
     "output_type": "display_data"
    }
   ],
   "source": [
    "scoring_data2['NM2_CMT_discount_pc'] = scoring_data2['NM2_CMT_discount_pc'].astype(np.int64)\n",
    "fig, ax = plt.subplots(figsize=(12,8))\n",
    "print(scoring_data2['NM2_CMT_discount_pc'].value_counts(sort=False\n",
    "                                                    ,normalize=True).sort_index(ascending=True).plot(ax=ax\n",
    "                                                                                                     , kind='bar'\n",
    "                                                                                                    ,color='lightblue'))\n",
    "ax.axhline(y=0.05, xmin=0, xmax=1, color='r', linestyle='--', lw=2)"
   ]
  },
  {
   "cell_type": "code",
   "execution_count": null,
   "metadata": {},
   "outputs": [],
   "source": [
    "fig, ax = plt.subplots(figsize=(12,8))\n",
    "print(scoring_data2['NM1_discount_pc3'].value_counts(sort=False,normalize=True).sort_index(ascending=True).plot(ax=ax, kind='bar'))"
   ]
  },
  {
   "cell_type": "code",
   "execution_count": 75,
   "metadata": {},
   "outputs": [
    {
     "name": "stdout",
     "output_type": "stream",
     "text": [
      "AxesSubplot(0.125,0.125;0.775x0.755)\n"
     ]
    },
    {
     "data": {
      "image/png": "[encoded data removed]",
      "text/plain": [
       "<Figure size 864x576 with 1 Axes>"
      ]
     },
     "metadata": {
      "needs_background": "light"
     },
     "output_type": "display_data"
    }
   ],
   "source": [
    "fig, ax = plt.subplots(figsize=(12,8))\n",
    "print(scoring_data2['NM1_discount_pc'].value_counts(sort=False,normalize=True).sort_index(ascending=True).plot(ax=ax, kind='bar'))"
   ]
  },
  {
   "cell_type": "code",
   "execution_count": 76,
   "metadata": {},
   "outputs": [
    {
     "name": "stdout",
     "output_type": "stream",
     "text": [
      "AxesSubplot(0.125,0.125;0.775x0.755)\n",
      "AxesSubplot(0.125,0.125;0.775x0.755)\n",
      "AxesSubplot(0.125,0.125;0.775x0.755)\n"
     ]
    },
    {
     "data": {
      "image/png": "[encoded data removed]",
      "text/plain": [
       "<Figure size 432x288 with 1 Axes>"
      ]
     },
     "metadata": {
      "needs_background": "light"
     },
     "output_type": "display_data"
    }
   ],
   "source": [
    "# Look at distribution of rscore\n",
    "print(scoring_data2['NM2_discount_pc'].plot.hist(bins=20)) # BLUE\n",
    "print(scoring_data2['NM1_discount_pc2'].plot.hist(alpha=0.7,bins=20)) # ORANGE\n",
    "print(scoring_data2['NM1_discount_pc3'].plot.hist(alpha=0.5,bins=20)) # GREEN"
   ]
  },
  {
   "cell_type": "code",
   "execution_count": 77,
   "metadata": {},
   "outputs": [
    {
     "name": "stdout",
     "output_type": "stream",
     "text": [
      "count    14141.000000\n",
      "mean       115.615586\n",
      "std         40.283529\n",
      "min          1.000000\n",
      "25%        105.000000\n",
      "50%        129.000000\n",
      "75%        136.000000\n",
      "max        264.000000\n",
      "Name: NM1_active_days, dtype: float64\n"
     ]
    },
    {
     "data": {
      "text/plain": [
       "count    14141.000000\n",
       "mean       126.740895\n",
       "std         36.357128\n",
       "min          1.000000\n",
       "25%        121.000000\n",
       "50%        136.000000\n",
       "75%        141.000000\n",
       "max        269.000000\n",
       "Name: scoring_days, dtype: float64"
      ]
     },
     "execution_count": 77,
     "metadata": {},
     "output_type": "execute_result"
    }
   ],
   "source": [
    "print(scoring_data2.NM1_active_days.describe())\n",
    "scoring_data2.scoring_days.describe()"
   ]
  },
  {
   "cell_type": "code",
   "execution_count": 78,
   "metadata": {},
   "outputs": [
    {
     "name": "stdout",
     "output_type": "stream",
     "text": [
      "AxesSubplot(0.125,0.125;0.775x0.755)\n",
      "AxesSubplot(0.125,0.125;0.775x0.755)\n"
     ]
    },
    {
     "data": {
      "image/png": "[encoded data removed]",
      "text/plain": [
       "<Figure size 432x288 with 1 Axes>"
      ]
     },
     "metadata": {
      "needs_background": "light"
     },
     "output_type": "display_data"
    }
   ],
   "source": [
    "print(scoring_data2['scoring_days'].plot.hist(bins=100)) # BLUE\n",
    "print(scoring_data2['NM1_active_days'].plot.hist(alpha=0.5,bins=100)) # ORANGE"
   ]
  },
  {
   "cell_type": "code",
   "execution_count": 51,
   "metadata": {},
   "outputs": [],
   "source": [
    "# Additional Plots\n",
    "\n",
    "plt_df = (scoring_data2.NM2_discount_pc.value_counts()\n",
    "          .rename_axis('NM2_discount_pc')\n",
    "          .reset_index(name = 'count')\n",
    "         )\n",
    " \n",
    "plt_df2 = (scoring_data2.NM2_discount_pc.value_counts(normalize = True)\n",
    "           .rename_axis('NM2_discount_pc')\n",
    "           .reset_index(name = 'percentage')\n",
    "           .assign(percentage = lambda x: '<b>' + round(x.percentage * 100, 2).astype('str') + '%</b>')\n",
    "      )\n",
    " \n",
    "plt_df3 = plt_df.merge(plt_df2.set_index('NM2_discount_pc'), on = 'NM2_discount_pc')"
   ]
  },
  {
   "cell_type": "code",
   "execution_count": 52,
   "metadata": {},
   "outputs": [
    {
     "data": {
      "image/png": "[encoded data removed]",
      "text/plain": [
       "<Figure size 864x576 with 1 Axes>"
      ]
     },
     "metadata": {
      "needs_background": "light"
     },
     "output_type": "display_data"
    }
   ],
   "source": [
    "fig, ax = plt.subplots(figsize=(12, 8))\n",
    "ax = sns.barplot(x = \"NM2_discount_pc\", y = \"count\", data = plt_df3)\n",
    "ax.set(xlabel='NM2 Discount', ylabel='Driver Count')\n",
    "\n",
    "plt.show()"
   ]
  },
  {
   "cell_type": "code",
   "execution_count": 53,
   "metadata": {},
   "outputs": [],
   "source": [
    "# Additional Plots\n",
    "\n",
    "plt_df = (scoring_data2.NM1_discount_pc2.value_counts()\n",
    "          .rename_axis('NM1_discount_pc2')\n",
    "          .reset_index(name = 'count')\n",
    "         )\n",
    " \n",
    "plt_df2 = (scoring_data2.NM1_discount_pc2.value_counts(normalize = True)\n",
    "           .rename_axis('NM1_discount_pc2')\n",
    "           .reset_index(name = 'percentage')\n",
    "           .assign(percentage = lambda x: '<b>' + round(x.percentage * 100, 2).astype('str') + '%</b>')\n",
    "      )\n",
    " \n",
    "plt_df3 = plt_df.merge(plt_df2.set_index('NM1_discount_pc2'), on = 'NM1_discount_pc2')"
   ]
  },
  {
   "cell_type": "code",
   "execution_count": 54,
   "metadata": {},
   "outputs": [
    {
     "data": {
      "image/png": "[encoded data removed]",
      "text/plain": [
       "<Figure size 864x576 with 1 Axes>"
      ]
     },
     "metadata": {
      "needs_background": "light"
     },
     "output_type": "display_data"
    }
   ],
   "source": [
    "fig, ax = plt.subplots(figsize=(12, 8))\n",
    "ax = sns.barplot(x = \"NM1_discount_pc2\", y = \"count\", data = plt_df3)\n",
    "ax.set(xlabel='NM1 Discount 2', ylabel='Driver Count')\n",
    "\n",
    "plt.show()"
   ]
  },
  {
   "cell_type": "code",
   "execution_count": 55,
   "metadata": {},
   "outputs": [
    {
     "name": "stdout",
     "output_type": "stream",
     "text": [
      "count    1270.000000\n",
      "mean       33.570866\n",
      "std        13.881666\n",
      "min         0.000000\n",
      "25%        26.000000\n",
      "50%        36.000000\n",
      "75%        46.000000\n",
      "max        47.000000\n",
      "Name: NM2_discount_pc, dtype: float64\n",
      "count    1270.000000\n",
      "mean       25.318110\n",
      "std        14.671058\n",
      "min         0.000000\n",
      "25%        12.000000\n",
      "50%        27.000000\n",
      "75%        36.000000\n",
      "max        47.000000\n",
      "Name: NM1_discount_pc2, dtype: float64\n",
      "count    1270.0\n",
      "mean        0.0\n",
      "std         0.0\n",
      "min         0.0\n",
      "25%         0.0\n",
      "50%         0.0\n",
      "75%         0.0\n",
      "max         0.0\n",
      "Name: NM1_discount_pc, dtype: float64\n"
     ]
    },
    {
     "data": {
      "text/plain": [
       "(1270, 35)"
      ]
     },
     "execution_count": 55,
     "metadata": {},
     "output_type": "execute_result"
    }
   ],
   "source": [
    "# 1 - Get the short_user_id from SRM data who has 998, and look at our discount, # of drivers\n",
    "test = scoring_data2[scoring_data2['NM1_score_qt']==998]\n",
    "print(test.NM2_discount_pc.describe())\n",
    "print(test.NM1_discount_pc2.describe())\n",
    "print(test.NM1_discount_pc.describe())\n",
    "test.shape\n",
    "# of drivers = 1,270 out of total 14,148"
   ]
  },
  {
   "cell_type": "code",
   "execution_count": 56,
   "metadata": {},
   "outputs": [
    {
     "name": "stdout",
     "output_type": "stream",
     "text": [
      "AxesSubplot(0.125,0.125;0.775x0.755)\n",
      "AxesSubplot(0.125,0.125;0.775x0.755)\n",
      "AxesSubplot(0.125,0.125;0.775x0.755)\n"
     ]
    },
    {
     "data": {
      "image/png": "[encoded data removed]",
      "text/plain": [
       "<Figure size 432x288 with 1 Axes>"
      ]
     },
     "metadata": {
      "needs_background": "light"
     },
     "output_type": "display_data"
    }
   ],
   "source": [
    "print(test['NM2_discount_pc'].plot.hist(bins=20)) # Blue\n",
    "print(test['NM1_discount_pc2'].plot.hist(alpha=0.7,bins=20)) # Orange\n",
    "print(test['NM1_discount_pc'].plot.hist(bins=20)) # Green"
   ]
  },
  {
   "cell_type": "code",
   "execution_count": 57,
   "metadata": {},
   "outputs": [
    {
     "name": "stdout",
     "output_type": "stream",
     "text": [
      "count    12878.000000\n",
      "mean        29.881659\n",
      "std         13.296645\n",
      "min          0.000000\n",
      "25%         24.000000\n",
      "50%         30.000000\n",
      "75%         43.000000\n",
      "max         47.000000\n",
      "Name: NM2_discount_pc, dtype: float64\n",
      "count    12878.000000\n",
      "mean        28.726821\n",
      "std         13.388157\n",
      "min          0.000000\n",
      "25%         21.000000\n",
      "50%         29.000000\n",
      "75%         40.000000\n",
      "max         47.000000\n",
      "Name: NM1_discount_pc2, dtype: float64\n",
      "count    12871.000000\n",
      "mean        26.721389\n",
      "std          8.281709\n",
      "min          0.000000\n",
      "25%         25.000000\n",
      "50%         28.000000\n",
      "75%         31.000000\n",
      "max         40.000000\n",
      "Name: NM1_discount_pc, dtype: float64\n"
     ]
    },
    {
     "data": {
      "text/plain": [
       "(12878, 35)"
      ]
     },
     "execution_count": 57,
     "metadata": {},
     "output_type": "execute_result"
    }
   ],
   "source": [
    "# 2 - remove drivers in 1, and then look at the discount again, calculate avg discount?\n",
    "test2 = scoring_data2[scoring_data2['NM1_score_qt']!=998]\n",
    "print(test2.NM2_discount_pc.describe())\n",
    "print(test2.NM1_discount_pc2.describe())\n",
    "print(test2.NM1_discount_pc.describe())\n",
    "test2.shape"
   ]
  },
  {
   "cell_type": "code",
   "execution_count": 58,
   "metadata": {},
   "outputs": [
    {
     "name": "stdout",
     "output_type": "stream",
     "text": [
      "AxesSubplot(0.125,0.125;0.775x0.755)\n",
      "AxesSubplot(0.125,0.125;0.775x0.755)\n",
      "AxesSubplot(0.125,0.125;0.775x0.755)\n"
     ]
    },
    {
     "data": {
      "image/png": "[encoded data removed]",
      "text/plain": [
       "<Figure size 432x288 with 1 Axes>"
      ]
     },
     "metadata": {
      "needs_background": "light"
     },
     "output_type": "display_data"
    }
   ],
   "source": [
    "print(test2['NM2_discount_pc'].plot.hist(bins=20)) # Blue\n",
    "print(test2['NM1_discount_pc2'].plot.hist(alpha=0.7,bins=20)) # Orange\n",
    "print(test2['NM1_discount_pc'].plot.hist(alpha=0.5,bins=20)) # Green"
   ]
  },
  {
   "cell_type": "code",
   "execution_count": 61,
   "metadata": {},
   "outputs": [
    {
     "name": "stdout",
     "output_type": "stream",
     "text": [
      "(663, 35)\n"
     ]
    },
    {
     "data": {
      "text/html": [
       "<div>\n",
       "<style scoped>\n",
       "    .dataframe tbody tr th:only-of-type {\n",
       "        vertical-align: middle;\n",
       "    }\n",
       "\n",
       "    .dataframe tbody tr th {\n",
       "        vertical-align: top;\n",
       "    }\n",
       "\n",
       "    .dataframe thead th {\n",
       "        text-align: right;\n",
       "    }\n",
       "</style>\n",
       "<table border=\"1\" class=\"dataframe\">\n",
       "  <thead>\n",
       "    <tr style=\"text-align: right;\">\n",
       "      <th></th>\n",
       "      <th>short_user_id</th>\n",
       "      <th>adjusted_distance_km</th>\n",
       "      <th>Rq5a</th>\n",
       "      <th>last_trip_date</th>\n",
       "      <th>Max_final_score_date</th>\n",
       "      <th>Min_data_clctn_start_date</th>\n",
       "      <th>NM1_discount_pc</th>\n",
       "      <th>NM1_score_qt</th>\n",
       "      <th>NM1_channel_cd</th>\n",
       "      <th>NM1_rate_state_abbr_nm</th>\n",
       "      <th>...</th>\n",
       "      <th>NM2_Mapped_Score</th>\n",
       "      <th>NM1_Mapped_Score</th>\n",
       "      <th>NM2_rscore</th>\n",
       "      <th>NM2_discount_pc</th>\n",
       "      <th>NM1_rscore</th>\n",
       "      <th>NM1_discount_pc2</th>\n",
       "      <th>NM1_discount_pc3</th>\n",
       "      <th>NM2_CMT_Score</th>\n",
       "      <th>NM2_CMT_rscore</th>\n",
       "      <th>NM2_CMT_discount_pc</th>\n",
       "    </tr>\n",
       "  </thead>\n",
       "  <tbody>\n",
       "    <tr>\n",
       "      <th>59</th>\n",
       "      <td>10364783</td>\n",
       "      <td>781.5265</td>\n",
       "      <td>4.892132</td>\n",
       "      <td>2020-11-20</td>\n",
       "      <td>2020-11-20</td>\n",
       "      <td>2020-11-10</td>\n",
       "      <td>0.0</td>\n",
       "      <td>0.0</td>\n",
       "      <td>EA</td>\n",
       "      <td>OH</td>\n",
       "      <td>...</td>\n",
       "      <td>518.0</td>\n",
       "      <td>571.0</td>\n",
       "      <td>0.94</td>\n",
       "      <td>6</td>\n",
       "      <td>0.97</td>\n",
       "      <td>3.0</td>\n",
       "      <td>0.00</td>\n",
       "      <td>596.0</td>\n",
       "      <td>0.97</td>\n",
       "      <td>3</td>\n",
       "    </tr>\n",
       "    <tr>\n",
       "      <th>70</th>\n",
       "      <td>10436560</td>\n",
       "      <td>3814.2942</td>\n",
       "      <td>4.481212</td>\n",
       "      <td>2021-01-21</td>\n",
       "      <td>2021-01-21</td>\n",
       "      <td>2020-09-04</td>\n",
       "      <td>29.0</td>\n",
       "      <td>129.0</td>\n",
       "      <td>EA</td>\n",
       "      <td>OH</td>\n",
       "      <td>...</td>\n",
       "      <td>256.0</td>\n",
       "      <td>257.0</td>\n",
       "      <td>0.71</td>\n",
       "      <td>29</td>\n",
       "      <td>0.71</td>\n",
       "      <td>29.0</td>\n",
       "      <td>36.25</td>\n",
       "      <td>303.0</td>\n",
       "      <td>0.73</td>\n",
       "      <td>27</td>\n",
       "    </tr>\n",
       "    <tr>\n",
       "      <th>135</th>\n",
       "      <td>10845084</td>\n",
       "      <td>1875.6466</td>\n",
       "      <td>4.170404</td>\n",
       "      <td>2020-12-28</td>\n",
       "      <td>2020-12-29</td>\n",
       "      <td>2020-08-11</td>\n",
       "      <td>35.0</td>\n",
       "      <td>64.0</td>\n",
       "      <td>EA</td>\n",
       "      <td>OH</td>\n",
       "      <td>...</td>\n",
       "      <td>140.0</td>\n",
       "      <td>142.0</td>\n",
       "      <td>0.54</td>\n",
       "      <td>46</td>\n",
       "      <td>0.57</td>\n",
       "      <td>43.0</td>\n",
       "      <td>43.75</td>\n",
       "      <td>173.0</td>\n",
       "      <td>0.60</td>\n",
       "      <td>40</td>\n",
       "    </tr>\n",
       "    <tr>\n",
       "      <th>141</th>\n",
       "      <td>10876593</td>\n",
       "      <td>9796.4072</td>\n",
       "      <td>3.426443</td>\n",
       "      <td>2021-01-24</td>\n",
       "      <td>2021-01-26</td>\n",
       "      <td>2020-07-03</td>\n",
       "      <td>31.0</td>\n",
       "      <td>123.0</td>\n",
       "      <td>EA</td>\n",
       "      <td>OH</td>\n",
       "      <td>...</td>\n",
       "      <td>195.0</td>\n",
       "      <td>197.0</td>\n",
       "      <td>0.64</td>\n",
       "      <td>36</td>\n",
       "      <td>0.64</td>\n",
       "      <td>36.0</td>\n",
       "      <td>38.75</td>\n",
       "      <td>234.0</td>\n",
       "      <td>0.67</td>\n",
       "      <td>32</td>\n",
       "    </tr>\n",
       "    <tr>\n",
       "      <th>154</th>\n",
       "      <td>10946498</td>\n",
       "      <td>10026.5924</td>\n",
       "      <td>3.084890</td>\n",
       "      <td>2020-12-26</td>\n",
       "      <td>2020-12-29</td>\n",
       "      <td>2020-08-11</td>\n",
       "      <td>29.0</td>\n",
       "      <td>128.0</td>\n",
       "      <td>EA</td>\n",
       "      <td>OH</td>\n",
       "      <td>...</td>\n",
       "      <td>204.0</td>\n",
       "      <td>208.0</td>\n",
       "      <td>0.64</td>\n",
       "      <td>36</td>\n",
       "      <td>0.64</td>\n",
       "      <td>36.0</td>\n",
       "      <td>36.25</td>\n",
       "      <td>244.0</td>\n",
       "      <td>0.70</td>\n",
       "      <td>30</td>\n",
       "    </tr>\n",
       "  </tbody>\n",
       "</table>\n",
       "<p>5 rows × 35 columns</p>\n",
       "</div>"
      ],
      "text/plain": [
       "     short_user_id  adjusted_distance_km      Rq5a last_trip_date  \\\n",
       "59        10364783              781.5265  4.892132     2020-11-20   \n",
       "70        10436560             3814.2942  4.481212     2021-01-21   \n",
       "135       10845084             1875.6466  4.170404     2020-12-28   \n",
       "141       10876593             9796.4072  3.426443     2021-01-24   \n",
       "154       10946498            10026.5924  3.084890     2020-12-26   \n",
       "\n",
       "    Max_final_score_date Min_data_clctn_start_date  NM1_discount_pc  \\\n",
       "59            2020-11-20                2020-11-10              0.0   \n",
       "70            2021-01-21                2020-09-04             29.0   \n",
       "135           2020-12-29                2020-08-11             35.0   \n",
       "141           2021-01-26                2020-07-03             31.0   \n",
       "154           2020-12-29                2020-08-11             29.0   \n",
       "\n",
       "     NM1_score_qt NM1_channel_cd NM1_rate_state_abbr_nm  ... NM2_Mapped_Score  \\\n",
       "59            0.0             EA                     OH  ...            518.0   \n",
       "70          129.0             EA                     OH  ...            256.0   \n",
       "135          64.0             EA                     OH  ...            140.0   \n",
       "141         123.0             EA                     OH  ...            195.0   \n",
       "154         128.0             EA                     OH  ...            204.0   \n",
       "\n",
       "    NM1_Mapped_Score NM2_rscore  NM2_discount_pc  NM1_rscore  \\\n",
       "59             571.0       0.94                6        0.97   \n",
       "70             257.0       0.71               29        0.71   \n",
       "135            142.0       0.54               46        0.57   \n",
       "141            197.0       0.64               36        0.64   \n",
       "154            208.0       0.64               36        0.64   \n",
       "\n",
       "     NM1_discount_pc2  NM1_discount_pc3  NM2_CMT_Score  NM2_CMT_rscore  \\\n",
       "59                3.0              0.00          596.0            0.97   \n",
       "70               29.0             36.25          303.0            0.73   \n",
       "135              43.0             43.75          173.0            0.60   \n",
       "141              36.0             38.75          234.0            0.67   \n",
       "154              36.0             36.25          244.0            0.70   \n",
       "\n",
       "     NM2_CMT_discount_pc  \n",
       "59                     3  \n",
       "70                    27  \n",
       "135                   40  \n",
       "141                   32  \n",
       "154                   30  \n",
       "\n",
       "[5 rows x 35 columns]"
      ]
     },
     "execution_count": 61,
     "metadata": {},
     "output_type": "execute_result"
    }
   ],
   "source": [
    "# Filter to show only drivers in OH\n",
    "OHIO = scoring_data2[scoring_data2['NM1_rate_state_abbr_nm']=='OH']\n",
    "print(OHIO.shape)\n",
    "OHIO.head()"
   ]
  },
  {
   "cell_type": "code",
   "execution_count": 62,
   "metadata": {},
   "outputs": [
    {
     "data": {
      "text/plain": [
       "4.6861747243426635"
      ]
     },
     "execution_count": 62,
     "metadata": {},
     "output_type": "execute_result"
    }
   ],
   "source": [
    "(663/14148)*100"
   ]
  },
  {
   "cell_type": "code",
   "execution_count": 63,
   "metadata": {},
   "outputs": [
    {
     "name": "stdout",
     "output_type": "stream",
     "text": [
      "AxesSubplot(0.125,0.125;0.775x0.755)\n",
      "AxesSubplot(0.125,0.125;0.775x0.755)\n",
      "AxesSubplot(0.125,0.125;0.775x0.755)\n"
     ]
    },
    {
     "data": {
      "image/png": "[encoded data removed]",
      "text/plain": [
       "<Figure size 432x288 with 1 Axes>"
      ]
     },
     "metadata": {
      "needs_background": "light"
     },
     "output_type": "display_data"
    }
   ],
   "source": [
    "print(OHIO['NM2_discount_pc'].plot.hist(bins=20)) # BLUE\n",
    "print(OHIO['NM1_discount_pc2'].plot.hist(alpha=0.7,bins=20)) # ORANGE\n",
    "print(OHIO['NM1_discount_pc3'].plot.hist(alpha=0.5,bins=20)) # GREEN"
   ]
  },
  {
   "cell_type": "code",
   "execution_count": 64,
   "metadata": {},
   "outputs": [
    {
     "name": "stderr",
     "output_type": "stream",
     "text": [
      "/usr/local/lib/python3.6/site-packages/ipykernel_launcher.py:2: SettingWithCopyWarning: \n",
      "A value is trying to be set on a copy of a slice from a DataFrame.\n",
      "Try using .loc[row_indexer,col_indexer] = value instead\n",
      "\n",
      "See the caveats in the documentation: https://pandas.pydata.org/pandas-docs/stable/user_guide/indexing.html#returning-a-view-versus-a-copy\n",
      "  \n"
     ]
    },
    {
     "data": {
      "image/png": "[encoded data removed]",
      "text/plain": [
       "<Figure size 864x576 with 1 Axes>"
      ]
     },
     "metadata": {
      "needs_background": "light"
     },
     "output_type": "display_data"
    }
   ],
   "source": [
    "# Ohio plot\n",
    "OHIO['NM2_discount_pc'] = OHIO['NM2_discount_pc'].astype(np.int64) \n",
    "\n",
    "plt_df = (OHIO.NM2_discount_pc.value_counts()\n",
    "          .rename_axis('NM2_discount_pc')\n",
    "          .reset_index(name = 'count')\n",
    "         )\n",
    " \n",
    "plt_df2 = (OHIO.NM2_discount_pc.value_counts(normalize = True)\n",
    "           .rename_axis('NM2_discount_pc')\n",
    "           .reset_index(name = 'percentage')\n",
    "           .assign(percentage = lambda x: '<b>' + round(x.percentage * 100, 2).astype('str') + '%</b>')\n",
    "      )\n",
    " \n",
    "plt_df3 = plt_df.merge(plt_df2.set_index('NM2_discount_pc'), on = 'NM2_discount_pc')\n",
    "\n",
    "fig, ax = plt.subplots(figsize=(12, 8))\n",
    "ax = sns.barplot(x = \"NM2_discount_pc\", y = \"count\", data = plt_df3)\n",
    "ax.set(xlabel='NM2 Discount', ylabel='Driver Count')\n",
    "\n",
    "plt.show()"
   ]
  },
  {
   "cell_type": "code",
   "execution_count": 65,
   "metadata": {},
   "outputs": [
    {
     "name": "stderr",
     "output_type": "stream",
     "text": [
      "/usr/local/lib/python3.6/site-packages/ipykernel_launcher.py:2: SettingWithCopyWarning: \n",
      "A value is trying to be set on a copy of a slice from a DataFrame.\n",
      "Try using .loc[row_indexer,col_indexer] = value instead\n",
      "\n",
      "See the caveats in the documentation: https://pandas.pydata.org/pandas-docs/stable/user_guide/indexing.html#returning-a-view-versus-a-copy\n",
      "  \n"
     ]
    },
    {
     "data": {
      "image/png": "[encoded data removed]",
      "text/plain": [
       "<Figure size 864x576 with 1 Axes>"
      ]
     },
     "metadata": {
      "needs_background": "light"
     },
     "output_type": "display_data"
    }
   ],
   "source": [
    "# Ohio plot\n",
    "OHIO['NM2_CMT_discount_pc'] = OHIO['NM2_CMT_discount_pc'].astype(np.int64) \n",
    "\n",
    "plt_df = (OHIO.NM2_CMT_discount_pc.value_counts()\n",
    "          .rename_axis('NM2_CMT_discount_pc')\n",
    "          .reset_index(name = 'count')\n",
    "         )\n",
    " \n",
    "plt_df2 = (OHIO.NM2_CMT_discount_pc.value_counts(normalize = True)\n",
    "           .rename_axis('NM2_CMT_discount_pc')\n",
    "           .reset_index(name = 'percentage')\n",
    "           .assign(percentage = lambda x: '<b>' + round(x.percentage * 100, 2).astype('str') + '%</b>')\n",
    "      )\n",
    " \n",
    "plt_df3 = plt_df.merge(plt_df2.set_index('NM2_CMT_discount_pc'), on = 'NM2_CMT_discount_pc')\n",
    "\n",
    "fig, ax = plt.subplots(figsize=(12, 8))\n",
    "ax = sns.barplot(x = \"NM2_CMT_discount_pc\", y = \"count\", data = plt_df3)\n",
    "ax.set(xlabel='NM2 CMT Discount', ylabel='Driver Count')\n",
    "\n",
    "plt.show()"
   ]
  },
  {
   "cell_type": "code",
   "execution_count": 67,
   "metadata": {},
   "outputs": [
    {
     "name": "stderr",
     "output_type": "stream",
     "text": [
      "/usr/local/lib/python3.6/site-packages/ipykernel_launcher.py:4: SettingWithCopyWarning: \n",
      "A value is trying to be set on a copy of a slice from a DataFrame.\n",
      "Try using .loc[row_indexer,col_indexer] = value instead\n",
      "\n",
      "See the caveats in the documentation: https://pandas.pydata.org/pandas-docs/stable/user_guide/indexing.html#returning-a-view-versus-a-copy\n",
      "  after removing the cwd from sys.path.\n"
     ]
    },
    {
     "data": {
      "image/png": "[encoded data removed]",
      "text/plain": [
       "<Figure size 864x576 with 1 Axes>"
      ]
     },
     "metadata": {
      "needs_background": "light"
     },
     "output_type": "display_data"
    }
   ],
   "source": [
    "# FL, TX, GA, NY\n",
    "# Create these plots for states\n",
    "Florida = scoring_data2[scoring_data2['NM1_rate_state_abbr_nm']=='FL']\n",
    "Florida['NM2_discount_pc'] = Florida['NM2_discount_pc'].astype(np.int64) \n",
    "\n",
    "plt_df = (Florida.NM2_discount_pc.value_counts()\n",
    "          .rename_axis('NM2_discount_pc')\n",
    "          .reset_index(name = 'count')\n",
    "         )\n",
    " \n",
    "plt_df2 = (Florida.NM2_discount_pc.value_counts(normalize = True)\n",
    "           .rename_axis('NM2_discount_pc')\n",
    "           .reset_index(name = 'percentage')\n",
    "           .assign(percentage = lambda x: '<b>' + round(x.percentage * 100, 2).astype('str') + '%</b>')\n",
    "      )\n",
    " \n",
    "plt_df3 = plt_df.merge(plt_df2.set_index('NM2_discount_pc'), on = 'NM2_discount_pc')\n",
    "\n",
    "fig, ax = plt.subplots(figsize=(12, 8))\n",
    "ax = sns.barplot(x = \"NM2_discount_pc\", y = \"count\", data = plt_df3)\n",
    "ax.set(xlabel='NM2 Discount', ylabel='Driver Count')\n",
    "\n",
    "plt.show()"
   ]
  },
  {
   "cell_type": "code",
   "execution_count": 72,
   "metadata": {},
   "outputs": [
    {
     "name": "stderr",
     "output_type": "stream",
     "text": [
      "/usr/local/lib/python3.6/site-packages/ipykernel_launcher.py:1: SettingWithCopyWarning: \n",
      "A value is trying to be set on a copy of a slice from a DataFrame.\n",
      "Try using .loc[row_indexer,col_indexer] = value instead\n",
      "\n",
      "See the caveats in the documentation: https://pandas.pydata.org/pandas-docs/stable/user_guide/indexing.html#returning-a-view-versus-a-copy\n",
      "  \"\"\"Entry point for launching an IPython kernel.\n"
     ]
    },
    {
     "name": "stdout",
     "output_type": "stream",
     "text": [
      "(61, 35)\n"
     ]
    },
    {
     "data": {
      "image/png": "[encoded data removed]",
      "text/plain": [
       "<Figure size 864x576 with 1 Axes>"
      ]
     },
     "metadata": {
      "needs_background": "light"
     },
     "output_type": "display_data"
    }
   ],
   "source": [
    "Florida['NM2_CMT_discount_pc'] = Florida['NM2_CMT_discount_pc'].astype(np.int64) \n",
    "\n",
    "plt_df = (Florida.NM2_CMT_discount_pc.value_counts()\n",
    "          .rename_axis('NM2_CMT_discount_pc')\n",
    "          .reset_index(name = 'count')\n",
    "         )\n",
    " \n",
    "plt_df2 = (Florida.NM2_CMT_discount_pc.value_counts(normalize = True)\n",
    "           .rename_axis('NM2_CMT_discount_pc')\n",
    "           .reset_index(name = 'percentage')\n",
    "           .assign(percentage = lambda x: '<b>' + round(x.percentage * 100, 2).astype('str') + '%</b>')\n",
    "      )\n",
    " \n",
    "plt_df3 = plt_df.merge(plt_df2.set_index('NM2_CMT_discount_pc'), on = 'NM2_CMT_discount_pc')\n",
    "\n",
    "fig, ax = plt.subplots(figsize=(12, 8))\n",
    "ax = sns.barplot(x = \"NM2_CMT_discount_pc\", y = \"count\", data = plt_df3)\n",
    "ax.set(xlabel='NM2 CMT Discount', ylabel='Driver Count')\n",
    "\n",
    "print(Florida.shape)\n",
    "plt.show()"
   ]
  },
  {
   "cell_type": "code",
   "execution_count": 70,
   "metadata": {},
   "outputs": [
    {
     "name": "stderr",
     "output_type": "stream",
     "text": [
      "/usr/local/lib/python3.6/site-packages/ipykernel_launcher.py:2: SettingWithCopyWarning: \n",
      "A value is trying to be set on a copy of a slice from a DataFrame.\n",
      "Try using .loc[row_indexer,col_indexer] = value instead\n",
      "\n",
      "See the caveats in the documentation: https://pandas.pydata.org/pandas-docs/stable/user_guide/indexing.html#returning-a-view-versus-a-copy\n",
      "  \n"
     ]
    },
    {
     "name": "stdout",
     "output_type": "stream",
     "text": [
      "(1240, 35)\n"
     ]
    },
    {
     "data": {
      "image/png": "[encoded data removed]",
      "text/plain": [
       "<Figure size 864x576 with 1 Axes>"
      ]
     },
     "metadata": {
      "needs_background": "light"
     },
     "output_type": "display_data"
    }
   ],
   "source": [
    "Texas = scoring_data2[scoring_data2['NM1_rate_state_abbr_nm']=='TX']\n",
    "Texas['NM2_discount_pc'] = Texas['NM2_discount_pc'].astype(np.int64) \n",
    "\n",
    "plt_df = (Texas.NM2_discount_pc.value_counts()\n",
    "          .rename_axis('NM2_discount_pc')\n",
    "          .reset_index(name = 'count')\n",
    "         )\n",
    " \n",
    "plt_df2 = (Texas.NM2_discount_pc.value_counts(normalize = True)\n",
    "           .rename_axis('NM2_discount_pc')\n",
    "           .reset_index(name = 'percentage')\n",
    "           .assign(percentage = lambda x: '<b>' + round(x.percentage * 100, 2).astype('str') + '%</b>')\n",
    "      )\n",
    " \n",
    "plt_df3 = plt_df.merge(plt_df2.set_index('NM2_discount_pc'), on = 'NM2_discount_pc')\n",
    "\n",
    "fig, ax = plt.subplots(figsize=(12, 8))\n",
    "ax = sns.barplot(x = \"NM2_discount_pc\", y = \"count\", data = plt_df3)\n",
    "ax.set(xlabel='NM2 Discount', ylabel='Driver Count')\n",
    "\n",
    "print(Texas.shape)\n",
    "plt.show()"
   ]
  },
  {
   "cell_type": "code",
   "execution_count": 71,
   "metadata": {
    "scrolled": true
   },
   "outputs": [
    {
     "name": "stderr",
     "output_type": "stream",
     "text": [
      "/usr/local/lib/python3.6/site-packages/ipykernel_launcher.py:2: SettingWithCopyWarning: \n",
      "A value is trying to be set on a copy of a slice from a DataFrame.\n",
      "Try using .loc[row_indexer,col_indexer] = value instead\n",
      "\n",
      "See the caveats in the documentation: https://pandas.pydata.org/pandas-docs/stable/user_guide/indexing.html#returning-a-view-versus-a-copy\n",
      "  \n"
     ]
    },
    {
     "name": "stdout",
     "output_type": "stream",
     "text": [
      "(602, 35)\n"
     ]
    },
    {
     "data": {
      "image/png": "[encoded data removed]",
      "text/plain": [
       "<Figure size 864x576 with 1 Axes>"
      ]
     },
     "metadata": {
      "needs_background": "light"
     },
     "output_type": "display_data"
    }
   ],
   "source": [
    "Georgia = scoring_data2[scoring_data2['NM1_rate_state_abbr_nm']=='GA']\n",
    "Georgia['NM2_discount_pc'] = Georgia['NM2_discount_pc'].astype(np.int64) \n",
    "\n",
    "plt_df = (Georgia.NM2_discount_pc.value_counts()\n",
    "          .rename_axis('NM2_discount_pc')\n",
    "          .reset_index(name = 'count')\n",
    "         )\n",
    " \n",
    "plt_df2 = (Georgia.NM2_discount_pc.value_counts(normalize = True)\n",
    "           .rename_axis('NM2_discount_pc')\n",
    "           .reset_index(name = 'percentage')\n",
    "           .assign(percentage = lambda x: '<b>' + round(x.percentage * 100, 2).astype('str') + '%</b>')\n",
    "      )\n",
    " \n",
    "plt_df3 = plt_df.merge(plt_df2.set_index('NM2_discount_pc'), on = 'NM2_discount_pc')\n",
    "\n",
    "fig, ax = plt.subplots(figsize=(12, 8))\n",
    "ax = sns.barplot(x = \"NM2_discount_pc\", y = \"count\", data = plt_df3)\n",
    "ax.set(xlabel='NM2 Discount', ylabel='Driver Count')\n",
    "\n",
    "print(Georgia.shape)\n",
    "plt.show()"
   ]
  },
  {
   "cell_type": "code",
   "execution_count": 73,
   "metadata": {},
   "outputs": [
    {
     "name": "stderr",
     "output_type": "stream",
     "text": [
      "/usr/local/lib/python3.6/site-packages/ipykernel_launcher.py:1: SettingWithCopyWarning: \n",
      "A value is trying to be set on a copy of a slice from a DataFrame.\n",
      "Try using .loc[row_indexer,col_indexer] = value instead\n",
      "\n",
      "See the caveats in the documentation: https://pandas.pydata.org/pandas-docs/stable/user_guide/indexing.html#returning-a-view-versus-a-copy\n",
      "  \"\"\"Entry point for launching an IPython kernel.\n"
     ]
    },
    {
     "name": "stdout",
     "output_type": "stream",
     "text": [
      "(602, 35)\n"
     ]
    },
    {
     "data": {
      "image/png": "[encoded data removed]",
      "text/plain": [
       "<Figure size 864x576 with 1 Axes>"
      ]
     },
     "metadata": {
      "needs_background": "light"
     },
     "output_type": "display_data"
    }
   ],
   "source": [
    "Georgia['NM2_CMT_discount_pc'] = Georgia['NM2_CMT_discount_pc'].astype(np.int64) \n",
    "\n",
    "plt_df = (Georgia.NM2_CMT_discount_pc.value_counts()\n",
    "          .rename_axis('NM2_CMT_discount_pc')\n",
    "          .reset_index(name = 'count')\n",
    "         )\n",
    " \n",
    "plt_df2 = (Georgia.NM2_CMT_discount_pc.value_counts(normalize = True)\n",
    "           .rename_axis('NM2_CMT_discount_pc')\n",
    "           .reset_index(name = 'percentage')\n",
    "           .assign(percentage = lambda x: '<b>' + round(x.percentage * 100, 2).astype('str') + '%</b>')\n",
    "      )\n",
    " \n",
    "plt_df3 = plt_df.merge(plt_df2.set_index('NM2_CMT_discount_pc'), on = 'NM2_CMT_discount_pc')\n",
    "\n",
    "fig, ax = plt.subplots(figsize=(12, 8))\n",
    "ax = sns.barplot(x = \"NM2_CMT_discount_pc\", y = \"count\", data = plt_df3)\n",
    "ax.set(xlabel='NM2 CMT Discount', ylabel='Driver Count')\n",
    "\n",
    "print(Georgia.shape)\n",
    "plt.show()"
   ]
  },
  {
   "cell_type": "code",
   "execution_count": 74,
   "metadata": {},
   "outputs": [
    {
     "name": "stderr",
     "output_type": "stream",
     "text": [
      "/usr/local/lib/python3.6/site-packages/ipykernel_launcher.py:2: SettingWithCopyWarning: \n",
      "A value is trying to be set on a copy of a slice from a DataFrame.\n",
      "Try using .loc[row_indexer,col_indexer] = value instead\n",
      "\n",
      "See the caveats in the documentation: https://pandas.pydata.org/pandas-docs/stable/user_guide/indexing.html#returning-a-view-versus-a-copy\n",
      "  \n"
     ]
    },
    {
     "name": "stdout",
     "output_type": "stream",
     "text": [
      "(1405, 35)\n"
     ]
    },
    {
     "data": {
      "image/png": "[encoded data removed]",
      "text/plain": [
       "<Figure size 864x576 with 1 Axes>"
      ]
     },
     "metadata": {
      "needs_background": "light"
     },
     "output_type": "display_data"
    }
   ],
   "source": [
    "Penn = scoring_data2[scoring_data2['NM1_rate_state_abbr_nm']=='PA']\n",
    "Penn['NM2_CMT_discount_pc'] = Penn['NM2_CMT_discount_pc'].astype(np.int64) \n",
    "\n",
    "plt_df = (Penn.NM2_CMT_discount_pc.value_counts()\n",
    "          .rename_axis('NM2_CMT_discount_pc')\n",
    "          .reset_index(name = 'count')\n",
    "         )\n",
    " \n",
    "plt_df2 = (Penn.NM2_CMT_discount_pc.value_counts(normalize = True)\n",
    "           .rename_axis('NM2_CMT_discount_pc')\n",
    "           .reset_index(name = 'percentage')\n",
    "           .assign(percentage = lambda x: '<b>' + round(x.percentage * 100, 2).astype('str') + '%</b>')\n",
    "      )\n",
    " \n",
    "plt_df3 = plt_df.merge(plt_df2.set_index('NM2_CMT_discount_pc'), on = 'NM2_CMT_discount_pc')\n",
    "\n",
    "fig, ax = plt.subplots(figsize=(12, 8))\n",
    "ax = sns.barplot(x = \"NM2_CMT_discount_pc\", y = \"count\", data = plt_df3)\n",
    "ax.set(xlabel='NM2 CMT Discount', ylabel='Driver Count')\n",
    "\n",
    "print(Penn.shape)\n",
    "plt.show()"
   ]
  },
  {
   "cell_type": "code",
   "execution_count": 75,
   "metadata": {},
   "outputs": [
    {
     "name": "stderr",
     "output_type": "stream",
     "text": [
      "/usr/local/lib/python3.6/site-packages/ipykernel_launcher.py:2: SettingWithCopyWarning: \n",
      "A value is trying to be set on a copy of a slice from a DataFrame.\n",
      "Try using .loc[row_indexer,col_indexer] = value instead\n",
      "\n",
      "See the caveats in the documentation: https://pandas.pydata.org/pandas-docs/stable/user_guide/indexing.html#returning-a-view-versus-a-copy\n",
      "  \n"
     ]
    },
    {
     "data": {
      "image/png": "[encoded data removed]",
      "text/plain": [
       "<Figure size 864x576 with 1 Axes>"
      ]
     },
     "metadata": {
      "needs_background": "light"
     },
     "output_type": "display_data"
    }
   ],
   "source": [
    "State = scoring_data2[scoring_data2['NM1_rate_state_abbr_nm']=='NC']\n",
    "State['NM2_CMT_discount_pc'] = State['NM2_CMT_discount_pc'].astype(np.int64) \n",
    "\n",
    "plt_df = (State.NM2_CMT_discount_pc.value_counts()\n",
    "          .rename_axis('NM2_CMT_discount_pc')\n",
    "          .reset_index(name = 'count')\n",
    "         )\n",
    " \n",
    "plt_df2 = (State.NM2_CMT_discount_pc.value_counts(normalize = True)\n",
    "           .rename_axis('NM2_CMT_discount_pc')\n",
    "           .reset_index(name = 'percentage')\n",
    "           .assign(percentage = lambda x: '<b>' + round(x.percentage * 100, 2).astype('str') + '%</b>')\n",
    "      )\n",
    " \n",
    "plt_df3 = plt_df.merge(plt_df2.set_index('NM2_CMT_discount_pc'), on = 'NM2_CMT_discount_pc')\n",
    "\n",
    "fig, ax = plt.subplots(figsize=(12, 8))\n",
    "ax = sns.barplot(x = \"NM2_CMT_discount_pc\", y = \"count\", data = plt_df3)\n",
    "ax.set(xlabel='NM2 CMT Discount', ylabel='Driver Count')\n",
    "\n",
    "plt.show()"
   ]
  },
  {
   "cell_type": "code",
   "execution_count": 76,
   "metadata": {},
   "outputs": [
    {
     "data": {
      "image/png": "[encoded data removed]",
      "text/plain": [
       "<Figure size 864x576 with 1 Axes>"
      ]
     },
     "metadata": {
      "needs_background": "light"
     },
     "output_type": "display_data"
    }
   ],
   "source": [
    "plt_df = (State.NM2_discount_pc.value_counts()\n",
    "          .rename_axis('NM2_discount_pc')\n",
    "          .reset_index(name = 'count')\n",
    "         )\n",
    " \n",
    "plt_df2 = (State.NM2_CMT_discount_pc.value_counts(normalize = True)\n",
    "           .rename_axis('NM2_discount_pc')\n",
    "           .reset_index(name = 'percentage')\n",
    "           .assign(percentage = lambda x: '<b>' + round(x.percentage * 100, 2).astype('str') + '%</b>')\n",
    "      )\n",
    " \n",
    "plt_df3 = plt_df.merge(plt_df2.set_index('NM2_discount_pc'), on = 'NM2_discount_pc')\n",
    "\n",
    "fig, ax = plt.subplots(figsize=(12, 8))\n",
    "ax = sns.barplot(x = \"NM2_discount_pc\", y = \"count\", data = plt_df3)\n",
    "ax.set(xlabel='NM2 Discount', ylabel='Driver Count')\n",
    "\n",
    "plt.show()"
   ]
  },
  {
   "cell_type": "code",
   "execution_count": 77,
   "metadata": {},
   "outputs": [
    {
     "name": "stdout",
     "output_type": "stream",
     "text": [
      "AxesSubplot(0.125,0.125;0.775x0.755)\n",
      "AxesSubplot(0.125,0.125;0.775x0.755)\n",
      "AxesSubplot(0.125,0.125;0.775x0.755)\n"
     ]
    },
    {
     "data": {
      "image/png": "[encoded data removed]",
      "text/plain": [
       "<Figure size 432x288 with 1 Axes>"
      ]
     },
     "metadata": {
      "needs_background": "light"
     },
     "output_type": "display_data"
    }
   ],
   "source": [
    "print(Texas['NM2_discount_pc'].plot.hist(bins=20)) # BLUE\n",
    "print(OHIO['NM2_discount_pc'].plot.hist(alpha=0.7,bins=20)) # ORANGE\n",
    "print(Georgia['NM2_discount_pc'].plot.hist(alpha=0.5,bins=20)) # GREEN"
   ]
  },
  {
   "cell_type": "code",
   "execution_count": 78,
   "metadata": {},
   "outputs": [
    {
     "name": "stdout",
     "output_type": "stream",
     "text": [
      "AxesSubplot(0.125,0.125;0.775x0.755)\n",
      "AxesSubplot(0.125,0.125;0.775x0.755)\n",
      "AxesSubplot(0.125,0.125;0.775x0.755)\n"
     ]
    },
    {
     "data": {
      "image/png": "[encoded data removed]",
      "text/plain": [
       "<Figure size 432x288 with 1 Axes>"
      ]
     },
     "metadata": {
      "needs_background": "light"
     },
     "output_type": "display_data"
    }
   ],
   "source": [
    "print(Texas['NM2_CMT_discount_pc'].plot.hist(bins=20)) # BLUE\n",
    "print(OHIO['NM2_CMT_discount_pc'].plot.hist(alpha=0.7,bins=20)) # ORANGE\n",
    "print(Georgia['NM2_CMT_discount_pc'].plot.hist(alpha=0.5,bins=20)) # GREEN"
   ]
  },
  {
   "cell_type": "code",
   "execution_count": 81,
   "metadata": {},
   "outputs": [
    {
     "name": "stdout",
     "output_type": "stream",
     "text": [
      "AxesSubplot(0.125,0.125;0.775x0.755)\n",
      "AxesSubplot(0.125,0.125;0.775x0.755)\n",
      "AxesSubplot(0.125,0.125;0.775x0.755)\n"
     ]
    },
    {
     "data": {
      "image/png": "[encoded data removed]",
      "text/plain": [
       "<Figure size 432x288 with 1 Axes>"
      ]
     },
     "metadata": {
      "needs_background": "light"
     },
     "output_type": "display_data"
    }
   ],
   "source": [
    "print(Texas['avg_ann_adj_KM_pu'].plot.hist()) # BLUE\n",
    "print(Georgia['avg_ann_adj_KM_pu'].plot.hist(alpha=0.5)) # ORANGE\n",
    "print(OHIO['avg_ann_adj_KM_pu'].plot.hist(alpha=0.7)) # GREEN"
   ]
  },
  {
   "cell_type": "code",
   "execution_count": 82,
   "metadata": {},
   "outputs": [
    {
     "data": {
      "text/plain": [
       "(1353, 35)"
      ]
     },
     "execution_count": 82,
     "metadata": {},
     "output_type": "execute_result"
    }
   ],
   "source": [
    "high_miles = scoring_data2[scoring_data2['avg_ann_adj_KM_pu']>=40000]\n",
    "high_miles.shape"
   ]
  },
  {
   "cell_type": "code",
   "execution_count": 83,
   "metadata": {},
   "outputs": [
    {
     "data": {
      "text/plain": [
       "NC    1731\n",
       "PA    1405\n",
       "TX    1240\n",
       "CO     973\n",
       "VA     839\n",
       "OH     663\n",
       "GA     602\n",
       "MD     491\n",
       "NE     474\n",
       "IA     429\n",
       "MN     411\n",
       "MO     378\n",
       "KS     346\n",
       "TN     336\n",
       "SC     310\n",
       "IL     298\n",
       "WA     255\n",
       "AL     225\n",
       "NJ     216\n",
       "WV     215\n",
       "AR     212\n",
       "AZ     212\n",
       "IN     202\n",
       "MI     190\n",
       "DE     182\n",
       "MS     175\n",
       "KY     131\n",
       "CT     123\n",
       "OR     121\n",
       "SD     112\n",
       "UT     104\n",
       "RI      87\n",
       "NV      73\n",
       "WI      72\n",
       "FL      61\n",
       "MT      39\n",
       "ID      36\n",
       "NM      31\n",
       "VT      30\n",
       "DC      28\n",
       "ND      22\n",
       "NH      21\n",
       "WY      17\n",
       "ME      15\n",
       "OK       8\n",
       "Name: NM1_rate_state_abbr_nm, dtype: int64"
      ]
     },
     "execution_count": 83,
     "metadata": {},
     "output_type": "execute_result"
    }
   ],
   "source": [
    "scoring_data2.NM1_rate_state_abbr_nm.value_counts()"
   ]
  },
  {
   "cell_type": "code",
   "execution_count": 84,
   "metadata": {},
   "outputs": [
    {
     "name": "stdout",
     "output_type": "stream",
     "text": [
      "AxesSubplot(0.125,0.125;0.775x0.755)\n"
     ]
    },
    {
     "data": {
      "image/png": "[encoded data removed]",
      "text/plain": [
       "<Figure size 864x576 with 1 Axes>"
      ]
     },
     "metadata": {
      "needs_background": "light"
     },
     "output_type": "display_data"
    }
   ],
   "source": [
    "fig, ax = plt.subplots(figsize=(12,8))\n",
    "print(scoring_data2['NM1_rate_state_abbr_nm'].value_counts(sort=False).sort_values(ascending=False).plot(ax=ax\n",
    "                                                                                                     , kind='bar'\n",
    "                                                                                                    ,color='lightblue'))"
   ]
  },
  {
   "cell_type": "code",
   "execution_count": null,
   "metadata": {},
   "outputs": [],
   "source": [
    "# Save final dataframe\n",
    "scoring_data2.to_csv('Scoring_Data_3112021.csv', index = False)\n",
    "\n",
    "# 3/09/2021 @ 5pm - 9am\n",
    "# score_qt = mapped_score - Done\n",
    "# score_qt/.8 - Done\n",
    "# discount_pc = 1-rscore - Done\n",
    "\n",
    "# 1 - Get the short_user_id from SRM data who has 998, and look at our discount, # of drivers - Done\n",
    "# 2 - remove drivers in 1, and then look at the discount again, calculate avg discount? - Done \n",
    "# 3 - use active_days from SRM data as scoring_days in our NM2 model, recalculate model raw scores, reshaped scores, and rscore.- Done\n",
    "\n",
    "# Add NM1 in front of each variable - Done\n",
    "# Remove 80 days filter - Done \n",
    "# Change back from load_date to last_request_date - Done\n",
    "# Keep channel_cd, rate_state_abbr_nm - Done\n",
    "# Comparing 2 variables dataframe plots - Done\n",
    "\n",
    "# #6 what would we have if we run drivers in Ohio only since that's the first state to go? \n",
    "\n",
    "# Could I get a final graph showing the distribution of these driver scores.  \n",
    "# I like the bar chart, but I want one with percentage of drivers rather than driver counts by scoring bin.  \n",
    "# If possible, I'd like a horizontal line at the 5% level to show where the expected distribution.\n",
    "\n",
    "# Can you do histogram with 100 bins for annulaized adjusted mileage and Rq5a"
   ]
  },
  {
   "cell_type": "code",
   "execution_count": 51,
   "metadata": {},
   "outputs": [
    {
     "data": {
      "text/plain": [
       "<matplotlib.axes._subplots.AxesSubplot at 0x7ff087eefdd8>"
      ]
     },
     "execution_count": 51,
     "metadata": {},
     "output_type": "execute_result"
    },
    {
     "data": {
      "image/png": "[encoded data removed]",
      "text/plain": [
       "<Figure size 864x576 with 1 Axes>"
      ]
     },
     "metadata": {
      "needs_background": "light"
     },
     "output_type": "display_data"
    }
   ],
   "source": [
    "fig = plt.figure(figsize=(12,8))\n",
    "scoring_data2['avg_ann_adj_KM_pu'].plot.hist(bins=100)"
   ]
  },
  {
   "cell_type": "code",
   "execution_count": 52,
   "metadata": {},
   "outputs": [
    {
     "data": {
      "text/plain": [
       "<matplotlib.axes._subplots.AxesSubplot at 0x7ff09c2a4320>"
      ]
     },
     "execution_count": 52,
     "metadata": {},
     "output_type": "execute_result"
    },
    {
     "data": {
      "image/png": "[encoded data removed]",
      "text/plain": [
       "<Figure size 864x576 with 1 Axes>"
      ]
     },
     "metadata": {
      "needs_background": "light"
     },
     "output_type": "display_data"
    }
   ],
   "source": [
    "fig = plt.figure(figsize=(12,8))\n",
    "scoring_data2['Rq5a'].plot.hist(bins=100)"
   ]
  },
  {
   "cell_type": "code",
   "execution_count": 53,
   "metadata": {},
   "outputs": [
    {
     "data": {
      "text/plain": [
       "<matplotlib.axes._subplots.AxesSubplot at 0x7ff09be78e10>"
      ]
     },
     "execution_count": 53,
     "metadata": {},
     "output_type": "execute_result"
    },
    {
     "data": {
      "image/png": "[encoded data removed]",
      "text/plain": [
       "<Figure size 864x576 with 1 Axes>"
      ]
     },
     "metadata": {
      "needs_background": "light"
     },
     "output_type": "display_data"
    }
   ],
   "source": [
    "fig = plt.figure(figsize=(12,8))\n",
    "scoring_data2['NM2_predicted'].plot.hist(bins=100)"
   ]
  },
  {
   "cell_type": "code",
   "execution_count": 121,
   "metadata": {},
   "outputs": [
    {
     "data": {
      "text/plain": [
       "<matplotlib.axes._subplots.AxesSubplot at 0x7ff5dcbc1668>"
      ]
     },
     "execution_count": 121,
     "metadata": {},
     "output_type": "execute_result"
    },
    {
     "data": {
      "image/png": "[encoded data removed]",
      "text/plain": [
       "<Figure size 864x576 with 1 Axes>"
      ]
     },
     "metadata": {
      "needs_background": "light"
     },
     "output_type": "display_data"
    }
   ],
   "source": [
    "fig = plt.figure(figsize=(12,8))\n",
    "scoring_data2['NM1_predicted'].plot.hist(bins=100)"
   ]
  },
  {
   "cell_type": "code",
   "execution_count": 122,
   "metadata": {},
   "outputs": [
    {
     "data": {
      "text/plain": [
       "<matplotlib.axes._subplots.AxesSubplot at 0x7ff5dcbc1e10>"
      ]
     },
     "execution_count": 122,
     "metadata": {},
     "output_type": "execute_result"
    },
    {
     "data": {
      "image/png": "[encoded data removed]",
      "text/plain": [
       "<Figure size 864x576 with 1 Axes>"
      ]
     },
     "metadata": {
      "needs_background": "light"
     },
     "output_type": "display_data"
    }
   ],
   "source": [
    "fig = plt.figure(figsize=(12,8))\n",
    "scoring_data2['NM1_score_qt'].plot.hist(bins=100)"
   ]
  },
  {
   "cell_type": "code",
   "execution_count": 124,
   "metadata": {},
   "outputs": [
    {
     "data": {
      "text/plain": [
       "<matplotlib.axes._subplots.AxesSubplot at 0x7ff6c1d04f28>"
      ]
     },
     "execution_count": 124,
     "metadata": {},
     "output_type": "execute_result"
    },
    {
     "data": {
      "image/png": "[encoded data removed]",
      "text/plain": [
       "<Figure size 864x576 with 1 Axes>"
      ]
     },
     "metadata": {
      "needs_background": "light"
     },
     "output_type": "display_data"
    }
   ],
   "source": [
    "fig = plt.figure(figsize=(12,8))\n",
    "scoring_data2['NM2_Mapped_Score'].plot.hist(bins=100)"
   ]
  },
  {
   "cell_type": "code",
   "execution_count": 88,
   "metadata": {},
   "outputs": [
    {
     "data": {
      "text/plain": [
       "<matplotlib.axes._subplots.AxesSubplot at 0x7f4a011f1b38>"
      ]
     },
     "execution_count": 88,
     "metadata": {},
     "output_type": "execute_result"
    },
    {
     "data": {
      "image/png": "[encoded data removed]",
      "text/plain": [
       "<Figure size 864x576 with 1 Axes>"
      ]
     },
     "metadata": {
      "needs_background": "light"
     },
     "output_type": "display_data"
    }
   ],
   "source": [
    "fig = plt.figure(figsize=(12,8))\n",
    "scoring_data2['NM2_Mapped_Score'].plot.hist(bins=100)"
   ]
  },
  {
   "cell_type": "code",
   "execution_count": 114,
   "metadata": {},
   "outputs": [
    {
     "data": {
      "text/plain": [
       "<matplotlib.axes._subplots.AxesSubplot at 0x7ff75985ee48>"
      ]
     },
     "execution_count": 114,
     "metadata": {},
     "output_type": "execute_result"
    },
    {
     "data": {
      "image/png": "[encoded data removed]",
      "text/plain": [
       "<Figure size 864x576 with 1 Axes>"
      ]
     },
     "metadata": {
      "needs_background": "light"
     },
     "output_type": "display_data"
    }
   ],
   "source": [
    "fig = plt.figure(figsize=(12,8))\n",
    "scoring_data2['lEpr'].plot.hist(bins=100)"
   ]
  },
  {
   "cell_type": "code",
   "execution_count": 89,
   "metadata": {},
   "outputs": [
    {
     "data": {
      "text/plain": [
       "<matplotlib.axes._subplots.AxesSubplot at 0x7f4a01078390>"
      ]
     },
     "execution_count": 89,
     "metadata": {},
     "output_type": "execute_result"
    },
    {
     "data": {
      "image/png": "[encoded data removed]",
      "text/plain": [
       "<Figure size 864x576 with 1 Axes>"
      ]
     },
     "metadata": {
      "needs_background": "light"
     },
     "output_type": "display_data"
    }
   ],
   "source": [
    "fig = plt.figure(figsize=(12,8))\n",
    "scoring_data2['NM2_discount_pc'].plot.hist(bins=20)"
   ]
  },
  {
   "cell_type": "code",
   "execution_count": null,
   "metadata": {},
   "outputs": [],
   "source": [
    "# NEW REQUESTS"
   ]
  },
  {
   "cell_type": "code",
   "execution_count": 137,
   "metadata": {},
   "outputs": [
    {
     "name": "stdout",
     "output_type": "stream",
     "text": [
      "(37307, 9)\n"
     ]
    },
    {
     "data": {
      "text/html": [
       "<div>\n",
       "<style scoped>\n",
       "    .dataframe tbody tr th:only-of-type {\n",
       "        vertical-align: middle;\n",
       "    }\n",
       "\n",
       "    .dataframe tbody tr th {\n",
       "        vertical-align: top;\n",
       "    }\n",
       "\n",
       "    .dataframe thead th {\n",
       "        text-align: right;\n",
       "    }\n",
       "</style>\n",
       "<table border=\"1\" class=\"dataframe\">\n",
       "  <thead>\n",
       "    <tr style=\"text-align: right;\">\n",
       "      <th></th>\n",
       "      <th>policy_nb</th>\n",
       "      <th>ln_telematics_id</th>\n",
       "      <th>active_days</th>\n",
       "      <th>pure_score</th>\n",
       "      <th>avg_ann_adj_KM_pu</th>\n",
       "      <th>Rq5a</th>\n",
       "      <th>mod_6</th>\n",
       "      <th>mod_6_f</th>\n",
       "      <th>Score</th>\n",
       "    </tr>\n",
       "  </thead>\n",
       "  <tbody>\n",
       "    <tr>\n",
       "      <th>0</th>\n",
       "      <td>7701J 056842</td>\n",
       "      <td>803313bf-e264-43c2-b2ec-49c627e6839b</td>\n",
       "      <td>134</td>\n",
       "      <td>166</td>\n",
       "      <td>24659.255992</td>\n",
       "      <td>3.713133</td>\n",
       "      <td>0.031406</td>\n",
       "      <td>0.085546</td>\n",
       "      <td>275.0</td>\n",
       "    </tr>\n",
       "    <tr>\n",
       "      <th>1</th>\n",
       "      <td>7701J 057986</td>\n",
       "      <td>ea587dfd-1cfe-4677-a937-dbfc63bb046a</td>\n",
       "      <td>121</td>\n",
       "      <td>200</td>\n",
       "      <td>54159.510175</td>\n",
       "      <td>3.589862</td>\n",
       "      <td>0.038605</td>\n",
       "      <td>0.116454</td>\n",
       "      <td>399.0</td>\n",
       "    </tr>\n",
       "    <tr>\n",
       "      <th>2</th>\n",
       "      <td>7701J 039761</td>\n",
       "      <td>9c532e52-439b-46c5-9699-dd0bdb9e3c56</td>\n",
       "      <td>91</td>\n",
       "      <td>117</td>\n",
       "      <td>4812.620446</td>\n",
       "      <td>6.252848</td>\n",
       "      <td>0.031581</td>\n",
       "      <td>0.126670</td>\n",
       "      <td>440.0</td>\n",
       "    </tr>\n",
       "    <tr>\n",
       "      <th>3</th>\n",
       "      <td>7701J 055866</td>\n",
       "      <td>b815c3a5-17a0-4180-9919-875bea008152</td>\n",
       "      <td>127</td>\n",
       "      <td>75</td>\n",
       "      <td>3158.192258</td>\n",
       "      <td>4.828008</td>\n",
       "      <td>0.019036</td>\n",
       "      <td>0.054710</td>\n",
       "      <td>152.0</td>\n",
       "    </tr>\n",
       "    <tr>\n",
       "      <th>4</th>\n",
       "      <td>7701J 053245</td>\n",
       "      <td>48a9a6b3-f2ef-4f02-9200-d0ee3c1b7fba</td>\n",
       "      <td>152</td>\n",
       "      <td>120</td>\n",
       "      <td>5559.427219</td>\n",
       "      <td>3.743341</td>\n",
       "      <td>0.018122</td>\n",
       "      <td>0.043517</td>\n",
       "      <td>107.0</td>\n",
       "    </tr>\n",
       "  </tbody>\n",
       "</table>\n",
       "</div>"
      ],
      "text/plain": [
       "      policy_nb                      ln_telematics_id  active_days  \\\n",
       "0  7701J 056842  803313bf-e264-43c2-b2ec-49c627e6839b          134   \n",
       "1  7701J 057986  ea587dfd-1cfe-4677-a937-dbfc63bb046a          121   \n",
       "2  7701J 039761  9c532e52-439b-46c5-9699-dd0bdb9e3c56           91   \n",
       "3  7701J 055866  b815c3a5-17a0-4180-9919-875bea008152          127   \n",
       "4  7701J 053245  48a9a6b3-f2ef-4f02-9200-d0ee3c1b7fba          152   \n",
       "\n",
       "   pure_score  avg_ann_adj_KM_pu      Rq5a     mod_6   mod_6_f  Score  \n",
       "0         166       24659.255992  3.713133  0.031406  0.085546  275.0  \n",
       "1         200       54159.510175  3.589862  0.038605  0.116454  399.0  \n",
       "2         117        4812.620446  6.252848  0.031581  0.126670  440.0  \n",
       "3          75        3158.192258  4.828008  0.019036  0.054710  152.0  \n",
       "4         120        5559.427219  3.743341  0.018122  0.043517  107.0  "
      ]
     },
     "execution_count": 137,
     "metadata": {},
     "output_type": "execute_result"
    }
   ],
   "source": [
    "Mod6 = pd.read_csv(\"model6_w_pred.csv\", low_memory = False)\n",
    "print(Mod6.shape)\n",
    "Mod6.head()"
   ]
  },
  {
   "cell_type": "code",
   "execution_count": 138,
   "metadata": {},
   "outputs": [
    {
     "data": {
      "text/plain": [
       "<matplotlib.axes._subplots.AxesSubplot at 0x7ff4a2f97518>"
      ]
     },
     "execution_count": 138,
     "metadata": {},
     "output_type": "execute_result"
    },
    {
     "data": {
      "image/png": "[encoded data removed]",
      "text/plain": [
       "<Figure size 864x576 with 1 Axes>"
      ]
     },
     "metadata": {
      "needs_background": "light"
     },
     "output_type": "display_data"
    }
   ],
   "source": [
    "fig = plt.figure(figsize=(12,8))\n",
    "Mod6['Score'].plot.hist(bins=100)"
   ]
  },
  {
   "cell_type": "code",
   "execution_count": 93,
   "metadata": {},
   "outputs": [
    {
     "data": {
      "text/plain": [
       "<matplotlib.axes._subplots.AxesSubplot at 0x7f4a008d1438>"
      ]
     },
     "execution_count": 93,
     "metadata": {},
     "output_type": "execute_result"
    },
    {
     "data": {
      "image/png": "[encoded data removed]",
      "text/plain": [
       "<Figure size 864x576 with 1 Axes>"
      ]
     },
     "metadata": {
      "needs_background": "light"
     },
     "output_type": "display_data"
    }
   ],
   "source": [
    "fig = plt.figure(figsize=(12,8))\n",
    "Mod6['avg_ann_adj_KM_pu'].plot.hist(bins=100)"
   ]
  },
  {
   "cell_type": "code",
   "execution_count": 94,
   "metadata": {},
   "outputs": [
    {
     "data": {
      "text/plain": [
       "<matplotlib.axes._subplots.AxesSubplot at 0x7f4a007d4c18>"
      ]
     },
     "execution_count": 94,
     "metadata": {},
     "output_type": "execute_result"
    },
    {
     "data": {
      "image/png": "[encoded data removed]",
      "text/plain": [
       "<Figure size 864x576 with 1 Axes>"
      ]
     },
     "metadata": {
      "needs_background": "light"
     },
     "output_type": "display_data"
    }
   ],
   "source": [
    "fig = plt.figure(figsize=(12,8))\n",
    "Mod6['Rq5a'].plot.hist(bins=100)"
   ]
  },
  {
   "cell_type": "code",
   "execution_count": 95,
   "metadata": {},
   "outputs": [
    {
     "data": {
      "text/plain": [
       "<matplotlib.axes._subplots.AxesSubplot at 0x7f4a007339e8>"
      ]
     },
     "execution_count": 95,
     "metadata": {},
     "output_type": "execute_result"
    },
    {
     "data": {
      "image/png": "[encoded data removed]",
      "text/plain": [
       "<Figure size 864x576 with 1 Axes>"
      ]
     },
     "metadata": {
      "needs_background": "light"
     },
     "output_type": "display_data"
    }
   ],
   "source": [
    "fig = plt.figure(figsize=(12,8))\n",
    "Mod6['mod_6'].plot.hist(bins=100)"
   ]
  },
  {
   "cell_type": "code",
   "execution_count": 96,
   "metadata": {},
   "outputs": [
    {
     "data": {
      "text/plain": [
       "<matplotlib.axes._subplots.AxesSubplot at 0x7f4a006b1240>"
      ]
     },
     "execution_count": 96,
     "metadata": {},
     "output_type": "execute_result"
    },
    {
     "data": {
      "image/png": "[encoded data removed]",
      "text/plain": [
       "<Figure size 864x576 with 1 Axes>"
      ]
     },
     "metadata": {
      "needs_background": "light"
     },
     "output_type": "display_data"
    }
   ],
   "source": [
    "fig = plt.figure(figsize=(12,8))\n",
    "Mod6['Score'].plot.hist(bins=100)"
   ]
  },
  {
   "cell_type": "code",
   "execution_count": 97,
   "metadata": {},
   "outputs": [
    {
     "name": "stdout",
     "output_type": "stream",
     "text": [
      "AxesSubplot(0.125,0.125;0.775x0.755)\n"
     ]
    },
    {
     "data": {
      "image/png": "[encoded data removed]",
      "text/plain": [
       "<Figure size 864x576 with 1 Axes>"
      ]
     },
     "metadata": {
      "needs_background": "light"
     },
     "output_type": "display_data"
    }
   ],
   "source": [
    "# with the NM2 model you have, calibrated with CMT bounds, can you create a ranked order of scores 1-995 and run a \n",
    "# histogram of 20 bins by all drivers, with 5% of drivers for each group \n",
    "\n",
    "scoring_data2['CMT_Score_Bin'] = pd.qcut(scoring_data2['NM2_CMT_Score'], q=20)\n",
    "scoring_data2['CMT_Score_Bin'] = scoring_data2['CMT_Score_Bin'].apply(lambda x: pd.Interval(left=int(round(x.left))\n",
    "                                                                                            , right=int(round(x.right))))\n",
    "\n",
    "fig, ax = plt.subplots(figsize=(12,8))\n",
    "print(scoring_data2['CMT_Score_Bin'].value_counts(sort=False).sort_index(ascending=True).plot(ax=ax\n",
    "                                                                                                , kind='bar'\n",
    "                                                                                                ,color='lightblue'))"
   ]
  },
  {
   "cell_type": "code",
   "execution_count": 98,
   "metadata": {},
   "outputs": [
    {
     "data": {
      "text/html": [
       "<div>\n",
       "<style scoped>\n",
       "    .dataframe tbody tr th:only-of-type {\n",
       "        vertical-align: middle;\n",
       "    }\n",
       "\n",
       "    .dataframe tbody tr th {\n",
       "        vertical-align: top;\n",
       "    }\n",
       "\n",
       "    .dataframe thead th {\n",
       "        text-align: right;\n",
       "    }\n",
       "</style>\n",
       "<table border=\"1\" class=\"dataframe\">\n",
       "  <thead>\n",
       "    <tr style=\"text-align: right;\">\n",
       "      <th></th>\n",
       "      <th>short_user_id</th>\n",
       "      <th>adjusted_distance_km</th>\n",
       "      <th>Rq5a</th>\n",
       "      <th>last_trip_date</th>\n",
       "      <th>Max_final_score_date</th>\n",
       "      <th>Min_data_clctn_start_date</th>\n",
       "      <th>NM1_discount_pc</th>\n",
       "      <th>NM1_score_qt</th>\n",
       "      <th>NM1_channel_cd</th>\n",
       "      <th>NM1_rate_state_abbr_nm</th>\n",
       "      <th>...</th>\n",
       "      <th>NM2_discount_pc</th>\n",
       "      <th>NM1_rscore</th>\n",
       "      <th>NM1_discount_pc2</th>\n",
       "      <th>NM1_discount_pc3</th>\n",
       "      <th>NM2_CMT_Score</th>\n",
       "      <th>NM2_CMT_rscore</th>\n",
       "      <th>NM2_CMT_discount_pc</th>\n",
       "      <th>CMT_Score_Bin</th>\n",
       "      <th>NM2_CMT_rscore2</th>\n",
       "      <th>NM2_CMT_discount_pc2</th>\n",
       "    </tr>\n",
       "  </thead>\n",
       "  <tbody>\n",
       "    <tr>\n",
       "      <th>0</th>\n",
       "      <td>10013699</td>\n",
       "      <td>264.6801</td>\n",
       "      <td>4.476129</td>\n",
       "      <td>2021-01-05</td>\n",
       "      <td>2021-01-05</td>\n",
       "      <td>2020-08-19</td>\n",
       "      <td>0.0</td>\n",
       "      <td>998.0</td>\n",
       "      <td>IA</td>\n",
       "      <td>CO</td>\n",
       "      <td>...</td>\n",
       "      <td>47</td>\n",
       "      <td>0.53</td>\n",
       "      <td>47.0</td>\n",
       "      <td>0.00</td>\n",
       "      <td>53.0</td>\n",
       "      <td>0.53</td>\n",
       "      <td>47</td>\n",
       "      <td>(1, 83]</td>\n",
       "      <td>0.53</td>\n",
       "      <td>47.0</td>\n",
       "    </tr>\n",
       "    <tr>\n",
       "      <th>1</th>\n",
       "      <td>10016122</td>\n",
       "      <td>9619.8400</td>\n",
       "      <td>2.726725</td>\n",
       "      <td>2020-12-15</td>\n",
       "      <td>2020-12-15</td>\n",
       "      <td>2020-07-30</td>\n",
       "      <td>29.0</td>\n",
       "      <td>129.0</td>\n",
       "      <td>IA</td>\n",
       "      <td>KS</td>\n",
       "      <td>...</td>\n",
       "      <td>43</td>\n",
       "      <td>0.57</td>\n",
       "      <td>43.0</td>\n",
       "      <td>36.25</td>\n",
       "      <td>198.0</td>\n",
       "      <td>0.64</td>\n",
       "      <td>36</td>\n",
       "      <td>(195, 215]</td>\n",
       "      <td>0.67</td>\n",
       "      <td>33.0</td>\n",
       "    </tr>\n",
       "    <tr>\n",
       "      <th>2</th>\n",
       "      <td>10018353</td>\n",
       "      <td>6455.2721</td>\n",
       "      <td>4.306496</td>\n",
       "      <td>2020-11-07</td>\n",
       "      <td>2020-11-30</td>\n",
       "      <td>2020-07-10</td>\n",
       "      <td>29.0</td>\n",
       "      <td>114.0</td>\n",
       "      <td>EA</td>\n",
       "      <td>NC</td>\n",
       "      <td>...</td>\n",
       "      <td>24</td>\n",
       "      <td>0.76</td>\n",
       "      <td>24.0</td>\n",
       "      <td>36.25</td>\n",
       "      <td>390.0</td>\n",
       "      <td>0.85</td>\n",
       "      <td>15</td>\n",
       "      <td>(369, 394]</td>\n",
       "      <td>0.85</td>\n",
       "      <td>15.0</td>\n",
       "    </tr>\n",
       "    <tr>\n",
       "      <th>3</th>\n",
       "      <td>10019667</td>\n",
       "      <td>3200.1680</td>\n",
       "      <td>4.115618</td>\n",
       "      <td>2020-11-08</td>\n",
       "      <td>2021-02-16</td>\n",
       "      <td>2020-08-28</td>\n",
       "      <td>0.0</td>\n",
       "      <td>998.0</td>\n",
       "      <td>IA</td>\n",
       "      <td>SD</td>\n",
       "      <td>...</td>\n",
       "      <td>28</td>\n",
       "      <td>0.72</td>\n",
       "      <td>28.0</td>\n",
       "      <td>0.00</td>\n",
       "      <td>322.0</td>\n",
       "      <td>0.76</td>\n",
       "      <td>24</td>\n",
       "      <td>(305, 326]</td>\n",
       "      <td>0.76</td>\n",
       "      <td>24.0</td>\n",
       "    </tr>\n",
       "    <tr>\n",
       "      <th>4</th>\n",
       "      <td>10021470</td>\n",
       "      <td>8885.2729</td>\n",
       "      <td>4.157654</td>\n",
       "      <td>2020-12-30</td>\n",
       "      <td>2020-12-30</td>\n",
       "      <td>2020-08-17</td>\n",
       "      <td>21.0</td>\n",
       "      <td>156.0</td>\n",
       "      <td>IA</td>\n",
       "      <td>NJ</td>\n",
       "      <td>...</td>\n",
       "      <td>20</td>\n",
       "      <td>0.79</td>\n",
       "      <td>21.0</td>\n",
       "      <td>26.25</td>\n",
       "      <td>403.0</td>\n",
       "      <td>0.85</td>\n",
       "      <td>15</td>\n",
       "      <td>(394, 424]</td>\n",
       "      <td>0.88</td>\n",
       "      <td>12.0</td>\n",
       "    </tr>\n",
       "  </tbody>\n",
       "</table>\n",
       "<p>5 rows × 38 columns</p>\n",
       "</div>"
      ],
      "text/plain": [
       "   short_user_id  adjusted_distance_km      Rq5a last_trip_date  \\\n",
       "0       10013699              264.6801  4.476129     2021-01-05   \n",
       "1       10016122             9619.8400  2.726725     2020-12-15   \n",
       "2       10018353             6455.2721  4.306496     2020-11-07   \n",
       "3       10019667             3200.1680  4.115618     2020-11-08   \n",
       "4       10021470             8885.2729  4.157654     2020-12-30   \n",
       "\n",
       "  Max_final_score_date Min_data_clctn_start_date  NM1_discount_pc  \\\n",
       "0           2021-01-05                2020-08-19              0.0   \n",
       "1           2020-12-15                2020-07-30             29.0   \n",
       "2           2020-11-30                2020-07-10             29.0   \n",
       "3           2021-02-16                2020-08-28              0.0   \n",
       "4           2020-12-30                2020-08-17             21.0   \n",
       "\n",
       "   NM1_score_qt NM1_channel_cd NM1_rate_state_abbr_nm  ... NM2_discount_pc  \\\n",
       "0         998.0             IA                     CO  ...              47   \n",
       "1         129.0             IA                     KS  ...              43   \n",
       "2         114.0             EA                     NC  ...              24   \n",
       "3         998.0             IA                     SD  ...              28   \n",
       "4         156.0             IA                     NJ  ...              20   \n",
       "\n",
       "  NM1_rscore NM1_discount_pc2  NM1_discount_pc3  NM2_CMT_Score  \\\n",
       "0       0.53             47.0              0.00           53.0   \n",
       "1       0.57             43.0             36.25          198.0   \n",
       "2       0.76             24.0             36.25          390.0   \n",
       "3       0.72             28.0              0.00          322.0   \n",
       "4       0.79             21.0             26.25          403.0   \n",
       "\n",
       "   NM2_CMT_rscore  NM2_CMT_discount_pc  CMT_Score_Bin  NM2_CMT_rscore2  \\\n",
       "0            0.53                   47        (1, 83]             0.53   \n",
       "1            0.64                   36     (195, 215]             0.67   \n",
       "2            0.85                   15     (369, 394]             0.85   \n",
       "3            0.76                   24     (305, 326]             0.76   \n",
       "4            0.85                   15     (394, 424]             0.88   \n",
       "\n",
       "   NM2_CMT_discount_pc2  \n",
       "0                  47.0  \n",
       "1                  33.0  \n",
       "2                  15.0  \n",
       "3                  24.0  \n",
       "4                  12.0  \n",
       "\n",
       "[5 rows x 38 columns]"
      ]
     },
     "execution_count": 98,
     "metadata": {},
     "output_type": "execute_result"
    }
   ],
   "source": [
    "# Calculate NM2 CMT rscore based on new bounds\n",
    "#scoring_data2['NM2_CMT_rscore2']=scoring_data2.NM2_CMT_Score.apply(lambda x: 0.53 if x<=84 else\n",
    "#                                                    0.54 if x<=126 else\n",
    "#                                                    0.57 if x<=154 else\n",
    "#                                                    0.60 if x<=177 else\n",
    "#                                                    0.64 if x<=198 else\n",
    "#                                                    0.67 if x<=218 else\n",
    "#                                                    0.70 if x<=237 else\n",
    "#                                                    0.71 if x<=254 else\n",
    "#                                                    0.72 if x<=272 else\n",
    "#                                                    0.73 if x<=290 else\n",
    "#                                                    0.74 if x<=310 else\n",
    "#                                                    0.76 if x<=330 else\n",
    "#                                                    0.79 if x<=350 else\n",
    "#                                                    0.82 if x<=374 else\n",
    "#                                                    0.85 if x<=400 else\n",
    "#                                                    0.88 if x<=431 else\n",
    "#                                                    0.91 if x<=468 else\n",
    "#                                                    0.94 if x<=520 else\n",
    "#                                                    0.97 if x<=610 else\n",
    "#                                                    1.0)\n",
    "\n",
    "scoring_data2['NM2_CMT_rscore2']=scoring_data2.NM2_CMT_Score.apply(lambda x: 0.53 if x<=83 else\n",
    "                                                    0.54 if x<=124 else\n",
    "                                                    0.57 if x<=152 else\n",
    "                                                    0.60 if x<=174 else\n",
    "                                                    0.64 if x<=195 else\n",
    "                                                    0.67 if x<=215 else\n",
    "                                                    0.70 if x<=234 else\n",
    "                                                    0.71 if x<=251 else\n",
    "                                                    0.72 if x<=268 else\n",
    "                                                    0.73 if x<=285 else\n",
    "                                                    0.74 if x<=305 else\n",
    "                                                    0.76 if x<=326 else\n",
    "                                                    0.79 if x<=345 else\n",
    "                                                    0.82 if x<=369 else\n",
    "                                                    0.85 if x<=394 else\n",
    "                                                    0.88 if x<=424 else\n",
    "                                                    0.91 if x<=462 else\n",
    "                                                    0.94 if x<=513 else\n",
    "                                                    0.97 if x<=602 else\n",
    "                                                    1.0)\n",
    "# Format to be percent discount\n",
    "scoring_data2['NM2_CMT_discount_pc2'] = (1-scoring_data2['NM2_CMT_rscore2'])*100\n",
    "\n",
    "scoring_data2.head()"
   ]
  },
  {
   "cell_type": "code",
   "execution_count": 99,
   "metadata": {},
   "outputs": [
    {
     "name": "stdout",
     "output_type": "stream",
     "text": [
      "AxesSubplot(0.125,0.125;0.775x0.755)\n"
     ]
    },
    {
     "data": {
      "text/plain": [
       "<matplotlib.lines.Line2D at 0x7f4a0134b4e0>"
      ]
     },
     "execution_count": 99,
     "metadata": {},
     "output_type": "execute_result"
    },
    {
     "data": {
      "image/png": "[encoded data removed]",
      "text/plain": [
       "<Figure size 864x576 with 1 Axes>"
      ]
     },
     "metadata": {
      "needs_background": "light"
     },
     "output_type": "display_data"
    }
   ],
   "source": [
    "scoring_data2['NM2_CMT_discount_pc2'] = scoring_data2['NM2_CMT_discount_pc2'].astype(np.int64)\n",
    "fig, ax = plt.subplots(figsize=(12,8))\n",
    "print(scoring_data2['NM2_CMT_discount_pc2'].value_counts(sort=False\n",
    "                                                    ,normalize=True).sort_index(ascending=True).plot(ax=ax\n",
    "                                                                                                     , kind='bar'\n",
    "                                                                                                    ,color='lightblue'))\n",
    "ax.axhline(y=0.05, xmin=0, xmax=1, color='r', linestyle='--', lw=2)"
   ]
  },
  {
   "cell_type": "code",
   "execution_count": 100,
   "metadata": {},
   "outputs": [
    {
     "data": {
      "text/plain": [
       "24.54862878145321"
      ]
     },
     "execution_count": 100,
     "metadata": {},
     "output_type": "execute_result"
    }
   ],
   "source": [
    "scoring_data2.NM2_CMT_discount_pc2.mean()"
   ]
  },
  {
   "cell_type": "code",
   "execution_count": 101,
   "metadata": {},
   "outputs": [
    {
     "data": {
      "text/html": [
       "<div>\n",
       "<style scoped>\n",
       "    .dataframe tbody tr th:only-of-type {\n",
       "        vertical-align: middle;\n",
       "    }\n",
       "\n",
       "    .dataframe tbody tr th {\n",
       "        vertical-align: top;\n",
       "    }\n",
       "\n",
       "    .dataframe thead th {\n",
       "        text-align: right;\n",
       "    }\n",
       "</style>\n",
       "<table border=\"1\" class=\"dataframe\">\n",
       "  <thead>\n",
       "    <tr style=\"text-align: right;\">\n",
       "      <th></th>\n",
       "      <th>policy_nb</th>\n",
       "      <th>ln_telematics_id</th>\n",
       "      <th>active_days</th>\n",
       "      <th>pure_score</th>\n",
       "      <th>avg_ann_adj_KM_pu</th>\n",
       "      <th>Rq5a</th>\n",
       "      <th>mod_6</th>\n",
       "      <th>mod_6_f</th>\n",
       "      <th>Score</th>\n",
       "      <th>NM2_rscore</th>\n",
       "      <th>NM2_discount_pc</th>\n",
       "    </tr>\n",
       "  </thead>\n",
       "  <tbody>\n",
       "    <tr>\n",
       "      <th>0</th>\n",
       "      <td>7701J 056842</td>\n",
       "      <td>803313bf-e264-43c2-b2ec-49c627e6839b</td>\n",
       "      <td>134</td>\n",
       "      <td>166</td>\n",
       "      <td>24659.255992</td>\n",
       "      <td>3.713133</td>\n",
       "      <td>0.031406</td>\n",
       "      <td>0.085546</td>\n",
       "      <td>275.0</td>\n",
       "      <td>0.72</td>\n",
       "      <td>28.0</td>\n",
       "    </tr>\n",
       "    <tr>\n",
       "      <th>1</th>\n",
       "      <td>7701J 057986</td>\n",
       "      <td>ea587dfd-1cfe-4677-a937-dbfc63bb046a</td>\n",
       "      <td>121</td>\n",
       "      <td>200</td>\n",
       "      <td>54159.510175</td>\n",
       "      <td>3.589862</td>\n",
       "      <td>0.038605</td>\n",
       "      <td>0.116454</td>\n",
       "      <td>399.0</td>\n",
       "      <td>0.85</td>\n",
       "      <td>15.0</td>\n",
       "    </tr>\n",
       "    <tr>\n",
       "      <th>2</th>\n",
       "      <td>7701J 039761</td>\n",
       "      <td>9c532e52-439b-46c5-9699-dd0bdb9e3c56</td>\n",
       "      <td>91</td>\n",
       "      <td>117</td>\n",
       "      <td>4812.620446</td>\n",
       "      <td>6.252848</td>\n",
       "      <td>0.031581</td>\n",
       "      <td>0.126670</td>\n",
       "      <td>440.0</td>\n",
       "      <td>0.91</td>\n",
       "      <td>9.0</td>\n",
       "    </tr>\n",
       "    <tr>\n",
       "      <th>3</th>\n",
       "      <td>7701J 055866</td>\n",
       "      <td>b815c3a5-17a0-4180-9919-875bea008152</td>\n",
       "      <td>127</td>\n",
       "      <td>75</td>\n",
       "      <td>3158.192258</td>\n",
       "      <td>4.828008</td>\n",
       "      <td>0.019036</td>\n",
       "      <td>0.054710</td>\n",
       "      <td>152.0</td>\n",
       "      <td>0.57</td>\n",
       "      <td>43.0</td>\n",
       "    </tr>\n",
       "    <tr>\n",
       "      <th>4</th>\n",
       "      <td>7701J 053245</td>\n",
       "      <td>48a9a6b3-f2ef-4f02-9200-d0ee3c1b7fba</td>\n",
       "      <td>152</td>\n",
       "      <td>120</td>\n",
       "      <td>5559.427219</td>\n",
       "      <td>3.743341</td>\n",
       "      <td>0.018122</td>\n",
       "      <td>0.043517</td>\n",
       "      <td>107.0</td>\n",
       "      <td>0.54</td>\n",
       "      <td>46.0</td>\n",
       "    </tr>\n",
       "  </tbody>\n",
       "</table>\n",
       "</div>"
      ],
      "text/plain": [
       "      policy_nb                      ln_telematics_id  active_days  \\\n",
       "0  7701J 056842  803313bf-e264-43c2-b2ec-49c627e6839b          134   \n",
       "1  7701J 057986  ea587dfd-1cfe-4677-a937-dbfc63bb046a          121   \n",
       "2  7701J 039761  9c532e52-439b-46c5-9699-dd0bdb9e3c56           91   \n",
       "3  7701J 055866  b815c3a5-17a0-4180-9919-875bea008152          127   \n",
       "4  7701J 053245  48a9a6b3-f2ef-4f02-9200-d0ee3c1b7fba          152   \n",
       "\n",
       "   pure_score  avg_ann_adj_KM_pu      Rq5a     mod_6   mod_6_f  Score  \\\n",
       "0         166       24659.255992  3.713133  0.031406  0.085546  275.0   \n",
       "1         200       54159.510175  3.589862  0.038605  0.116454  399.0   \n",
       "2         117        4812.620446  6.252848  0.031581  0.126670  440.0   \n",
       "3          75        3158.192258  4.828008  0.019036  0.054710  152.0   \n",
       "4         120        5559.427219  3.743341  0.018122  0.043517  107.0   \n",
       "\n",
       "   NM2_rscore  NM2_discount_pc  \n",
       "0        0.72             28.0  \n",
       "1        0.85             15.0  \n",
       "2        0.91              9.0  \n",
       "3        0.57             43.0  \n",
       "4        0.54             46.0  "
      ]
     },
     "execution_count": 101,
     "metadata": {},
     "output_type": "execute_result"
    }
   ],
   "source": [
    "# There is a column called \"score\" for range 1-995, I want you to use the NM2 discount mapping (original one for NM2) \n",
    "# to create a discount chart. Please add 5% line as well. I expect this will give us 20 bars with 5% equally show up, \n",
    "# since this was LN dataset we used for model development. \n",
    "\n",
    "# Calculate mod6 rscore\n",
    "Mod6['NM2_rscore']=Mod6.Score.apply(lambda x: 0.53 if x<=98 else\n",
    "                                                    0.54 if x<=141 else\n",
    "                                                    0.57 if x<=170 else\n",
    "                                                    0.60 if x<=193 else\n",
    "                                                    0.64 if x<=215 else\n",
    "                                                    0.67 if x<=234 else\n",
    "                                                    0.70 if x<=252 else\n",
    "                                                    0.71 if x<=269 else\n",
    "                                                    0.72 if x<=286 else\n",
    "                                                    0.73 if x<=303 else\n",
    "                                                    0.74 if x<=321 else\n",
    "                                                    0.76 if x<=339 else\n",
    "                                                    0.79 if x<=358 else\n",
    "                                                    0.82 if x<=379 else\n",
    "                                                    0.85 if x<=403 else\n",
    "                                                    0.88 if x<=432 else\n",
    "                                                    0.91 if x<=470 else\n",
    "                                                    0.94 if x<=521 else\n",
    "                                                    0.97 if x<=612 else\n",
    "                                                    1.0)\n",
    "# Format to be percent discount\n",
    "Mod6['NM2_discount_pc'] = (1-Mod6['NM2_rscore'])*100\n",
    "\n",
    "Mod6.head()"
   ]
  },
  {
   "cell_type": "code",
   "execution_count": null,
   "metadata": {},
   "outputs": [],
   "source": [
    "Mod6['NM2_discount_pc'] = Mod6['NM2_discount_pc'].astype(np.int64)\n",
    "fig, ax = plt.subplots(figsize=(12,8))\n",
    "print(Mod6['NM2_discount_pc'].value_counts(sort=False\n",
    "                                           ,normalize=True).sort_index(ascending=True).plot(ax=ax\n",
    "                                                                                            , kind='bar'\n",
    "                                                                                            ,color='lightblue'))\n",
    "ax.axhline(y=0.05, xmin=0, xmax=1, color='r', linestyle='--', lw=2)"
   ]
  },
  {
   "cell_type": "code",
   "execution_count": 103,
   "metadata": {},
   "outputs": [
    {
     "data": {
      "text/plain": [
       "0     0.060739\n",
       "3     0.057121\n",
       "6     0.052001\n",
       "8     0.053716\n",
       "12    0.050178\n",
       "15    0.048463\n",
       "18    0.046908\n",
       "20    0.047310\n",
       "24    0.046211\n",
       "26    0.048543\n",
       "27    0.044764\n",
       "28    0.048892\n",
       "29    0.045300\n",
       "30    0.047417\n",
       "32    0.046399\n",
       "36    0.049428\n",
       "40    0.049589\n",
       "43    0.051894\n",
       "46    0.050446\n",
       "47    0.054681\n",
       "Name: NM2_discount_pc, dtype: float64"
      ]
     },
     "execution_count": 103,
     "metadata": {},
     "output_type": "execute_result"
    }
   ],
   "source": [
    "Mod6['NM2_discount_pc'].value_counts(sort=False,normalize=True).sort_index(ascending=True)"
   ]
  },
  {
   "cell_type": "code",
   "execution_count": 79,
   "metadata": {},
   "outputs": [
    {
     "data": {
      "text/html": [
       "<div>\n",
       "<style scoped>\n",
       "    .dataframe tbody tr th:only-of-type {\n",
       "        vertical-align: middle;\n",
       "    }\n",
       "\n",
       "    .dataframe tbody tr th {\n",
       "        vertical-align: top;\n",
       "    }\n",
       "\n",
       "    .dataframe thead th {\n",
       "        text-align: right;\n",
       "    }\n",
       "</style>\n",
       "<table border=\"1\" class=\"dataframe\">\n",
       "  <thead>\n",
       "    <tr style=\"text-align: right;\">\n",
       "      <th></th>\n",
       "      <th>scoring_days</th>\n",
       "      <th>Exp_Year</th>\n",
       "      <th>avg_ann_adj_KM_pu</th>\n",
       "      <th>Rq5a</th>\n",
       "      <th>lEpr</th>\n",
       "      <th>log_avg_ann_adj_KM_pu</th>\n",
       "    </tr>\n",
       "  </thead>\n",
       "  <tbody>\n",
       "    <tr>\n",
       "      <th>count</th>\n",
       "      <td>14141.000000</td>\n",
       "      <td>14141.000000</td>\n",
       "      <td>14141.000000</td>\n",
       "      <td>14148.000000</td>\n",
       "      <td>14141.000000</td>\n",
       "      <td>14148.000000</td>\n",
       "    </tr>\n",
       "    <tr>\n",
       "      <th>mean</th>\n",
       "      <td>126.740895</td>\n",
       "      <td>0.347235</td>\n",
       "      <td>19780.282207</td>\n",
       "      <td>3.964347</td>\n",
       "      <td>-1.157387</td>\n",
       "      <td>9.505398</td>\n",
       "    </tr>\n",
       "    <tr>\n",
       "      <th>std</th>\n",
       "      <td>36.357128</td>\n",
       "      <td>0.099609</td>\n",
       "      <td>18137.131915</td>\n",
       "      <td>0.825534</td>\n",
       "      <td>0.609293</td>\n",
       "      <td>1.013906</td>\n",
       "    </tr>\n",
       "    <tr>\n",
       "      <th>min</th>\n",
       "      <td>1.000000</td>\n",
       "      <td>0.002740</td>\n",
       "      <td>1.972431</td>\n",
       "      <td>0.850992</td>\n",
       "      <td>-5.899897</td>\n",
       "      <td>0.679267</td>\n",
       "    </tr>\n",
       "    <tr>\n",
       "      <th>25%</th>\n",
       "      <td>121.000000</td>\n",
       "      <td>0.331507</td>\n",
       "      <td>8351.297503</td>\n",
       "      <td>3.412615</td>\n",
       "      <td>-1.104107</td>\n",
       "      <td>9.030288</td>\n",
       "    </tr>\n",
       "    <tr>\n",
       "      <th>50%</th>\n",
       "      <td>136.000000</td>\n",
       "      <td>0.372603</td>\n",
       "      <td>15712.507326</td>\n",
       "      <td>3.958326</td>\n",
       "      <td>-0.987242</td>\n",
       "      <td>9.662457</td>\n",
       "    </tr>\n",
       "    <tr>\n",
       "      <th>75%</th>\n",
       "      <td>141.000000</td>\n",
       "      <td>0.386301</td>\n",
       "      <td>26342.705016</td>\n",
       "      <td>4.497621</td>\n",
       "      <td>-0.951137</td>\n",
       "      <td>10.179998</td>\n",
       "    </tr>\n",
       "    <tr>\n",
       "      <th>max</th>\n",
       "      <td>269.000000</td>\n",
       "      <td>0.736986</td>\n",
       "      <td>393289.223795</td>\n",
       "      <td>8.414237</td>\n",
       "      <td>-0.305186</td>\n",
       "      <td>11.512925</td>\n",
       "    </tr>\n",
       "  </tbody>\n",
       "</table>\n",
       "</div>"
      ],
      "text/plain": [
       "       scoring_days      Exp_Year  avg_ann_adj_KM_pu          Rq5a  \\\n",
       "count  14141.000000  14141.000000       14141.000000  14148.000000   \n",
       "mean     126.740895      0.347235       19780.282207      3.964347   \n",
       "std       36.357128      0.099609       18137.131915      0.825534   \n",
       "min        1.000000      0.002740           1.972431      0.850992   \n",
       "25%      121.000000      0.331507        8351.297503      3.412615   \n",
       "50%      136.000000      0.372603       15712.507326      3.958326   \n",
       "75%      141.000000      0.386301       26342.705016      4.497621   \n",
       "max      269.000000      0.736986      393289.223795      8.414237   \n",
       "\n",
       "               lEpr  log_avg_ann_adj_KM_pu  \n",
       "count  14141.000000           14148.000000  \n",
       "mean      -1.157387               9.505398  \n",
       "std        0.609293               1.013906  \n",
       "min       -5.899897               0.679267  \n",
       "25%       -1.104107               9.030288  \n",
       "50%       -0.987242               9.662457  \n",
       "75%       -0.951137              10.179998  \n",
       "max       -0.305186              11.512925  "
      ]
     },
     "execution_count": 79,
     "metadata": {},
     "output_type": "execute_result"
    }
   ],
   "source": [
    "test = scoring_data2[['scoring_days','Exp_Year','avg_ann_adj_KM_pu','Rq5a','lEpr','log_avg_ann_adj_KM_pu']]\n",
    "test.describe()"
   ]
  },
  {
   "cell_type": "code",
   "execution_count": 91,
   "metadata": {},
   "outputs": [
    {
     "name": "stderr",
     "output_type": "stream",
     "text": [
      "/usr/local/lib/python3.6/site-packages/ipykernel_launcher.py:2: SettingWithCopyWarning: \n",
      "A value is trying to be set on a copy of a slice from a DataFrame.\n",
      "Try using .loc[row_indexer,col_indexer] = value instead\n",
      "\n",
      "See the caveats in the documentation: https://pandas.pydata.org/pandas-docs/stable/user_guide/indexing.html#returning-a-view-versus-a-copy\n",
      "  \n"
     ]
    },
    {
     "data": {
      "text/plain": [
       "(1504, 35)"
      ]
     },
     "execution_count": 91,
     "metadata": {},
     "output_type": "execute_result"
    }
   ],
   "source": [
    "test = scoring_data2.dropna()\n",
    "test['scoring_days'] = test['scoring_days'].astype(np.int64) \n",
    "test2 = test[test['scoring_days']<85]\n",
    "test2.shape"
   ]
  },
  {
   "cell_type": "code",
   "execution_count": 92,
   "metadata": {},
   "outputs": [
    {
     "data": {
      "text/plain": [
       "(1521, 35)"
      ]
     },
     "execution_count": 92,
     "metadata": {},
     "output_type": "execute_result"
    }
   ],
   "source": [
    "test = scoring_data2.dropna()\n",
    "test2 = test[test['Exp_Year']<0.2329]\n",
    "test2.shape"
   ]
  },
  {
   "cell_type": "code",
   "execution_count": 94,
   "metadata": {},
   "outputs": [
    {
     "data": {
      "text/plain": [
       "(3, 35)"
      ]
     },
     "execution_count": 94,
     "metadata": {},
     "output_type": "execute_result"
    }
   ],
   "source": [
    "test = scoring_data2.dropna()\n",
    "test2 = test[(test['avg_ann_adj_KM_pu']<3.85)|(test['avg_ann_adj_KM_pu']>347497.71)]\n",
    "test2.shape"
   ]
  },
  {
   "cell_type": "code",
   "execution_count": 95,
   "metadata": {},
   "outputs": [
    {
     "data": {
      "text/plain": [
       "(5, 35)"
      ]
     },
     "execution_count": 95,
     "metadata": {},
     "output_type": "execute_result"
    }
   ],
   "source": [
    "test = scoring_data2.dropna()\n",
    "test2 = test[(test['Rq5a']<1.0848)|(test['Rq5a']>8.2359)]\n",
    "test2.shape"
   ]
  },
  {
   "cell_type": "code",
   "execution_count": 96,
   "metadata": {},
   "outputs": [
    {
     "data": {
      "text/plain": [
       "(1521, 35)"
      ]
     },
     "execution_count": 96,
     "metadata": {},
     "output_type": "execute_result"
    }
   ],
   "source": [
    "test = scoring_data2.dropna()\n",
    "test2 = test[test['lEpr']<-1.4572]\n",
    "test2.shape"
   ]
  },
  {
   "cell_type": "code",
   "execution_count": 97,
   "metadata": {},
   "outputs": [
    {
     "data": {
      "text/plain": [
       "(1, 35)"
      ]
     },
     "execution_count": 97,
     "metadata": {},
     "output_type": "execute_result"
    }
   ],
   "source": [
    "test = scoring_data2.dropna()\n",
    "test2 = test[test['log_avg_ann_adj_KM_pu']<1.3490]\n",
    "test2.shape"
   ]
  },
  {
   "cell_type": "markdown",
   "metadata": {},
   "source": [
    "### Heartbeat File Quality Checks"
   ]
  },
  {
   "cell_type": "code",
   "execution_count": 94,
   "metadata": {},
   "outputs": [
    {
     "name": "stdout",
     "output_type": "stream",
     "text": [
      "(2722140, 4)\n"
     ]
    },
    {
     "data": {
      "text/html": [
       "<div>\n",
       "<style scoped>\n",
       "    .dataframe tbody tr th:only-of-type {\n",
       "        vertical-align: middle;\n",
       "    }\n",
       "\n",
       "    .dataframe tbody tr th {\n",
       "        vertical-align: top;\n",
       "    }\n",
       "\n",
       "    .dataframe thead th {\n",
       "        text-align: right;\n",
       "    }\n",
       "</style>\n",
       "<table border=\"1\" class=\"dataframe\">\n",
       "  <thead>\n",
       "    <tr style=\"text-align: right;\">\n",
       "      <th></th>\n",
       "      <th>short_user_id</th>\n",
       "      <th>registration_date</th>\n",
       "      <th>Last_request_date</th>\n",
       "      <th>load_date</th>\n",
       "    </tr>\n",
       "  </thead>\n",
       "  <tbody>\n",
       "    <tr>\n",
       "      <th>0</th>\n",
       "      <td>10193404</td>\n",
       "      <td>2020-06-11 18:21:12.236661</td>\n",
       "      <td>2020-06-16 03:04:37.529191</td>\n",
       "      <td>2020-06-13</td>\n",
       "    </tr>\n",
       "    <tr>\n",
       "      <th>1</th>\n",
       "      <td>10276157</td>\n",
       "      <td>2020-06-07 03:06:57.803742</td>\n",
       "      <td>2020-06-16 03:24:17.564080</td>\n",
       "      <td>2020-06-13</td>\n",
       "    </tr>\n",
       "    <tr>\n",
       "      <th>2</th>\n",
       "      <td>11011499</td>\n",
       "      <td>2020-06-13 00:48:52.384329</td>\n",
       "      <td>2020-06-16 02:28:18.040259</td>\n",
       "      <td>2020-06-13</td>\n",
       "    </tr>\n",
       "    <tr>\n",
       "      <th>3</th>\n",
       "      <td>11029700</td>\n",
       "      <td>2020-06-08 16:17:26.167208</td>\n",
       "      <td>2020-06-16 01:29:22.535200</td>\n",
       "      <td>2020-06-13</td>\n",
       "    </tr>\n",
       "    <tr>\n",
       "      <th>4</th>\n",
       "      <td>11059273</td>\n",
       "      <td>2020-01-28 18:31:06.980466</td>\n",
       "      <td>2020-06-16 02:58:42.643974</td>\n",
       "      <td>2020-06-13</td>\n",
       "    </tr>\n",
       "  </tbody>\n",
       "</table>\n",
       "</div>"
      ],
      "text/plain": [
       "   short_user_id           registration_date           Last_request_date  \\\n",
       "0       10193404  2020-06-11 18:21:12.236661  2020-06-16 03:04:37.529191   \n",
       "1       10276157  2020-06-07 03:06:57.803742  2020-06-16 03:24:17.564080   \n",
       "2       11011499  2020-06-13 00:48:52.384329  2020-06-16 02:28:18.040259   \n",
       "3       11029700  2020-06-08 16:17:26.167208  2020-06-16 01:29:22.535200   \n",
       "4       11059273  2020-01-28 18:31:06.980466  2020-06-16 02:58:42.643974   \n",
       "\n",
       "    load_date  \n",
       "0  2020-06-13  \n",
       "1  2020-06-13  \n",
       "2  2020-06-13  \n",
       "3  2020-06-13  \n",
       "4  2020-06-13  "
      ]
     },
     "execution_count": 94,
     "metadata": {},
     "output_type": "execute_result"
    }
   ],
   "source": [
    "# Use Grace's Old Table\n",
    "\n",
    "# Read in previously pulled data up to 10/22/2020:\n",
    "CMT_Heartbeat = pd.read_csv(\"/home/lengj/data/temp/CMT_Heartbeat_102220.csv\", low_memory=False)\n",
    "print(CMT_Heartbeat.shape)\n",
    "CMT_Heartbeat.head()\n",
    "# (2722140, 4)"
   ]
  },
  {
   "cell_type": "code",
   "execution_count": 86,
   "metadata": {},
   "outputs": [
    {
     "name": "stdout",
     "output_type": "stream",
     "text": [
      "(9089669, 7)\n"
     ]
    },
    {
     "data": {
      "text/html": [
       "<div>\n",
       "<style scoped>\n",
       "    .dataframe tbody tr th:only-of-type {\n",
       "        vertical-align: middle;\n",
       "    }\n",
       "\n",
       "    .dataframe tbody tr th {\n",
       "        vertical-align: top;\n",
       "    }\n",
       "\n",
       "    .dataframe thead th {\n",
       "        text-align: right;\n",
       "    }\n",
       "</style>\n",
       "<table border=\"1\" class=\"dataframe\">\n",
       "  <thead>\n",
       "    <tr style=\"text-align: right;\">\n",
       "      <th></th>\n",
       "      <th>short_user_id</th>\n",
       "      <th>email</th>\n",
       "      <th>registration_date</th>\n",
       "      <th>Last_request_date</th>\n",
       "      <th>Last_upload_date</th>\n",
       "      <th>_col5</th>\n",
       "      <th>load_date</th>\n",
       "    </tr>\n",
       "  </thead>\n",
       "  <tbody>\n",
       "    <tr>\n",
       "      <th>0</th>\n",
       "      <td>11059273</td>\n",
       "      <td>gouvrit@gmail.com</td>\n",
       "      <td>2020-01-28 18:31:06.980466</td>\n",
       "      <td>2020-06-09 23:17:21.299678</td>\n",
       "      <td>2020-06-09 23:17:22.000000</td>\n",
       "      <td>2021-03-09</td>\n",
       "      <td>2020-06-07</td>\n",
       "    </tr>\n",
       "    <tr>\n",
       "      <th>1</th>\n",
       "      <td>19902054</td>\n",
       "      <td>metekov.shavkat@gmail.com</td>\n",
       "      <td>2020-06-07 03:34:06.808755</td>\n",
       "      <td>2020-06-09 19:49:44.645677</td>\n",
       "      <td>2020-06-09 19:49:46.000000</td>\n",
       "      <td>2021-03-09</td>\n",
       "      <td>2020-06-07</td>\n",
       "    </tr>\n",
       "    <tr>\n",
       "      <th>2</th>\n",
       "      <td>19936997</td>\n",
       "      <td>wmflis@yahoo.com</td>\n",
       "      <td>2020-06-07 04:30:44.690455</td>\n",
       "      <td>2020-06-10 00:15:24.039893</td>\n",
       "      <td>2020-06-10 00:15:25.000000</td>\n",
       "      <td>2021-03-09</td>\n",
       "      <td>2020-06-07</td>\n",
       "    </tr>\n",
       "    <tr>\n",
       "      <th>3</th>\n",
       "      <td>22785521</td>\n",
       "      <td>calval@nationwide.com</td>\n",
       "      <td>2019-05-17 17:15:58.609290</td>\n",
       "      <td>2020-06-09 21:46:55.948165</td>\n",
       "      <td>2020-06-09 21:57:26.000000</td>\n",
       "      <td>2021-03-09</td>\n",
       "      <td>2020-06-07</td>\n",
       "    </tr>\n",
       "    <tr>\n",
       "      <th>4</th>\n",
       "      <td>27185796</td>\n",
       "      <td>eagosto_jr@yahoo.com</td>\n",
       "      <td>2020-06-06 18:26:47.869630</td>\n",
       "      <td>2020-06-10 00:04:36.093867</td>\n",
       "      <td>2020-06-10 00:09:31.000000</td>\n",
       "      <td>2021-03-09</td>\n",
       "      <td>2020-06-07</td>\n",
       "    </tr>\n",
       "  </tbody>\n",
       "</table>\n",
       "</div>"
      ],
      "text/plain": [
       "   short_user_id                      email           registration_date  \\\n",
       "0       11059273          gouvrit@gmail.com  2020-01-28 18:31:06.980466   \n",
       "1       19902054  metekov.shavkat@gmail.com  2020-06-07 03:34:06.808755   \n",
       "2       19936997           wmflis@yahoo.com  2020-06-07 04:30:44.690455   \n",
       "3       22785521      calval@nationwide.com  2019-05-17 17:15:58.609290   \n",
       "4       27185796       eagosto_jr@yahoo.com  2020-06-06 18:26:47.869630   \n",
       "\n",
       "            Last_request_date            Last_upload_date       _col5  \\\n",
       "0  2020-06-09 23:17:21.299678  2020-06-09 23:17:22.000000  2021-03-09   \n",
       "1  2020-06-09 19:49:44.645677  2020-06-09 19:49:46.000000  2021-03-09   \n",
       "2  2020-06-10 00:15:24.039893  2020-06-10 00:15:25.000000  2021-03-09   \n",
       "3  2020-06-09 21:46:55.948165  2020-06-09 21:57:26.000000  2021-03-09   \n",
       "4  2020-06-10 00:04:36.093867  2020-06-10 00:09:31.000000  2021-03-09   \n",
       "\n",
       "    load_date  \n",
       "0  2020-06-07  \n",
       "1  2020-06-07  \n",
       "2  2020-06-07  \n",
       "3  2020-06-07  \n",
       "4  2020-06-07  "
      ]
     },
     "execution_count": 86,
     "metadata": {},
     "output_type": "execute_result"
    }
   ],
   "source": [
    "# Read in New Table\n",
    "\n",
    "# Read in Heartbeat data \n",
    "Heartbeat_After = pd.read_csv(\"Heartbeat_After_3092021.csv\", low_memory = False)\n",
    "\n",
    "# Show head\n",
    "print(Heartbeat_After.shape)\n",
    "Heartbeat_After.head()"
   ]
  },
  {
   "cell_type": "code",
   "execution_count": 89,
   "metadata": {},
   "outputs": [
    {
     "name": "stdout",
     "output_type": "stream",
     "text": [
      "(2722140, 4)\n"
     ]
    },
    {
     "data": {
      "text/plain": [
       "False    2722140\n",
       "Name: load_date, dtype: int64"
      ]
     },
     "execution_count": 89,
     "metadata": {},
     "output_type": "execute_result"
    }
   ],
   "source": [
    "# Merge new with old heartbeat\n",
    "\n",
    "# First only select needed variables\n",
    "Heartbeat_After = Heartbeat_After[['short_user_id','registration_date','Last_request_date','load_date']]\n",
    "\n",
    "# Merge \n",
    "Heartbeat_Missing = pd.merge(CMT_Heartbeat, Heartbeat_After, on=('short_user_id','registration_date'\n",
    "                                                                 ,'Last_request_date','load_date'), how='left')\n",
    "print(Heartbeat_Missing.shape)\n",
    "Heartbeat_Missing.head()\n",
    "Heartbeat_Missing['load_date'].isna().value_counts()"
   ]
  },
  {
   "cell_type": "code",
   "execution_count": 90,
   "metadata": {},
   "outputs": [
    {
     "data": {
      "text/plain": [
       "2019-06-27 21:23:02.093767    239\n",
       "2019-06-27 21:25:00.050777    266\n",
       "2019-07-06 17:11:41.184579    266\n",
       "2019-07-11 19:26:08.959605    266\n",
       "2019-07-29 15:03:34.916057    266\n",
       "                             ... \n",
       "2021-03-09 06:46:06.121557      1\n",
       "2021-03-09 06:46:06.555323      1\n",
       "2021-03-09 06:46:08.383255      1\n",
       "2021-03-09 06:46:08.419177      1\n",
       "2021-03-09 06:46:10.199037      1\n",
       "Name: Last_request_date, Length: 3517902, dtype: int64"
      ]
     },
     "execution_count": 90,
     "metadata": {},
     "output_type": "execute_result"
    }
   ],
   "source": [
    "Heartbeat_After.Last_request_date.value_counts().sort_index()"
   ]
  },
  {
   "cell_type": "code",
   "execution_count": 91,
   "metadata": {},
   "outputs": [
    {
     "data": {
      "text/plain": [
       "2019-06-27 21:23:02.093767    129\n",
       "2019-06-27 21:25:00.050777    129\n",
       "2019-07-06 17:11:41.184579    129\n",
       "2019-07-11 19:26:08.959605    129\n",
       "2019-07-29 15:03:34.916057    129\n",
       "                             ... \n",
       "2020-10-22 05:53:46.609533      1\n",
       "2020-10-22 05:53:50.135398      1\n",
       "2020-10-22 05:53:50.227868      1\n",
       "2020-10-22 05:53:51.318522      1\n",
       "2020-10-22 05:53:55.674009      1\n",
       "Name: Last_request_date, Length: 978548, dtype: int64"
      ]
     },
     "execution_count": 91,
     "metadata": {},
     "output_type": "execute_result"
    }
   ],
   "source": [
    "CMT_Heartbeat.Last_request_date.value_counts().sort_index()"
   ]
  },
  {
   "cell_type": "code",
   "execution_count": 92,
   "metadata": {},
   "outputs": [
    {
     "name": "stdout",
     "output_type": "stream",
     "text": [
      "(1489015, 4)\n"
     ]
    },
    {
     "data": {
      "text/html": [
       "<div>\n",
       "<style scoped>\n",
       "    .dataframe tbody tr th:only-of-type {\n",
       "        vertical-align: middle;\n",
       "    }\n",
       "\n",
       "    .dataframe tbody tr th {\n",
       "        vertical-align: top;\n",
       "    }\n",
       "\n",
       "    .dataframe thead th {\n",
       "        text-align: right;\n",
       "    }\n",
       "</style>\n",
       "<table border=\"1\" class=\"dataframe\">\n",
       "  <thead>\n",
       "    <tr style=\"text-align: right;\">\n",
       "      <th></th>\n",
       "      <th>short_user_id</th>\n",
       "      <th>registration_date</th>\n",
       "      <th>Last_request_date</th>\n",
       "      <th>load_date</th>\n",
       "    </tr>\n",
       "  </thead>\n",
       "  <tbody>\n",
       "    <tr>\n",
       "      <th>0</th>\n",
       "      <td>11059273</td>\n",
       "      <td>2020-01-28 18:31:06.980466</td>\n",
       "      <td>2020-06-09 23:17:21.299678</td>\n",
       "      <td>2020-06-07</td>\n",
       "    </tr>\n",
       "    <tr>\n",
       "      <th>1</th>\n",
       "      <td>19902054</td>\n",
       "      <td>2020-06-07 03:34:06.808755</td>\n",
       "      <td>2020-06-09 19:49:44.645677</td>\n",
       "      <td>2020-06-07</td>\n",
       "    </tr>\n",
       "    <tr>\n",
       "      <th>2</th>\n",
       "      <td>19936997</td>\n",
       "      <td>2020-06-07 04:30:44.690455</td>\n",
       "      <td>2020-06-10 00:15:24.039893</td>\n",
       "      <td>2020-06-07</td>\n",
       "    </tr>\n",
       "    <tr>\n",
       "      <th>3</th>\n",
       "      <td>22785521</td>\n",
       "      <td>2019-05-17 17:15:58.609290</td>\n",
       "      <td>2020-06-09 21:46:55.948165</td>\n",
       "      <td>2020-06-07</td>\n",
       "    </tr>\n",
       "    <tr>\n",
       "      <th>4</th>\n",
       "      <td>27185796</td>\n",
       "      <td>2020-06-06 18:26:47.869630</td>\n",
       "      <td>2020-06-10 00:04:36.093867</td>\n",
       "      <td>2020-06-07</td>\n",
       "    </tr>\n",
       "  </tbody>\n",
       "</table>\n",
       "</div>"
      ],
      "text/plain": [
       "   short_user_id           registration_date           Last_request_date  \\\n",
       "0       11059273  2020-01-28 18:31:06.980466  2020-06-09 23:17:21.299678   \n",
       "1       19902054  2020-06-07 03:34:06.808755  2020-06-09 19:49:44.645677   \n",
       "2       19936997  2020-06-07 04:30:44.690455  2020-06-10 00:15:24.039893   \n",
       "3       22785521  2019-05-17 17:15:58.609290  2020-06-09 21:46:55.948165   \n",
       "4       27185796  2020-06-06 18:26:47.869630  2020-06-10 00:04:36.093867   \n",
       "\n",
       "    load_date  \n",
       "0  2020-06-07  \n",
       "1  2020-06-07  \n",
       "2  2020-06-07  \n",
       "3  2020-06-07  \n",
       "4  2020-06-07  "
      ]
     },
     "execution_count": 92,
     "metadata": {},
     "output_type": "execute_result"
    }
   ],
   "source": [
    "# Filter Heartbeat_After by Grace's data max Last_request_date\n",
    "Heartbeat_Filter = Heartbeat_After[Heartbeat_After['Last_request_date']<'2020-10-23']\n",
    "print(Heartbeat_Filter.shape)\n",
    "Heartbeat_Filter.head()\n",
    "\n",
    "# Grace File = 2,722,140\n",
    "# Mine =       1,489,015"
   ]
  },
  {
   "cell_type": "code",
   "execution_count": 93,
   "metadata": {},
   "outputs": [
    {
     "data": {
      "text/plain": [
       "2019-06-27 21:23:02.093767    239\n",
       "2019-06-27 21:25:00.050777    266\n",
       "2019-07-06 17:11:41.184579    266\n",
       "2019-07-11 19:26:08.959605    266\n",
       "2019-07-29 15:03:34.916057    266\n",
       "                             ... \n",
       "2020-10-22 23:59:37.886627      1\n",
       "2020-10-22 23:59:39.465728      1\n",
       "2020-10-22 23:59:50.203601      1\n",
       "2020-10-22 23:59:56.374459      1\n",
       "2020-10-22 23:59:56.430109      1\n",
       "Name: Last_request_date, Length: 983394, dtype: int64"
      ]
     },
     "execution_count": 93,
     "metadata": {},
     "output_type": "execute_result"
    }
   ],
   "source": [
    "Heartbeat_Filter.Last_request_date.value_counts().sort_index()"
   ]
  },
  {
   "cell_type": "code",
   "execution_count": 101,
   "metadata": {},
   "outputs": [],
   "source": [
    "merged = Heartbeat_Filter.merge(CMT_Heartbeat, how='left', indicator=True)"
   ]
  },
  {
   "cell_type": "code",
   "execution_count": 102,
   "metadata": {},
   "outputs": [
    {
     "data": {
      "text/html": [
       "<div>\n",
       "<style scoped>\n",
       "    .dataframe tbody tr th:only-of-type {\n",
       "        vertical-align: middle;\n",
       "    }\n",
       "\n",
       "    .dataframe tbody tr th {\n",
       "        vertical-align: top;\n",
       "    }\n",
       "\n",
       "    .dataframe thead th {\n",
       "        text-align: right;\n",
       "    }\n",
       "</style>\n",
       "<table border=\"1\" class=\"dataframe\">\n",
       "  <thead>\n",
       "    <tr style=\"text-align: right;\">\n",
       "      <th></th>\n",
       "      <th>short_user_id</th>\n",
       "      <th>registration_date</th>\n",
       "      <th>Last_request_date</th>\n",
       "      <th>load_date</th>\n",
       "      <th>_merge</th>\n",
       "    </tr>\n",
       "  </thead>\n",
       "  <tbody>\n",
       "    <tr>\n",
       "      <th>2369</th>\n",
       "      <td>10085463</td>\n",
       "      <td>2020-09-14 01:11:26.209937</td>\n",
       "      <td>2020-10-14 13:38:19.939487</td>\n",
       "      <td>2021-02-20</td>\n",
       "      <td>left_only</td>\n",
       "    </tr>\n",
       "    <tr>\n",
       "      <th>2370</th>\n",
       "      <td>10270126</td>\n",
       "      <td>2020-09-01 20:19:22.645516</td>\n",
       "      <td>2020-10-04 21:09:40.301385</td>\n",
       "      <td>2021-02-20</td>\n",
       "      <td>left_only</td>\n",
       "    </tr>\n",
       "    <tr>\n",
       "      <th>2371</th>\n",
       "      <td>10333741</td>\n",
       "      <td>2020-07-07 18:30:53.036177</td>\n",
       "      <td>2020-07-31 01:07:23.069323</td>\n",
       "      <td>2021-02-20</td>\n",
       "      <td>left_only</td>\n",
       "    </tr>\n",
       "    <tr>\n",
       "      <th>2372</th>\n",
       "      <td>10372294</td>\n",
       "      <td>2020-08-07 16:13:39.105364</td>\n",
       "      <td>2020-09-13 16:42:35.170287</td>\n",
       "      <td>2021-02-20</td>\n",
       "      <td>left_only</td>\n",
       "    </tr>\n",
       "    <tr>\n",
       "      <th>2373</th>\n",
       "      <td>10437819</td>\n",
       "      <td>2020-06-22 20:21:42.851700</td>\n",
       "      <td>2020-09-28 18:33:53.177752</td>\n",
       "      <td>2021-02-20</td>\n",
       "      <td>left_only</td>\n",
       "    </tr>\n",
       "    <tr>\n",
       "      <th>...</th>\n",
       "      <td>...</td>\n",
       "      <td>...</td>\n",
       "      <td>...</td>\n",
       "      <td>...</td>\n",
       "      <td>...</td>\n",
       "    </tr>\n",
       "    <tr>\n",
       "      <th>1489010</th>\n",
       "      <td>99569790</td>\n",
       "      <td>2020-09-23 18:01:30.121392</td>\n",
       "      <td>2020-10-03 19:45:02.134436</td>\n",
       "      <td>2020-11-15</td>\n",
       "      <td>left_only</td>\n",
       "    </tr>\n",
       "    <tr>\n",
       "      <th>1489011</th>\n",
       "      <td>99609303</td>\n",
       "      <td>2020-09-23 20:36:15.768624</td>\n",
       "      <td>2020-10-06 20:31:58.022165</td>\n",
       "      <td>2020-11-15</td>\n",
       "      <td>left_only</td>\n",
       "    </tr>\n",
       "    <tr>\n",
       "      <th>1489012</th>\n",
       "      <td>99733108</td>\n",
       "      <td>2020-08-09 15:49:01.256777</td>\n",
       "      <td>2020-09-23 16:22:20.713514</td>\n",
       "      <td>2020-11-15</td>\n",
       "      <td>left_only</td>\n",
       "    </tr>\n",
       "    <tr>\n",
       "      <th>1489013</th>\n",
       "      <td>99825844</td>\n",
       "      <td>2020-08-07 00:08:14.398922</td>\n",
       "      <td>2020-08-07 00:08:15.305310</td>\n",
       "      <td>2020-11-15</td>\n",
       "      <td>left_only</td>\n",
       "    </tr>\n",
       "    <tr>\n",
       "      <th>1489014</th>\n",
       "      <td>99894305</td>\n",
       "      <td>2020-10-15 16:36:08.109218</td>\n",
       "      <td>2020-10-20 22:39:58.283102</td>\n",
       "      <td>2020-11-15</td>\n",
       "      <td>left_only</td>\n",
       "    </tr>\n",
       "  </tbody>\n",
       "</table>\n",
       "<p>226050 rows × 5 columns</p>\n",
       "</div>"
      ],
      "text/plain": [
       "         short_user_id           registration_date  \\\n",
       "2369          10085463  2020-09-14 01:11:26.209937   \n",
       "2370          10270126  2020-09-01 20:19:22.645516   \n",
       "2371          10333741  2020-07-07 18:30:53.036177   \n",
       "2372          10372294  2020-08-07 16:13:39.105364   \n",
       "2373          10437819  2020-06-22 20:21:42.851700   \n",
       "...                ...                         ...   \n",
       "1489010       99569790  2020-09-23 18:01:30.121392   \n",
       "1489011       99609303  2020-09-23 20:36:15.768624   \n",
       "1489012       99733108  2020-08-09 15:49:01.256777   \n",
       "1489013       99825844  2020-08-07 00:08:14.398922   \n",
       "1489014       99894305  2020-10-15 16:36:08.109218   \n",
       "\n",
       "                  Last_request_date   load_date     _merge  \n",
       "2369     2020-10-14 13:38:19.939487  2021-02-20  left_only  \n",
       "2370     2020-10-04 21:09:40.301385  2021-02-20  left_only  \n",
       "2371     2020-07-31 01:07:23.069323  2021-02-20  left_only  \n",
       "2372     2020-09-13 16:42:35.170287  2021-02-20  left_only  \n",
       "2373     2020-09-28 18:33:53.177752  2021-02-20  left_only  \n",
       "...                             ...         ...        ...  \n",
       "1489010  2020-10-03 19:45:02.134436  2020-11-15  left_only  \n",
       "1489011  2020-10-06 20:31:58.022165  2020-11-15  left_only  \n",
       "1489012  2020-09-23 16:22:20.713514  2020-11-15  left_only  \n",
       "1489013  2020-08-07 00:08:15.305310  2020-11-15  left_only  \n",
       "1489014  2020-10-20 22:39:58.283102  2020-11-15  left_only  \n",
       "\n",
       "[226050 rows x 5 columns]"
      ]
     },
     "execution_count": 102,
     "metadata": {},
     "output_type": "execute_result"
    }
   ],
   "source": [
    "merged[merged['_merge']=='left_only']\n",
    "# We have 1,459,175 with no match \n",
    "# 226,050 of items in my Heartbeat are not in Grace's"
   ]
  },
  {
   "cell_type": "code",
   "execution_count": 107,
   "metadata": {},
   "outputs": [
    {
     "data": {
      "text/html": [
       "<div>\n",
       "<style scoped>\n",
       "    .dataframe tbody tr th:only-of-type {\n",
       "        vertical-align: middle;\n",
       "    }\n",
       "\n",
       "    .dataframe tbody tr th {\n",
       "        vertical-align: top;\n",
       "    }\n",
       "\n",
       "    .dataframe thead th {\n",
       "        text-align: right;\n",
       "    }\n",
       "</style>\n",
       "<table border=\"1\" class=\"dataframe\">\n",
       "  <thead>\n",
       "    <tr style=\"text-align: right;\">\n",
       "      <th></th>\n",
       "      <th>short_user_id</th>\n",
       "      <th>registration_date</th>\n",
       "      <th>Last_request_date</th>\n",
       "      <th>load_date</th>\n",
       "      <th>_merge</th>\n",
       "    </tr>\n",
       "  </thead>\n",
       "  <tbody>\n",
       "    <tr>\n",
       "      <th>0</th>\n",
       "      <td>11059273</td>\n",
       "      <td>2020-01-28 18:31:06.980466</td>\n",
       "      <td>2020-06-09 23:17:21.299678</td>\n",
       "      <td>2020-06-07</td>\n",
       "      <td>both</td>\n",
       "    </tr>\n",
       "    <tr>\n",
       "      <th>1</th>\n",
       "      <td>19902054</td>\n",
       "      <td>2020-06-07 03:34:06.808755</td>\n",
       "      <td>2020-06-09 19:49:44.645677</td>\n",
       "      <td>2020-06-07</td>\n",
       "      <td>both</td>\n",
       "    </tr>\n",
       "    <tr>\n",
       "      <th>2</th>\n",
       "      <td>19936997</td>\n",
       "      <td>2020-06-07 04:30:44.690455</td>\n",
       "      <td>2020-06-10 00:15:24.039893</td>\n",
       "      <td>2020-06-07</td>\n",
       "      <td>both</td>\n",
       "    </tr>\n",
       "    <tr>\n",
       "      <th>3</th>\n",
       "      <td>22785521</td>\n",
       "      <td>2019-05-17 17:15:58.609290</td>\n",
       "      <td>2020-06-09 21:46:55.948165</td>\n",
       "      <td>2020-06-07</td>\n",
       "      <td>both</td>\n",
       "    </tr>\n",
       "    <tr>\n",
       "      <th>4</th>\n",
       "      <td>27185796</td>\n",
       "      <td>2020-06-06 18:26:47.869630</td>\n",
       "      <td>2020-06-10 00:04:36.093867</td>\n",
       "      <td>2020-06-07</td>\n",
       "      <td>both</td>\n",
       "    </tr>\n",
       "    <tr>\n",
       "      <th>...</th>\n",
       "      <td>...</td>\n",
       "      <td>...</td>\n",
       "      <td>...</td>\n",
       "      <td>...</td>\n",
       "      <td>...</td>\n",
       "    </tr>\n",
       "    <tr>\n",
       "      <th>1488603</th>\n",
       "      <td>99968455</td>\n",
       "      <td>2020-08-21 15:08:40.341597</td>\n",
       "      <td>2020-10-08 05:36:30.695481</td>\n",
       "      <td>2020-10-07</td>\n",
       "      <td>both</td>\n",
       "    </tr>\n",
       "    <tr>\n",
       "      <th>1488604</th>\n",
       "      <td>99970378</td>\n",
       "      <td>2020-06-13 15:58:42.139760</td>\n",
       "      <td>2020-10-07 21:42:24.308213</td>\n",
       "      <td>2020-10-07</td>\n",
       "      <td>both</td>\n",
       "    </tr>\n",
       "    <tr>\n",
       "      <th>1488605</th>\n",
       "      <td>99971711</td>\n",
       "      <td>2020-10-02 15:55:40.045809</td>\n",
       "      <td>2020-10-08 04:27:30.649367</td>\n",
       "      <td>2020-10-07</td>\n",
       "      <td>both</td>\n",
       "    </tr>\n",
       "    <tr>\n",
       "      <th>1488606</th>\n",
       "      <td>99991218</td>\n",
       "      <td>2020-07-27 20:47:06.995193</td>\n",
       "      <td>2020-10-07 23:38:15.037896</td>\n",
       "      <td>2020-10-07</td>\n",
       "      <td>both</td>\n",
       "    </tr>\n",
       "    <tr>\n",
       "      <th>1488607</th>\n",
       "      <td>99996432</td>\n",
       "      <td>2020-08-18 09:42:32.081624</td>\n",
       "      <td>2020-10-08 01:55:18.175971</td>\n",
       "      <td>2020-10-07</td>\n",
       "      <td>both</td>\n",
       "    </tr>\n",
       "  </tbody>\n",
       "</table>\n",
       "<p>1262965 rows × 5 columns</p>\n",
       "</div>"
      ],
      "text/plain": [
       "         short_user_id           registration_date  \\\n",
       "0             11059273  2020-01-28 18:31:06.980466   \n",
       "1             19902054  2020-06-07 03:34:06.808755   \n",
       "2             19936997  2020-06-07 04:30:44.690455   \n",
       "3             22785521  2019-05-17 17:15:58.609290   \n",
       "4             27185796  2020-06-06 18:26:47.869630   \n",
       "...                ...                         ...   \n",
       "1488603       99968455  2020-08-21 15:08:40.341597   \n",
       "1488604       99970378  2020-06-13 15:58:42.139760   \n",
       "1488605       99971711  2020-10-02 15:55:40.045809   \n",
       "1488606       99991218  2020-07-27 20:47:06.995193   \n",
       "1488607       99996432  2020-08-18 09:42:32.081624   \n",
       "\n",
       "                  Last_request_date   load_date _merge  \n",
       "0        2020-06-09 23:17:21.299678  2020-06-07   both  \n",
       "1        2020-06-09 19:49:44.645677  2020-06-07   both  \n",
       "2        2020-06-10 00:15:24.039893  2020-06-07   both  \n",
       "3        2020-06-09 21:46:55.948165  2020-06-07   both  \n",
       "4        2020-06-10 00:04:36.093867  2020-06-07   both  \n",
       "...                             ...         ...    ...  \n",
       "1488603  2020-10-08 05:36:30.695481  2020-10-07   both  \n",
       "1488604  2020-10-07 21:42:24.308213  2020-10-07   both  \n",
       "1488605  2020-10-08 04:27:30.649367  2020-10-07   both  \n",
       "1488606  2020-10-07 23:38:15.037896  2020-10-07   both  \n",
       "1488607  2020-10-08 01:55:18.175971  2020-10-07   both  \n",
       "\n",
       "[1262965 rows x 5 columns]"
      ]
     },
     "execution_count": 107,
     "metadata": {},
     "output_type": "execute_result"
    }
   ],
   "source": [
    "merged[merged['_merge']=='both']\n",
    "# 1,262,965 that have a match "
   ]
  },
  {
   "cell_type": "code",
   "execution_count": 108,
   "metadata": {},
   "outputs": [
    {
     "name": "stdout",
     "output_type": "stream",
     "text": [
      "(2722140, 5)\n"
     ]
    },
    {
     "data": {
      "text/html": [
       "<div>\n",
       "<style scoped>\n",
       "    .dataframe tbody tr th:only-of-type {\n",
       "        vertical-align: middle;\n",
       "    }\n",
       "\n",
       "    .dataframe tbody tr th {\n",
       "        vertical-align: top;\n",
       "    }\n",
       "\n",
       "    .dataframe thead th {\n",
       "        text-align: right;\n",
       "    }\n",
       "</style>\n",
       "<table border=\"1\" class=\"dataframe\">\n",
       "  <thead>\n",
       "    <tr style=\"text-align: right;\">\n",
       "      <th></th>\n",
       "      <th>short_user_id</th>\n",
       "      <th>registration_date</th>\n",
       "      <th>Last_request_date</th>\n",
       "      <th>load_date</th>\n",
       "      <th>_merge</th>\n",
       "    </tr>\n",
       "  </thead>\n",
       "  <tbody>\n",
       "    <tr>\n",
       "      <th>0</th>\n",
       "      <td>10193404</td>\n",
       "      <td>2020-06-11 18:21:12.236661</td>\n",
       "      <td>2020-06-16 03:04:37.529191</td>\n",
       "      <td>2020-06-13</td>\n",
       "      <td>both</td>\n",
       "    </tr>\n",
       "    <tr>\n",
       "      <th>1</th>\n",
       "      <td>10276157</td>\n",
       "      <td>2020-06-07 03:06:57.803742</td>\n",
       "      <td>2020-06-16 03:24:17.564080</td>\n",
       "      <td>2020-06-13</td>\n",
       "      <td>both</td>\n",
       "    </tr>\n",
       "    <tr>\n",
       "      <th>2</th>\n",
       "      <td>11011499</td>\n",
       "      <td>2020-06-13 00:48:52.384329</td>\n",
       "      <td>2020-06-16 02:28:18.040259</td>\n",
       "      <td>2020-06-13</td>\n",
       "      <td>both</td>\n",
       "    </tr>\n",
       "    <tr>\n",
       "      <th>3</th>\n",
       "      <td>11029700</td>\n",
       "      <td>2020-06-08 16:17:26.167208</td>\n",
       "      <td>2020-06-16 01:29:22.535200</td>\n",
       "      <td>2020-06-13</td>\n",
       "      <td>both</td>\n",
       "    </tr>\n",
       "    <tr>\n",
       "      <th>4</th>\n",
       "      <td>11059273</td>\n",
       "      <td>2020-01-28 18:31:06.980466</td>\n",
       "      <td>2020-06-16 02:58:42.643974</td>\n",
       "      <td>2020-06-13</td>\n",
       "      <td>both</td>\n",
       "    </tr>\n",
       "  </tbody>\n",
       "</table>\n",
       "</div>"
      ],
      "text/plain": [
       "   short_user_id           registration_date           Last_request_date  \\\n",
       "0       10193404  2020-06-11 18:21:12.236661  2020-06-16 03:04:37.529191   \n",
       "1       10276157  2020-06-07 03:06:57.803742  2020-06-16 03:24:17.564080   \n",
       "2       11011499  2020-06-13 00:48:52.384329  2020-06-16 02:28:18.040259   \n",
       "3       11029700  2020-06-08 16:17:26.167208  2020-06-16 01:29:22.535200   \n",
       "4       11059273  2020-01-28 18:31:06.980466  2020-06-16 02:58:42.643974   \n",
       "\n",
       "    load_date _merge  \n",
       "0  2020-06-13   both  \n",
       "1  2020-06-13   both  \n",
       "2  2020-06-13   both  \n",
       "3  2020-06-13   both  \n",
       "4  2020-06-13   both  "
      ]
     },
     "execution_count": 108,
     "metadata": {},
     "output_type": "execute_result"
    }
   ],
   "source": [
    "notmissing = merged[merged['_merge']=='both']\n",
    "notmissing = notmissing[['short_user_id','registration_date','Last_request_date','load_date']]\n",
    "CMT_Heartbeat_Missing = pd.merge(CMT_Heartbeat, notmissing, how='outer', indicator=True)\n",
    "print(CMT_Heartbeat_Missing.shape)\n",
    "CMT_Heartbeat_Missing.head()"
   ]
  },
  {
   "cell_type": "code",
   "execution_count": 115,
   "metadata": {},
   "outputs": [
    {
     "data": {
      "text/html": [
       "<div>\n",
       "<style scoped>\n",
       "    .dataframe tbody tr th:only-of-type {\n",
       "        vertical-align: middle;\n",
       "    }\n",
       "\n",
       "    .dataframe tbody tr th {\n",
       "        vertical-align: top;\n",
       "    }\n",
       "\n",
       "    .dataframe thead th {\n",
       "        text-align: right;\n",
       "    }\n",
       "</style>\n",
       "<table border=\"1\" class=\"dataframe\">\n",
       "  <thead>\n",
       "    <tr style=\"text-align: right;\">\n",
       "      <th></th>\n",
       "      <th>short_user_id</th>\n",
       "      <th>registration_date</th>\n",
       "      <th>Last_request_date</th>\n",
       "      <th>load_date</th>\n",
       "      <th>_merge</th>\n",
       "    </tr>\n",
       "  </thead>\n",
       "  <tbody>\n",
       "    <tr>\n",
       "      <th>592</th>\n",
       "      <td>10005257</td>\n",
       "      <td>NaN</td>\n",
       "      <td>NaN</td>\n",
       "      <td>2020-06-30</td>\n",
       "      <td>left_only</td>\n",
       "    </tr>\n",
       "    <tr>\n",
       "      <th>593</th>\n",
       "      <td>10012488</td>\n",
       "      <td>NaN</td>\n",
       "      <td>NaN</td>\n",
       "      <td>2020-06-30</td>\n",
       "      <td>left_only</td>\n",
       "    </tr>\n",
       "    <tr>\n",
       "      <th>594</th>\n",
       "      <td>10012582</td>\n",
       "      <td>NaN</td>\n",
       "      <td>NaN</td>\n",
       "      <td>2020-06-30</td>\n",
       "      <td>left_only</td>\n",
       "    </tr>\n",
       "    <tr>\n",
       "      <th>595</th>\n",
       "      <td>10017832</td>\n",
       "      <td>NaN</td>\n",
       "      <td>NaN</td>\n",
       "      <td>2020-06-30</td>\n",
       "      <td>left_only</td>\n",
       "    </tr>\n",
       "    <tr>\n",
       "      <th>596</th>\n",
       "      <td>10021571</td>\n",
       "      <td>NaN</td>\n",
       "      <td>NaN</td>\n",
       "      <td>2020-06-30</td>\n",
       "      <td>left_only</td>\n",
       "    </tr>\n",
       "    <tr>\n",
       "      <th>...</th>\n",
       "      <td>...</td>\n",
       "      <td>...</td>\n",
       "      <td>...</td>\n",
       "      <td>...</td>\n",
       "      <td>...</td>\n",
       "    </tr>\n",
       "    <tr>\n",
       "      <th>2722133</th>\n",
       "      <td>99976911</td>\n",
       "      <td>NaN</td>\n",
       "      <td>NaN</td>\n",
       "      <td>2020-09-05</td>\n",
       "      <td>left_only</td>\n",
       "    </tr>\n",
       "    <tr>\n",
       "      <th>2722134</th>\n",
       "      <td>99985188</td>\n",
       "      <td>NaN</td>\n",
       "      <td>NaN</td>\n",
       "      <td>2020-09-05</td>\n",
       "      <td>left_only</td>\n",
       "    </tr>\n",
       "    <tr>\n",
       "      <th>2722135</th>\n",
       "      <td>99985523</td>\n",
       "      <td>NaN</td>\n",
       "      <td>NaN</td>\n",
       "      <td>2020-09-05</td>\n",
       "      <td>left_only</td>\n",
       "    </tr>\n",
       "    <tr>\n",
       "      <th>2722137</th>\n",
       "      <td>99991680</td>\n",
       "      <td>NaN</td>\n",
       "      <td>NaN</td>\n",
       "      <td>2020-09-05</td>\n",
       "      <td>left_only</td>\n",
       "    </tr>\n",
       "    <tr>\n",
       "      <th>2722138</th>\n",
       "      <td>99994105</td>\n",
       "      <td>NaN</td>\n",
       "      <td>NaN</td>\n",
       "      <td>2020-09-05</td>\n",
       "      <td>left_only</td>\n",
       "    </tr>\n",
       "  </tbody>\n",
       "</table>\n",
       "<p>1459175 rows × 5 columns</p>\n",
       "</div>"
      ],
      "text/plain": [
       "         short_user_id registration_date Last_request_date   load_date  \\\n",
       "592           10005257               NaN               NaN  2020-06-30   \n",
       "593           10012488               NaN               NaN  2020-06-30   \n",
       "594           10012582               NaN               NaN  2020-06-30   \n",
       "595           10017832               NaN               NaN  2020-06-30   \n",
       "596           10021571               NaN               NaN  2020-06-30   \n",
       "...                ...               ...               ...         ...   \n",
       "2722133       99976911               NaN               NaN  2020-09-05   \n",
       "2722134       99985188               NaN               NaN  2020-09-05   \n",
       "2722135       99985523               NaN               NaN  2020-09-05   \n",
       "2722137       99991680               NaN               NaN  2020-09-05   \n",
       "2722138       99994105               NaN               NaN  2020-09-05   \n",
       "\n",
       "            _merge  \n",
       "592      left_only  \n",
       "593      left_only  \n",
       "594      left_only  \n",
       "595      left_only  \n",
       "596      left_only  \n",
       "...            ...  \n",
       "2722133  left_only  \n",
       "2722134  left_only  \n",
       "2722135  left_only  \n",
       "2722137  left_only  \n",
       "2722138  left_only  \n",
       "\n",
       "[1459175 rows x 5 columns]"
      ]
     },
     "execution_count": 115,
     "metadata": {},
     "output_type": "execute_result"
    }
   ],
   "source": [
    "CMT_Heartbeat_Missing[CMT_Heartbeat_Missing['_merge']=='left_only']"
   ]
  },
  {
   "cell_type": "code",
   "execution_count": 113,
   "metadata": {},
   "outputs": [],
   "source": [
    "export = CMT_Heartbeat_Missing[CMT_Heartbeat_Missing['_merge']=='left_only']"
   ]
  },
  {
   "cell_type": "code",
   "execution_count": 114,
   "metadata": {},
   "outputs": [],
   "source": [
    "export.to_csv('/home/thoms70/notebooks/Heartbeat_Missing_Data3252021.csv', index = False)"
   ]
  },
  {
   "cell_type": "code",
   "execution_count": 112,
   "metadata": {},
   "outputs": [
    {
     "data": {
      "text/html": [
       "<div>\n",
       "<style scoped>\n",
       "    .dataframe tbody tr th:only-of-type {\n",
       "        vertical-align: middle;\n",
       "    }\n",
       "\n",
       "    .dataframe tbody tr th {\n",
       "        vertical-align: top;\n",
       "    }\n",
       "\n",
       "    .dataframe thead th {\n",
       "        text-align: right;\n",
       "    }\n",
       "</style>\n",
       "<table border=\"1\" class=\"dataframe\">\n",
       "  <thead>\n",
       "    <tr style=\"text-align: right;\">\n",
       "      <th></th>\n",
       "      <th>short_user_id</th>\n",
       "      <th>registration_date</th>\n",
       "      <th>Last_request_date</th>\n",
       "      <th>load_date</th>\n",
       "    </tr>\n",
       "  </thead>\n",
       "  <tbody>\n",
       "    <tr>\n",
       "      <th>593</th>\n",
       "      <td>10012488</td>\n",
       "      <td>NaN</td>\n",
       "      <td>NaN</td>\n",
       "      <td>2020-06-30</td>\n",
       "    </tr>\n",
       "    <tr>\n",
       "      <th>11042</th>\n",
       "      <td>10012488</td>\n",
       "      <td>NaN</td>\n",
       "      <td>NaN</td>\n",
       "      <td>2020-07-24</td>\n",
       "    </tr>\n",
       "    <tr>\n",
       "      <th>15412</th>\n",
       "      <td>10012488</td>\n",
       "      <td>NaN</td>\n",
       "      <td>NaN</td>\n",
       "      <td>2020-08-03</td>\n",
       "    </tr>\n",
       "    <tr>\n",
       "      <th>19782</th>\n",
       "      <td>10012488</td>\n",
       "      <td>NaN</td>\n",
       "      <td>NaN</td>\n",
       "      <td>2020-07-14</td>\n",
       "    </tr>\n",
       "    <tr>\n",
       "      <th>24151</th>\n",
       "      <td>10012488</td>\n",
       "      <td>NaN</td>\n",
       "      <td>NaN</td>\n",
       "      <td>2020-07-05</td>\n",
       "    </tr>\n",
       "    <tr>\n",
       "      <th>...</th>\n",
       "      <td>...</td>\n",
       "      <td>...</td>\n",
       "      <td>...</td>\n",
       "      <td>...</td>\n",
       "    </tr>\n",
       "    <tr>\n",
       "      <th>1155990</th>\n",
       "      <td>10012488</td>\n",
       "      <td>NaN</td>\n",
       "      <td>NaN</td>\n",
       "      <td>2020-08-22</td>\n",
       "    </tr>\n",
       "    <tr>\n",
       "      <th>1356719</th>\n",
       "      <td>10012488</td>\n",
       "      <td>NaN</td>\n",
       "      <td>NaN</td>\n",
       "      <td>2020-08-12</td>\n",
       "    </tr>\n",
       "    <tr>\n",
       "      <th>1446766</th>\n",
       "      <td>10012488</td>\n",
       "      <td>NaN</td>\n",
       "      <td>NaN</td>\n",
       "      <td>2020-08-15</td>\n",
       "    </tr>\n",
       "    <tr>\n",
       "      <th>1942231</th>\n",
       "      <td>10012488</td>\n",
       "      <td>NaN</td>\n",
       "      <td>NaN</td>\n",
       "      <td>2020-08-17</td>\n",
       "    </tr>\n",
       "    <tr>\n",
       "      <th>2160907</th>\n",
       "      <td>10012488</td>\n",
       "      <td>NaN</td>\n",
       "      <td>NaN</td>\n",
       "      <td>2020-08-23</td>\n",
       "    </tr>\n",
       "  </tbody>\n",
       "</table>\n",
       "<p>63 rows × 4 columns</p>\n",
       "</div>"
      ],
      "text/plain": [
       "         short_user_id registration_date Last_request_date   load_date\n",
       "593           10012488               NaN               NaN  2020-06-30\n",
       "11042         10012488               NaN               NaN  2020-07-24\n",
       "15412         10012488               NaN               NaN  2020-08-03\n",
       "19782         10012488               NaN               NaN  2020-07-14\n",
       "24151         10012488               NaN               NaN  2020-07-05\n",
       "...                ...               ...               ...         ...\n",
       "1155990       10012488               NaN               NaN  2020-08-22\n",
       "1356719       10012488               NaN               NaN  2020-08-12\n",
       "1446766       10012488               NaN               NaN  2020-08-15\n",
       "1942231       10012488               NaN               NaN  2020-08-17\n",
       "2160907       10012488               NaN               NaN  2020-08-23\n",
       "\n",
       "[63 rows x 4 columns]"
      ]
     },
     "execution_count": 112,
     "metadata": {},
     "output_type": "execute_result"
    }
   ],
   "source": [
    "test = CMT_Heartbeat[CMT_Heartbeat['short_user_id']==10012488]\n",
    "test"
   ]
  },
  {
   "cell_type": "code",
   "execution_count": null,
   "metadata": {},
   "outputs": [],
   "source": []
  },
  {
   "cell_type": "code",
   "execution_count": null,
   "metadata": {},
   "outputs": [],
   "source": []
  }
 ],
 "metadata": {
  "kernelspec": {
   "display_name": "Python 3",
   "language": "python",
   "name": "python3"
  },
  "language_info": {
   "codemirror_mode": {
    "name": "ipython",
    "version": 3
   },
   "file_extension": ".py",
   "mimetype": "text/x-python",
   "name": "python",
   "nbconvert_exporter": "python",
   "pygments_lexer": "ipython3",
   "version": "3.7.4"
  },
  "toc": {
   "base_numbering": 1,
   "nav_menu": {},
   "number_sections": true,
   "sideBar": true,
   "skip_h1_title": false,
   "title_cell": "Table of Contents",
   "title_sidebar": "Contents",
   "toc_cell": false,
   "toc_position": {},
   "toc_section_display": true,
   "toc_window_display": true
  }
 },
 "nbformat": 4,
 "nbformat_minor": 2
}
