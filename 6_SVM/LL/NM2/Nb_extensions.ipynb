{
 "cells": [
  {
   "cell_type": "markdown",
   "id": "fallen-enforcement",
   "metadata": {},
   "source": [
    "## Nb extentions"
   ]
  },
  {
   "cell_type": "markdown",
   "id": "yellow-elder",
   "metadata": {},
   "source": [
    "### Code"
   ]
  },
  {
   "cell_type": "markdown",
   "id": "correct-nerve",
   "metadata": {},
   "source": [
    "conda install -c conda-forge jupyter_contrib_nbextensions"
   ]
  },
  {
   "cell_type": "markdown",
   "id": "informational-elder",
   "metadata": {},
   "source": [
    "### Link"
   ]
  },
  {
   "cell_type": "markdown",
   "id": "cathedral-circulation",
   "metadata": {},
   "source": [
    "https://github.com/ipython-contrib/jupyter_contrib_nbextensions"
   ]
  },
  {
   "cell_type": "markdown",
   "id": "visible-voltage",
   "metadata": {},
   "source": [
    "| Week Ending | State | House       | Carter | Grey  | Bailey   | Sloane | Cost Factor |\n",
    "|-------------|-------|-------------|--------|-------|----------|--------|-------------|\n",
    "| 1/1/18      | AL    | 265.0220523 | 298    | 58129 | 78976.57 | 39673  | 1.213153    |\n",
    "| 1/8/18      | AL    | 421.5451436 | 474    | 59791 | 199812.4 | 94856  | 2.884635    |\n",
    "| 1/15/18     | AL    | 450.0038875 | 506    | 62678 | 227702   | 100072 | 3.180266    |\n",
    "| 1/22/18     | AL    | 314.8248541 | 354    | 60562 | 111448   | 44279  | 1.755642    |"
   ]
  },
  {
   "cell_type": "code",
   "execution_count": 6,
   "id": "canadian-metallic",
   "metadata": {},
   "outputs": [],
   "source": [
    "import numpy as np"
   ]
  },
  {
   "cell_type": "code",
   "execution_count": 7,
   "id": "marked-substitute",
   "metadata": {},
   "outputs": [],
   "source": [
    "ex_1 = ['song', 'swing', 'big', 'building']\n",
    "\n",
    "l = list()\n",
    "for i in ex_1:\n",
    "    l.append(len(i))"
   ]
  },
  {
   "cell_type": "code",
   "execution_count": 8,
   "id": "initial-drunk",
   "metadata": {},
   "outputs": [
    {
     "data": {
      "text/plain": [
       "[4, 5, 3, 8]"
      ]
     },
     "execution_count": 8,
     "metadata": {},
     "output_type": "execute_result"
    }
   ],
   "source": [
    "l"
   ]
  },
  {
   "cell_type": "code",
   "execution_count": 16,
   "id": "parliamentary-indonesia",
   "metadata": {},
   "outputs": [
    {
     "name": "stdout",
     "output_type": "stream",
     "text": [
      "[[4 4 4 4 5 5 5 5]\n",
      " [3 3 3 3 8 8 8 8]]\n"
     ]
    }
   ],
   "source": [
    "rp = np.repeat(l, 4)\n",
    "print(rp.reshape(2,8))"
   ]
  },
  {
   "cell_type": "code",
   "execution_count": 20,
   "id": "challenging-france",
   "metadata": {},
   "outputs": [
    {
     "data": {
      "text/plain": [
       "array([4, 4, 4, 4, 5, 5, 5, 5, 3, 3, 3, 3, 8, 8, 8, 8])"
      ]
     },
     "execution_count": 20,
     "metadata": {},
     "output_type": "execute_result"
    }
   ],
   "source": [
    "rp.reshape(2,8).reshape(-1) ## Flatten it"
   ]
  },
  {
   "cell_type": "code",
   "execution_count": 19,
   "id": "postal-chinese",
   "metadata": {},
   "outputs": [
    {
     "name": "stdout",
     "output_type": "stream",
     "text": [
      "[4 5 3 8 4 5 3 8 4 5 3 8 4 5 3 8]\n"
     ]
    }
   ],
   "source": [
    "print(np.tile(l, 4))"
   ]
  },
  {
   "cell_type": "code",
   "execution_count": 17,
   "id": "demographic-entrance",
   "metadata": {},
   "outputs": [
    {
     "data": {
      "text/plain": [
       "1.8708286933869707"
      ]
     },
     "execution_count": 17,
     "metadata": {},
     "output_type": "execute_result"
    }
   ],
   "source": [
    "np.std(rp)"
   ]
  },
  {
   "cell_type": "code",
   "execution_count": 18,
   "id": "duplicate-steal",
   "metadata": {},
   "outputs": [
    {
     "data": {
      "text/plain": [
       "['song',\n",
       " 'swing',\n",
       " 'big',\n",
       " 'building',\n",
       " 'song',\n",
       " 'swing',\n",
       " 'big',\n",
       " 'building',\n",
       " 'song',\n",
       " 'swing',\n",
       " 'big',\n",
       " 'building',\n",
       " 'song',\n",
       " 'swing',\n",
       " 'big',\n",
       " 'building']"
      ]
     },
     "execution_count": 18,
     "metadata": {},
     "output_type": "execute_result"
    }
   ],
   "source": [
    "ex_1 * 4"
   ]
  },
  {
   "cell_type": "code",
   "execution_count": 21,
   "id": "organizational-looking",
   "metadata": {},
   "outputs": [
    {
     "data": {
      "text/plain": [
       "['nope', 'nope', 'nope', 3, 4, 5, 6, 7, 'nope', 'nope']"
      ]
     },
     "execution_count": 21,
     "metadata": {},
     "output_type": "execute_result"
    }
   ],
   "source": [
    "[value if(2 < value < 8) else 'nope' for value in range(10)]"
   ]
  },
  {
   "cell_type": "code",
   "execution_count": null,
   "id": "august-electronics",
   "metadata": {},
   "outputs": [],
   "source": []
  }
 ],
 "metadata": {
  "kernelspec": {
   "display_name": "Python 3",
   "language": "python",
   "name": "python3"
  },
  "language_info": {
   "codemirror_mode": {
    "name": "ipython",
    "version": 3
   },
   "file_extension": ".py",
   "mimetype": "text/x-python",
   "name": "python",
   "nbconvert_exporter": "python",
   "pygments_lexer": "ipython3",
   "version": "3.7.4"
  },
  "toc": {
   "base_numbering": 1,
   "nav_menu": {},
   "number_sections": true,
   "sideBar": true,
   "skip_h1_title": false,
   "title_cell": "Table of Contents",
   "title_sidebar": "Contents",
   "toc_cell": false,
   "toc_position": {},
   "toc_section_display": true,
   "toc_window_display": true
  }
 },
 "nbformat": 4,
 "nbformat_minor": 5
}
